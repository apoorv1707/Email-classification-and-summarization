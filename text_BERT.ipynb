{
  "nbformat": 4,
  "nbformat_minor": 0,
  "metadata": {
    "colab": {
      "provenance": []
    },
    "kernelspec": {
      "name": "python3",
      "display_name": "Python 3"
    },
    "language_info": {
      "name": "python"
    }
  },
  "cells": [
    {
      "cell_type": "code",
      "execution_count": null,
      "metadata": {
        "id": "vjbkxR-GhsPX"
      },
      "outputs": [],
      "source": [
        "import pandas as pd\n",
        "import numpy as np\n",
        "import matplotlib.pyplot as plt"
      ]
    },
    {
      "cell_type": "code",
      "source": [
        "from google.colab import drive\n",
        "drive.mount('/content/drive')"
      ],
      "metadata": {
        "colab": {
          "base_uri": "https://localhost:8080/"
        },
        "id": "vAmgB0WClU-_",
        "outputId": "9ae049bf-af43-4ae5-e4e3-cd5272d96e87"
      },
      "execution_count": null,
      "outputs": [
        {
          "output_type": "stream",
          "name": "stdout",
          "text": [
            "Mounted at /content/drive\n"
          ]
        }
      ]
    },
    {
      "cell_type": "code",
      "source": [
        "#Reading all files and storing it into a single variable - business\n",
        "business = {}\n",
        "for i in range(100):\n",
        "  path = \"/content/drive/My Drive/DL_project/business/business_\"+str(i+1)+\".txt\"\n",
        "  f = open(path, encoding=\"utf8\", errors='ignore')\n",
        "  text = f.read()\n",
        "  business[text] = \"business\" "
      ],
      "metadata": {
        "id": "4BHzG19Plep8"
      },
      "execution_count": null,
      "outputs": []
    },
    {
      "cell_type": "code",
      "source": [
        "#Reading all files and storing it into a single variable - entertainment\n",
        "entertainment = {}\n",
        "for i in range(100):\n",
        "  path = \"/content/drive/My Drive/DL_project/entertainment/entertainment_\"+str(i+1)+\".txt\"\n",
        "  f = open(path, encoding=\"utf8\", errors='ignore')\n",
        "  text = f.read()\n",
        "  entertainment[text] = \"entertainment\" "
      ],
      "metadata": {
        "id": "AwsAAgeomf9q"
      },
      "execution_count": null,
      "outputs": []
    },
    {
      "cell_type": "code",
      "source": [
        "#Reading all files and storing it into a single variable - food\n",
        "food = {}\n",
        "for i in range(100):\n",
        "  path = \"/content/drive/My Drive/DL_project/food/food_\"+str(i+1)+\".txt\"\n",
        "  f = open(path, encoding=\"utf8\", errors='ignore')\n",
        "  text = f.read()\n",
        "  food[text] = \"food\""
      ],
      "metadata": {
        "id": "IeqmjhcFmg_7"
      },
      "execution_count": null,
      "outputs": []
    },
    {
      "cell_type": "code",
      "source": [
        "#Reading all files and storing it into a single variable - graphics\n",
        "graphics = {}\n",
        "for i in range(100):\n",
        "  path = \"/content/drive/My Drive/DL_project/graphics/graphics_\"+str(i+1)+\".txt\"\n",
        "  f = open(path, encoding=\"utf8\", errors='ignore')\n",
        "  text = f.read()\n",
        "  graphics[text] = \"graphics\" "
      ],
      "metadata": {
        "id": "tQ2cK4K8nQWB"
      },
      "execution_count": null,
      "outputs": []
    },
    {
      "cell_type": "code",
      "source": [
        "#Reading all files and storing it into a single variable - historical\n",
        "historical = {}\n",
        "for i in range(100):\n",
        "  path = \"/content/drive/My Drive/DL_project/historical/historical_\"+str(i+1)+\".txt\"\n",
        "  f = open(path, encoding=\"utf8\", errors='ignore')\n",
        "  text = f.read()\n",
        "  historical[text] = \"historical\" "
      ],
      "metadata": {
        "id": "dc2-pZjankpO"
      },
      "execution_count": null,
      "outputs": []
    },
    {
      "cell_type": "code",
      "source": [
        "#Reading all files and storing it into a single variable - space\n",
        "space = {}\n",
        "for i in range(100):\n",
        "  path = \"/content/drive/My Drive/DL_project/space/space_\"+str(i+1)+\".txt\"\n",
        "  f = open(path, encoding=\"utf8\", errors='ignore')\n",
        "  text = f.read()\n",
        "  space[text] = \"space\""
      ],
      "metadata": {
        "id": "1hnAx8qdnud3"
      },
      "execution_count": null,
      "outputs": []
    },
    {
      "cell_type": "code",
      "source": [
        "#Reading all files and storing it into a single variable - sport\n",
        "sport = {}\n",
        "for i in range(100):\n",
        "  path = \"/content/drive/My Drive/DL_project/sport/sport_\"+str(i+1)+\".txt\"\n",
        "  f = open(path, encoding=\"utf8\", errors='ignore')\n",
        "  text = f.read()\n",
        "  sport[text] = \"sport\" "
      ],
      "metadata": {
        "id": "DtyuGLBhnvOm"
      },
      "execution_count": null,
      "outputs": []
    },
    {
      "cell_type": "code",
      "source": [
        "#Reading all files and storing it into a single variable - technologie\n",
        "technologie = {}\n",
        "for i in range(100):\n",
        "  path = \"/content/drive/My Drive/DL_project/technologie/technologie_\"+str(i+1)+\".txt\"\n",
        "  f = open(path, encoding=\"utf8\", errors='ignore')\n",
        "  text = f.read()\n",
        "  technologie[text] = \"technologie\""
      ],
      "metadata": {
        "id": "pSYr4KxbnvMG"
      },
      "execution_count": null,
      "outputs": []
    },
    {
      "cell_type": "code",
      "source": [
        "#Reading all files and storing it into a single variable - medical\n",
        "medical = {}\n",
        "for i in range(100):\n",
        "  path = \"/content/drive/My Drive/DL_project/medical/medical_\"+str(i+1)+\".txt\"\n",
        "  f = open(path, encoding=\"utf8\", errors='ignore')\n",
        "  text = f.read()\n",
        "  medical[text] = \"medical\" "
      ],
      "metadata": {
        "id": "xZ_1ykkjnvJI"
      },
      "execution_count": null,
      "outputs": []
    },
    {
      "cell_type": "code",
      "source": [
        "#Reading all files and storing it into a single variable - politics\n",
        "politics = {}\n",
        "for i in range(100):\n",
        "  path = \"/content/drive/My Drive/DL_project/politics/politics_\"+str(i+1)+\".txt\"\n",
        "  f = open(path, encoding=\"utf8\", errors='ignore')\n",
        "  text = f.read()\n",
        "  politics[text] = \"politics\" "
      ],
      "metadata": {
        "id": "xN9UudYHqmN2"
      },
      "execution_count": null,
      "outputs": []
    },
    {
      "cell_type": "code",
      "source": [
        "final = {**business,**entertainment,**food,**graphics,**historical,**medical,**politics,**space,**sport,**technologie}"
      ],
      "metadata": {
        "id": "uYBS4PqExcSk"
      },
      "execution_count": null,
      "outputs": []
    },
    {
      "cell_type": "code",
      "source": [
        "textdocs = pd.DataFrame(final.items(), columns=['text', 'category'])"
      ],
      "metadata": {
        "id": "2B9ymc0ox_uO"
      },
      "execution_count": null,
      "outputs": []
    },
    {
      "cell_type": "code",
      "source": [
        "list(medical.keys())[0]"
      ],
      "metadata": {
        "colab": {
          "base_uri": "https://localhost:8080/",
          "height": 143
        },
        "id": "k5IskM-P3YNW",
        "outputId": "7505474d-4307-4b37-bb09-ce65939fa3de"
      },
      "execution_count": null,
      "outputs": [
        {
          "output_type": "execute_result",
          "data": {
            "text/plain": [
              "'I have a 42 yr old male friend, misdiagnosed as having\\n osteopporosis for two years, who recently found out that his\\n illness is the rare Gaucher\\'s disease. \\nGaucher\\'s disease symptoms include: brittle bones (he lost 9 \\n inches off his hieght); enlarged liver and spleen; internal\\n bleeding; and fatigue (all the time). The problem (in Type 1) is\\n attributed to a genetic mutation where there is a lack of the\\n enzyme glucocerebroside in macrophages so the cells swell up.\\n This will eventually cause death.\\nEnyzme replacement therapy has been successfully developed and\\n approved by the FDA in the last few years so that those patients\\n administered with this drug (called Ceredase) report a remarkable\\n improvement in their condition. Ceredase, which is manufactured\\n by biotech biggy company--Genzyme--costs the patient $380,000\\n per year. Gaucher\\'s disease has justifyably been called \"the most\\n expensive disease in the world\".\\nI have researched Gaucher\\'s disease at the library but am relying\\n on netlanders to provide me with any additional information:\\n**news, stories, reports\\n**people you know with this disease\\n**ideas, articles about Genzyme Corp, how to get a hold of\\n   enough money to buy some, programs available to help with\\n   costs.\\n**Basically ANY HELP YOU CAN OFFER\\nThanks so very much!\\nDeborah \\n'"
            ],
            "application/vnd.google.colaboratory.intrinsic+json": {
              "type": "string"
            }
          },
          "metadata": {},
          "execution_count": 15
        }
      ]
    },
    {
      "cell_type": "code",
      "source": [
        "import re\n",
        "def removechar(text1):\n",
        "  string = re.sub('[^a-zA-Z.\\d\\s]', '', text1)\n",
        "  return(string)"
      ],
      "metadata": {
        "id": "oOGDBRSE5Spj"
      },
      "execution_count": null,
      "outputs": []
    },
    {
      "cell_type": "code",
      "source": [
        "textdocs.head()"
      ],
      "metadata": {
        "colab": {
          "base_uri": "https://localhost:8080/",
          "height": 206
        },
        "id": "OFwV25j1uYSE",
        "outputId": "f445db5c-1b28-4334-c4c3-8fbae9dbc5d1"
      },
      "execution_count": null,
      "outputs": [
        {
          "output_type": "execute_result",
          "data": {
            "text/plain": [
              "                                                text  category\n",
              "0  Lufthansa flies back to profit\\n\\nGerman airli...  business\n",
              "1  Japanese growth grinds to a halt\\n\\nGrowth in ...  business\n",
              "2  WorldCom director admits lying\\n\\nThe former c...  business\n",
              "3  Glaxo aims high after profit fall\\n\\nGlaxoSmit...  business\n",
              "4  Peugeot deal boosts Mitsubishi\\n\\nStruggling J...  business"
            ],
            "text/html": [
              "\n",
              "  <div id=\"df-233a6265-c1e6-41de-a3fd-8359198beb61\">\n",
              "    <div class=\"colab-df-container\">\n",
              "      <div>\n",
              "<style scoped>\n",
              "    .dataframe tbody tr th:only-of-type {\n",
              "        vertical-align: middle;\n",
              "    }\n",
              "\n",
              "    .dataframe tbody tr th {\n",
              "        vertical-align: top;\n",
              "    }\n",
              "\n",
              "    .dataframe thead th {\n",
              "        text-align: right;\n",
              "    }\n",
              "</style>\n",
              "<table border=\"1\" class=\"dataframe\">\n",
              "  <thead>\n",
              "    <tr style=\"text-align: right;\">\n",
              "      <th></th>\n",
              "      <th>text</th>\n",
              "      <th>category</th>\n",
              "    </tr>\n",
              "  </thead>\n",
              "  <tbody>\n",
              "    <tr>\n",
              "      <th>0</th>\n",
              "      <td>Lufthansa flies back to profit\\n\\nGerman airli...</td>\n",
              "      <td>business</td>\n",
              "    </tr>\n",
              "    <tr>\n",
              "      <th>1</th>\n",
              "      <td>Japanese growth grinds to a halt\\n\\nGrowth in ...</td>\n",
              "      <td>business</td>\n",
              "    </tr>\n",
              "    <tr>\n",
              "      <th>2</th>\n",
              "      <td>WorldCom director admits lying\\n\\nThe former c...</td>\n",
              "      <td>business</td>\n",
              "    </tr>\n",
              "    <tr>\n",
              "      <th>3</th>\n",
              "      <td>Glaxo aims high after profit fall\\n\\nGlaxoSmit...</td>\n",
              "      <td>business</td>\n",
              "    </tr>\n",
              "    <tr>\n",
              "      <th>4</th>\n",
              "      <td>Peugeot deal boosts Mitsubishi\\n\\nStruggling J...</td>\n",
              "      <td>business</td>\n",
              "    </tr>\n",
              "  </tbody>\n",
              "</table>\n",
              "</div>\n",
              "      <button class=\"colab-df-convert\" onclick=\"convertToInteractive('df-233a6265-c1e6-41de-a3fd-8359198beb61')\"\n",
              "              title=\"Convert this dataframe to an interactive table.\"\n",
              "              style=\"display:none;\">\n",
              "        \n",
              "  <svg xmlns=\"http://www.w3.org/2000/svg\" height=\"24px\"viewBox=\"0 0 24 24\"\n",
              "       width=\"24px\">\n",
              "    <path d=\"M0 0h24v24H0V0z\" fill=\"none\"/>\n",
              "    <path d=\"M18.56 5.44l.94 2.06.94-2.06 2.06-.94-2.06-.94-.94-2.06-.94 2.06-2.06.94zm-11 1L8.5 8.5l.94-2.06 2.06-.94-2.06-.94L8.5 2.5l-.94 2.06-2.06.94zm10 10l.94 2.06.94-2.06 2.06-.94-2.06-.94-.94-2.06-.94 2.06-2.06.94z\"/><path d=\"M17.41 7.96l-1.37-1.37c-.4-.4-.92-.59-1.43-.59-.52 0-1.04.2-1.43.59L10.3 9.45l-7.72 7.72c-.78.78-.78 2.05 0 2.83L4 21.41c.39.39.9.59 1.41.59.51 0 1.02-.2 1.41-.59l7.78-7.78 2.81-2.81c.8-.78.8-2.07 0-2.86zM5.41 20L4 18.59l7.72-7.72 1.47 1.35L5.41 20z\"/>\n",
              "  </svg>\n",
              "      </button>\n",
              "      \n",
              "  <style>\n",
              "    .colab-df-container {\n",
              "      display:flex;\n",
              "      flex-wrap:wrap;\n",
              "      gap: 12px;\n",
              "    }\n",
              "\n",
              "    .colab-df-convert {\n",
              "      background-color: #E8F0FE;\n",
              "      border: none;\n",
              "      border-radius: 50%;\n",
              "      cursor: pointer;\n",
              "      display: none;\n",
              "      fill: #1967D2;\n",
              "      height: 32px;\n",
              "      padding: 0 0 0 0;\n",
              "      width: 32px;\n",
              "    }\n",
              "\n",
              "    .colab-df-convert:hover {\n",
              "      background-color: #E2EBFA;\n",
              "      box-shadow: 0px 1px 2px rgba(60, 64, 67, 0.3), 0px 1px 3px 1px rgba(60, 64, 67, 0.15);\n",
              "      fill: #174EA6;\n",
              "    }\n",
              "\n",
              "    [theme=dark] .colab-df-convert {\n",
              "      background-color: #3B4455;\n",
              "      fill: #D2E3FC;\n",
              "    }\n",
              "\n",
              "    [theme=dark] .colab-df-convert:hover {\n",
              "      background-color: #434B5C;\n",
              "      box-shadow: 0px 1px 3px 1px rgba(0, 0, 0, 0.15);\n",
              "      filter: drop-shadow(0px 1px 2px rgba(0, 0, 0, 0.3));\n",
              "      fill: #FFFFFF;\n",
              "    }\n",
              "  </style>\n",
              "\n",
              "      <script>\n",
              "        const buttonEl =\n",
              "          document.querySelector('#df-233a6265-c1e6-41de-a3fd-8359198beb61 button.colab-df-convert');\n",
              "        buttonEl.style.display =\n",
              "          google.colab.kernel.accessAllowed ? 'block' : 'none';\n",
              "\n",
              "        async function convertToInteractive(key) {\n",
              "          const element = document.querySelector('#df-233a6265-c1e6-41de-a3fd-8359198beb61');\n",
              "          const dataTable =\n",
              "            await google.colab.kernel.invokeFunction('convertToInteractive',\n",
              "                                                     [key], {});\n",
              "          if (!dataTable) return;\n",
              "\n",
              "          const docLinkHtml = 'Like what you see? Visit the ' +\n",
              "            '<a target=\"_blank\" href=https://colab.research.google.com/notebooks/data_table.ipynb>data table notebook</a>'\n",
              "            + ' to learn more about interactive tables.';\n",
              "          element.innerHTML = '';\n",
              "          dataTable['output_type'] = 'display_data';\n",
              "          await google.colab.output.renderOutput(dataTable, element);\n",
              "          const docLink = document.createElement('div');\n",
              "          docLink.innerHTML = docLinkHtml;\n",
              "          element.appendChild(docLink);\n",
              "        }\n",
              "      </script>\n",
              "    </div>\n",
              "  </div>\n",
              "  "
            ]
          },
          "metadata": {},
          "execution_count": 17
        }
      ]
    },
    {
      "cell_type": "code",
      "source": [
        "textdocs['cleantext'] = textdocs['text'].map(lambda x : x.lower())"
      ],
      "metadata": {
        "id": "TkX-XlteyiDO"
      },
      "execution_count": null,
      "outputs": []
    },
    {
      "cell_type": "code",
      "source": [
        "textdocs['cleantext'] = textdocs['cleantext'].map(lambda x : removechar(x))"
      ],
      "metadata": {
        "id": "NI8VsqFA6d0m"
      },
      "execution_count": null,
      "outputs": []
    },
    {
      "cell_type": "code",
      "source": [
        "textdocs['cleantext'] = textdocs['cleantext'].map(lambda x : x.replace(\"\\n\\n\",\"\\n\"))"
      ],
      "metadata": {
        "id": "XYZzsXdK6hFy"
      },
      "execution_count": null,
      "outputs": []
    },
    {
      "cell_type": "code",
      "source": [
        "textdocs['cleantext'] = textdocs['cleantext'].map(lambda x : x.replace(\"\\n\",\". \"))"
      ],
      "metadata": {
        "id": "O0Ynz1Xu6ttR"
      },
      "execution_count": null,
      "outputs": []
    },
    {
      "cell_type": "code",
      "source": [
        "textdocs['cleantext'] = textdocs['cleantext'].map(lambda x : x.replace(\"..\",\".\"))"
      ],
      "metadata": {
        "id": "iGVSCflr7Hym"
      },
      "execution_count": null,
      "outputs": []
    },
    {
      "cell_type": "code",
      "source": [
        "textdocs.head()"
      ],
      "metadata": {
        "colab": {
          "base_uri": "https://localhost:8080/",
          "height": 206
        },
        "id": "fmBoC0c97Lfc",
        "outputId": "ceee2154-74c4-4d41-e53f-223737e56eb6"
      },
      "execution_count": null,
      "outputs": [
        {
          "output_type": "execute_result",
          "data": {
            "text/plain": [
              "                                                text  category  \\\n",
              "0  Lufthansa flies back to profit\\n\\nGerman airli...  business   \n",
              "1  Japanese growth grinds to a halt\\n\\nGrowth in ...  business   \n",
              "2  WorldCom director admits lying\\n\\nThe former c...  business   \n",
              "3  Glaxo aims high after profit fall\\n\\nGlaxoSmit...  business   \n",
              "4  Peugeot deal boosts Mitsubishi\\n\\nStruggling J...  business   \n",
              "\n",
              "                                           cleantext  \n",
              "0  lufthansa flies back to profit. german airline...  \n",
              "1  japanese growth grinds to a halt. growth in ja...  \n",
              "2  worldcom director admits lying. the former chi...  \n",
              "3  glaxo aims high after profit fall. glaxosmithk...  \n",
              "4  peugeot deal boosts mitsubishi. struggling jap...  "
            ],
            "text/html": [
              "\n",
              "  <div id=\"df-a72abeea-7081-49cb-acc0-c3c8ede2614c\">\n",
              "    <div class=\"colab-df-container\">\n",
              "      <div>\n",
              "<style scoped>\n",
              "    .dataframe tbody tr th:only-of-type {\n",
              "        vertical-align: middle;\n",
              "    }\n",
              "\n",
              "    .dataframe tbody tr th {\n",
              "        vertical-align: top;\n",
              "    }\n",
              "\n",
              "    .dataframe thead th {\n",
              "        text-align: right;\n",
              "    }\n",
              "</style>\n",
              "<table border=\"1\" class=\"dataframe\">\n",
              "  <thead>\n",
              "    <tr style=\"text-align: right;\">\n",
              "      <th></th>\n",
              "      <th>text</th>\n",
              "      <th>category</th>\n",
              "      <th>cleantext</th>\n",
              "    </tr>\n",
              "  </thead>\n",
              "  <tbody>\n",
              "    <tr>\n",
              "      <th>0</th>\n",
              "      <td>Lufthansa flies back to profit\\n\\nGerman airli...</td>\n",
              "      <td>business</td>\n",
              "      <td>lufthansa flies back to profit. german airline...</td>\n",
              "    </tr>\n",
              "    <tr>\n",
              "      <th>1</th>\n",
              "      <td>Japanese growth grinds to a halt\\n\\nGrowth in ...</td>\n",
              "      <td>business</td>\n",
              "      <td>japanese growth grinds to a halt. growth in ja...</td>\n",
              "    </tr>\n",
              "    <tr>\n",
              "      <th>2</th>\n",
              "      <td>WorldCom director admits lying\\n\\nThe former c...</td>\n",
              "      <td>business</td>\n",
              "      <td>worldcom director admits lying. the former chi...</td>\n",
              "    </tr>\n",
              "    <tr>\n",
              "      <th>3</th>\n",
              "      <td>Glaxo aims high after profit fall\\n\\nGlaxoSmit...</td>\n",
              "      <td>business</td>\n",
              "      <td>glaxo aims high after profit fall. glaxosmithk...</td>\n",
              "    </tr>\n",
              "    <tr>\n",
              "      <th>4</th>\n",
              "      <td>Peugeot deal boosts Mitsubishi\\n\\nStruggling J...</td>\n",
              "      <td>business</td>\n",
              "      <td>peugeot deal boosts mitsubishi. struggling jap...</td>\n",
              "    </tr>\n",
              "  </tbody>\n",
              "</table>\n",
              "</div>\n",
              "      <button class=\"colab-df-convert\" onclick=\"convertToInteractive('df-a72abeea-7081-49cb-acc0-c3c8ede2614c')\"\n",
              "              title=\"Convert this dataframe to an interactive table.\"\n",
              "              style=\"display:none;\">\n",
              "        \n",
              "  <svg xmlns=\"http://www.w3.org/2000/svg\" height=\"24px\"viewBox=\"0 0 24 24\"\n",
              "       width=\"24px\">\n",
              "    <path d=\"M0 0h24v24H0V0z\" fill=\"none\"/>\n",
              "    <path d=\"M18.56 5.44l.94 2.06.94-2.06 2.06-.94-2.06-.94-.94-2.06-.94 2.06-2.06.94zm-11 1L8.5 8.5l.94-2.06 2.06-.94-2.06-.94L8.5 2.5l-.94 2.06-2.06.94zm10 10l.94 2.06.94-2.06 2.06-.94-2.06-.94-.94-2.06-.94 2.06-2.06.94z\"/><path d=\"M17.41 7.96l-1.37-1.37c-.4-.4-.92-.59-1.43-.59-.52 0-1.04.2-1.43.59L10.3 9.45l-7.72 7.72c-.78.78-.78 2.05 0 2.83L4 21.41c.39.39.9.59 1.41.59.51 0 1.02-.2 1.41-.59l7.78-7.78 2.81-2.81c.8-.78.8-2.07 0-2.86zM5.41 20L4 18.59l7.72-7.72 1.47 1.35L5.41 20z\"/>\n",
              "  </svg>\n",
              "      </button>\n",
              "      \n",
              "  <style>\n",
              "    .colab-df-container {\n",
              "      display:flex;\n",
              "      flex-wrap:wrap;\n",
              "      gap: 12px;\n",
              "    }\n",
              "\n",
              "    .colab-df-convert {\n",
              "      background-color: #E8F0FE;\n",
              "      border: none;\n",
              "      border-radius: 50%;\n",
              "      cursor: pointer;\n",
              "      display: none;\n",
              "      fill: #1967D2;\n",
              "      height: 32px;\n",
              "      padding: 0 0 0 0;\n",
              "      width: 32px;\n",
              "    }\n",
              "\n",
              "    .colab-df-convert:hover {\n",
              "      background-color: #E2EBFA;\n",
              "      box-shadow: 0px 1px 2px rgba(60, 64, 67, 0.3), 0px 1px 3px 1px rgba(60, 64, 67, 0.15);\n",
              "      fill: #174EA6;\n",
              "    }\n",
              "\n",
              "    [theme=dark] .colab-df-convert {\n",
              "      background-color: #3B4455;\n",
              "      fill: #D2E3FC;\n",
              "    }\n",
              "\n",
              "    [theme=dark] .colab-df-convert:hover {\n",
              "      background-color: #434B5C;\n",
              "      box-shadow: 0px 1px 3px 1px rgba(0, 0, 0, 0.15);\n",
              "      filter: drop-shadow(0px 1px 2px rgba(0, 0, 0, 0.3));\n",
              "      fill: #FFFFFF;\n",
              "    }\n",
              "  </style>\n",
              "\n",
              "      <script>\n",
              "        const buttonEl =\n",
              "          document.querySelector('#df-a72abeea-7081-49cb-acc0-c3c8ede2614c button.colab-df-convert');\n",
              "        buttonEl.style.display =\n",
              "          google.colab.kernel.accessAllowed ? 'block' : 'none';\n",
              "\n",
              "        async function convertToInteractive(key) {\n",
              "          const element = document.querySelector('#df-a72abeea-7081-49cb-acc0-c3c8ede2614c');\n",
              "          const dataTable =\n",
              "            await google.colab.kernel.invokeFunction('convertToInteractive',\n",
              "                                                     [key], {});\n",
              "          if (!dataTable) return;\n",
              "\n",
              "          const docLinkHtml = 'Like what you see? Visit the ' +\n",
              "            '<a target=\"_blank\" href=https://colab.research.google.com/notebooks/data_table.ipynb>data table notebook</a>'\n",
              "            + ' to learn more about interactive tables.';\n",
              "          element.innerHTML = '';\n",
              "          dataTable['output_type'] = 'display_data';\n",
              "          await google.colab.output.renderOutput(dataTable, element);\n",
              "          const docLink = document.createElement('div');\n",
              "          docLink.innerHTML = docLinkHtml;\n",
              "          element.appendChild(docLink);\n",
              "        }\n",
              "      </script>\n",
              "    </div>\n",
              "  </div>\n",
              "  "
            ]
          },
          "metadata": {},
          "execution_count": 23
        }
      ]
    },
    {
      "cell_type": "code",
      "source": [
        "list1 = [\"business\",\"entertainment\",\"food\",\"graphics\",\"historical\",\"medical\",\"politics\",\"space\",\"sport\",\"technologie\"]"
      ],
      "metadata": {
        "id": "Jx5EEEhB7SS5"
      },
      "execution_count": null,
      "outputs": []
    },
    {
      "cell_type": "code",
      "source": [
        "diction = {}\n",
        "for i in range(len(list1)):\n",
        "  diction[list1[i]] = i"
      ],
      "metadata": {
        "id": "USfsMjnv2PuB"
      },
      "execution_count": null,
      "outputs": []
    },
    {
      "cell_type": "code",
      "source": [
        "diction"
      ],
      "metadata": {
        "colab": {
          "base_uri": "https://localhost:8080/"
        },
        "id": "-8Fw_bgb9hoo",
        "outputId": "729dfb0c-18ce-4ef1-f891-e738b021f6f7"
      },
      "execution_count": null,
      "outputs": [
        {
          "output_type": "execute_result",
          "data": {
            "text/plain": [
              "{'business': 0,\n",
              " 'entertainment': 1,\n",
              " 'food': 2,\n",
              " 'graphics': 3,\n",
              " 'historical': 4,\n",
              " 'medical': 5,\n",
              " 'politics': 6,\n",
              " 'space': 7,\n",
              " 'sport': 8,\n",
              " 'technologie': 9}"
            ]
          },
          "metadata": {},
          "execution_count": 26
        }
      ]
    },
    {
      "cell_type": "code",
      "source": [
        "textdocs['label'] = textdocs['category'].map(lambda x : diction[x])"
      ],
      "metadata": {
        "id": "Y7-7qAZN9ip9"
      },
      "execution_count": null,
      "outputs": []
    },
    {
      "cell_type": "code",
      "source": [
        "textdocs.head()"
      ],
      "metadata": {
        "colab": {
          "base_uri": "https://localhost:8080/",
          "height": 206
        },
        "id": "0J3JDXcV-Y--",
        "outputId": "f52fd53e-a95d-45f4-acf1-a930541f6802"
      },
      "execution_count": null,
      "outputs": [
        {
          "output_type": "execute_result",
          "data": {
            "text/plain": [
              "                                                text  category  \\\n",
              "0  Lufthansa flies back to profit\\n\\nGerman airli...  business   \n",
              "1  Japanese growth grinds to a halt\\n\\nGrowth in ...  business   \n",
              "2  WorldCom director admits lying\\n\\nThe former c...  business   \n",
              "3  Glaxo aims high after profit fall\\n\\nGlaxoSmit...  business   \n",
              "4  Peugeot deal boosts Mitsubishi\\n\\nStruggling J...  business   \n",
              "\n",
              "                                           cleantext  label  \n",
              "0  lufthansa flies back to profit. german airline...      0  \n",
              "1  japanese growth grinds to a halt. growth in ja...      0  \n",
              "2  worldcom director admits lying. the former chi...      0  \n",
              "3  glaxo aims high after profit fall. glaxosmithk...      0  \n",
              "4  peugeot deal boosts mitsubishi. struggling jap...      0  "
            ],
            "text/html": [
              "\n",
              "  <div id=\"df-fd1a4228-1c64-488b-b0f5-331389a81648\">\n",
              "    <div class=\"colab-df-container\">\n",
              "      <div>\n",
              "<style scoped>\n",
              "    .dataframe tbody tr th:only-of-type {\n",
              "        vertical-align: middle;\n",
              "    }\n",
              "\n",
              "    .dataframe tbody tr th {\n",
              "        vertical-align: top;\n",
              "    }\n",
              "\n",
              "    .dataframe thead th {\n",
              "        text-align: right;\n",
              "    }\n",
              "</style>\n",
              "<table border=\"1\" class=\"dataframe\">\n",
              "  <thead>\n",
              "    <tr style=\"text-align: right;\">\n",
              "      <th></th>\n",
              "      <th>text</th>\n",
              "      <th>category</th>\n",
              "      <th>cleantext</th>\n",
              "      <th>label</th>\n",
              "    </tr>\n",
              "  </thead>\n",
              "  <tbody>\n",
              "    <tr>\n",
              "      <th>0</th>\n",
              "      <td>Lufthansa flies back to profit\\n\\nGerman airli...</td>\n",
              "      <td>business</td>\n",
              "      <td>lufthansa flies back to profit. german airline...</td>\n",
              "      <td>0</td>\n",
              "    </tr>\n",
              "    <tr>\n",
              "      <th>1</th>\n",
              "      <td>Japanese growth grinds to a halt\\n\\nGrowth in ...</td>\n",
              "      <td>business</td>\n",
              "      <td>japanese growth grinds to a halt. growth in ja...</td>\n",
              "      <td>0</td>\n",
              "    </tr>\n",
              "    <tr>\n",
              "      <th>2</th>\n",
              "      <td>WorldCom director admits lying\\n\\nThe former c...</td>\n",
              "      <td>business</td>\n",
              "      <td>worldcom director admits lying. the former chi...</td>\n",
              "      <td>0</td>\n",
              "    </tr>\n",
              "    <tr>\n",
              "      <th>3</th>\n",
              "      <td>Glaxo aims high after profit fall\\n\\nGlaxoSmit...</td>\n",
              "      <td>business</td>\n",
              "      <td>glaxo aims high after profit fall. glaxosmithk...</td>\n",
              "      <td>0</td>\n",
              "    </tr>\n",
              "    <tr>\n",
              "      <th>4</th>\n",
              "      <td>Peugeot deal boosts Mitsubishi\\n\\nStruggling J...</td>\n",
              "      <td>business</td>\n",
              "      <td>peugeot deal boosts mitsubishi. struggling jap...</td>\n",
              "      <td>0</td>\n",
              "    </tr>\n",
              "  </tbody>\n",
              "</table>\n",
              "</div>\n",
              "      <button class=\"colab-df-convert\" onclick=\"convertToInteractive('df-fd1a4228-1c64-488b-b0f5-331389a81648')\"\n",
              "              title=\"Convert this dataframe to an interactive table.\"\n",
              "              style=\"display:none;\">\n",
              "        \n",
              "  <svg xmlns=\"http://www.w3.org/2000/svg\" height=\"24px\"viewBox=\"0 0 24 24\"\n",
              "       width=\"24px\">\n",
              "    <path d=\"M0 0h24v24H0V0z\" fill=\"none\"/>\n",
              "    <path d=\"M18.56 5.44l.94 2.06.94-2.06 2.06-.94-2.06-.94-.94-2.06-.94 2.06-2.06.94zm-11 1L8.5 8.5l.94-2.06 2.06-.94-2.06-.94L8.5 2.5l-.94 2.06-2.06.94zm10 10l.94 2.06.94-2.06 2.06-.94-2.06-.94-.94-2.06-.94 2.06-2.06.94z\"/><path d=\"M17.41 7.96l-1.37-1.37c-.4-.4-.92-.59-1.43-.59-.52 0-1.04.2-1.43.59L10.3 9.45l-7.72 7.72c-.78.78-.78 2.05 0 2.83L4 21.41c.39.39.9.59 1.41.59.51 0 1.02-.2 1.41-.59l7.78-7.78 2.81-2.81c.8-.78.8-2.07 0-2.86zM5.41 20L4 18.59l7.72-7.72 1.47 1.35L5.41 20z\"/>\n",
              "  </svg>\n",
              "      </button>\n",
              "      \n",
              "  <style>\n",
              "    .colab-df-container {\n",
              "      display:flex;\n",
              "      flex-wrap:wrap;\n",
              "      gap: 12px;\n",
              "    }\n",
              "\n",
              "    .colab-df-convert {\n",
              "      background-color: #E8F0FE;\n",
              "      border: none;\n",
              "      border-radius: 50%;\n",
              "      cursor: pointer;\n",
              "      display: none;\n",
              "      fill: #1967D2;\n",
              "      height: 32px;\n",
              "      padding: 0 0 0 0;\n",
              "      width: 32px;\n",
              "    }\n",
              "\n",
              "    .colab-df-convert:hover {\n",
              "      background-color: #E2EBFA;\n",
              "      box-shadow: 0px 1px 2px rgba(60, 64, 67, 0.3), 0px 1px 3px 1px rgba(60, 64, 67, 0.15);\n",
              "      fill: #174EA6;\n",
              "    }\n",
              "\n",
              "    [theme=dark] .colab-df-convert {\n",
              "      background-color: #3B4455;\n",
              "      fill: #D2E3FC;\n",
              "    }\n",
              "\n",
              "    [theme=dark] .colab-df-convert:hover {\n",
              "      background-color: #434B5C;\n",
              "      box-shadow: 0px 1px 3px 1px rgba(0, 0, 0, 0.15);\n",
              "      filter: drop-shadow(0px 1px 2px rgba(0, 0, 0, 0.3));\n",
              "      fill: #FFFFFF;\n",
              "    }\n",
              "  </style>\n",
              "\n",
              "      <script>\n",
              "        const buttonEl =\n",
              "          document.querySelector('#df-fd1a4228-1c64-488b-b0f5-331389a81648 button.colab-df-convert');\n",
              "        buttonEl.style.display =\n",
              "          google.colab.kernel.accessAllowed ? 'block' : 'none';\n",
              "\n",
              "        async function convertToInteractive(key) {\n",
              "          const element = document.querySelector('#df-fd1a4228-1c64-488b-b0f5-331389a81648');\n",
              "          const dataTable =\n",
              "            await google.colab.kernel.invokeFunction('convertToInteractive',\n",
              "                                                     [key], {});\n",
              "          if (!dataTable) return;\n",
              "\n",
              "          const docLinkHtml = 'Like what you see? Visit the ' +\n",
              "            '<a target=\"_blank\" href=https://colab.research.google.com/notebooks/data_table.ipynb>data table notebook</a>'\n",
              "            + ' to learn more about interactive tables.';\n",
              "          element.innerHTML = '';\n",
              "          dataTable['output_type'] = 'display_data';\n",
              "          await google.colab.output.renderOutput(dataTable, element);\n",
              "          const docLink = document.createElement('div');\n",
              "          docLink.innerHTML = docLinkHtml;\n",
              "          element.appendChild(docLink);\n",
              "        }\n",
              "      </script>\n",
              "    </div>\n",
              "  </div>\n",
              "  "
            ]
          },
          "metadata": {},
          "execution_count": 28
        }
      ]
    },
    {
      "cell_type": "code",
      "source": [
        "import gensim"
      ],
      "metadata": {
        "id": "iFtfzY9o-8Ab"
      },
      "execution_count": null,
      "outputs": []
    },
    {
      "cell_type": "code",
      "source": [
        "#Clean data using the built in cleaner in gensim\n",
        "textdocs['words'] = textdocs['cleantext'].apply(lambda x: gensim.utils.simple_preprocess(x))"
      ],
      "metadata": {
        "id": "_tIyMaMpNxQv"
      },
      "execution_count": null,
      "outputs": []
    },
    {
      "cell_type": "code",
      "source": [
        "textdocs.head()"
      ],
      "metadata": {
        "colab": {
          "base_uri": "https://localhost:8080/",
          "height": 206
        },
        "id": "pKk9YRSNOwqs",
        "outputId": "2891e0c2-7833-48f7-b707-03277a62af3f"
      },
      "execution_count": null,
      "outputs": [
        {
          "output_type": "execute_result",
          "data": {
            "text/plain": [
              "                                                text  category  \\\n",
              "0  Lufthansa flies back to profit\\n\\nGerman airli...  business   \n",
              "1  Japanese growth grinds to a halt\\n\\nGrowth in ...  business   \n",
              "2  WorldCom director admits lying\\n\\nThe former c...  business   \n",
              "3  Glaxo aims high after profit fall\\n\\nGlaxoSmit...  business   \n",
              "4  Peugeot deal boosts Mitsubishi\\n\\nStruggling J...  business   \n",
              "\n",
              "                                           cleantext  label  \\\n",
              "0  lufthansa flies back to profit. german airline...      0   \n",
              "1  japanese growth grinds to a halt. growth in ja...      0   \n",
              "2  worldcom director admits lying. the former chi...      0   \n",
              "3  glaxo aims high after profit fall. glaxosmithk...      0   \n",
              "4  peugeot deal boosts mitsubishi. struggling jap...      0   \n",
              "\n",
              "                                               words  \n",
              "0  [lufthansa, flies, back, to, profit, german, a...  \n",
              "1  [japanese, growth, grinds, to, halt, growth, i...  \n",
              "2  [worldcom, director, admits, lying, the, forme...  \n",
              "3  [glaxo, aims, high, after, profit, fall, glaxo...  \n",
              "4  [peugeot, deal, boosts, mitsubishi, struggling...  "
            ],
            "text/html": [
              "\n",
              "  <div id=\"df-f86585bf-caf1-4eaf-8bd2-4b270f0a982d\">\n",
              "    <div class=\"colab-df-container\">\n",
              "      <div>\n",
              "<style scoped>\n",
              "    .dataframe tbody tr th:only-of-type {\n",
              "        vertical-align: middle;\n",
              "    }\n",
              "\n",
              "    .dataframe tbody tr th {\n",
              "        vertical-align: top;\n",
              "    }\n",
              "\n",
              "    .dataframe thead th {\n",
              "        text-align: right;\n",
              "    }\n",
              "</style>\n",
              "<table border=\"1\" class=\"dataframe\">\n",
              "  <thead>\n",
              "    <tr style=\"text-align: right;\">\n",
              "      <th></th>\n",
              "      <th>text</th>\n",
              "      <th>category</th>\n",
              "      <th>cleantext</th>\n",
              "      <th>label</th>\n",
              "      <th>words</th>\n",
              "    </tr>\n",
              "  </thead>\n",
              "  <tbody>\n",
              "    <tr>\n",
              "      <th>0</th>\n",
              "      <td>Lufthansa flies back to profit\\n\\nGerman airli...</td>\n",
              "      <td>business</td>\n",
              "      <td>lufthansa flies back to profit. german airline...</td>\n",
              "      <td>0</td>\n",
              "      <td>[lufthansa, flies, back, to, profit, german, a...</td>\n",
              "    </tr>\n",
              "    <tr>\n",
              "      <th>1</th>\n",
              "      <td>Japanese growth grinds to a halt\\n\\nGrowth in ...</td>\n",
              "      <td>business</td>\n",
              "      <td>japanese growth grinds to a halt. growth in ja...</td>\n",
              "      <td>0</td>\n",
              "      <td>[japanese, growth, grinds, to, halt, growth, i...</td>\n",
              "    </tr>\n",
              "    <tr>\n",
              "      <th>2</th>\n",
              "      <td>WorldCom director admits lying\\n\\nThe former c...</td>\n",
              "      <td>business</td>\n",
              "      <td>worldcom director admits lying. the former chi...</td>\n",
              "      <td>0</td>\n",
              "      <td>[worldcom, director, admits, lying, the, forme...</td>\n",
              "    </tr>\n",
              "    <tr>\n",
              "      <th>3</th>\n",
              "      <td>Glaxo aims high after profit fall\\n\\nGlaxoSmit...</td>\n",
              "      <td>business</td>\n",
              "      <td>glaxo aims high after profit fall. glaxosmithk...</td>\n",
              "      <td>0</td>\n",
              "      <td>[glaxo, aims, high, after, profit, fall, glaxo...</td>\n",
              "    </tr>\n",
              "    <tr>\n",
              "      <th>4</th>\n",
              "      <td>Peugeot deal boosts Mitsubishi\\n\\nStruggling J...</td>\n",
              "      <td>business</td>\n",
              "      <td>peugeot deal boosts mitsubishi. struggling jap...</td>\n",
              "      <td>0</td>\n",
              "      <td>[peugeot, deal, boosts, mitsubishi, struggling...</td>\n",
              "    </tr>\n",
              "  </tbody>\n",
              "</table>\n",
              "</div>\n",
              "      <button class=\"colab-df-convert\" onclick=\"convertToInteractive('df-f86585bf-caf1-4eaf-8bd2-4b270f0a982d')\"\n",
              "              title=\"Convert this dataframe to an interactive table.\"\n",
              "              style=\"display:none;\">\n",
              "        \n",
              "  <svg xmlns=\"http://www.w3.org/2000/svg\" height=\"24px\"viewBox=\"0 0 24 24\"\n",
              "       width=\"24px\">\n",
              "    <path d=\"M0 0h24v24H0V0z\" fill=\"none\"/>\n",
              "    <path d=\"M18.56 5.44l.94 2.06.94-2.06 2.06-.94-2.06-.94-.94-2.06-.94 2.06-2.06.94zm-11 1L8.5 8.5l.94-2.06 2.06-.94-2.06-.94L8.5 2.5l-.94 2.06-2.06.94zm10 10l.94 2.06.94-2.06 2.06-.94-2.06-.94-.94-2.06-.94 2.06-2.06.94z\"/><path d=\"M17.41 7.96l-1.37-1.37c-.4-.4-.92-.59-1.43-.59-.52 0-1.04.2-1.43.59L10.3 9.45l-7.72 7.72c-.78.78-.78 2.05 0 2.83L4 21.41c.39.39.9.59 1.41.59.51 0 1.02-.2 1.41-.59l7.78-7.78 2.81-2.81c.8-.78.8-2.07 0-2.86zM5.41 20L4 18.59l7.72-7.72 1.47 1.35L5.41 20z\"/>\n",
              "  </svg>\n",
              "      </button>\n",
              "      \n",
              "  <style>\n",
              "    .colab-df-container {\n",
              "      display:flex;\n",
              "      flex-wrap:wrap;\n",
              "      gap: 12px;\n",
              "    }\n",
              "\n",
              "    .colab-df-convert {\n",
              "      background-color: #E8F0FE;\n",
              "      border: none;\n",
              "      border-radius: 50%;\n",
              "      cursor: pointer;\n",
              "      display: none;\n",
              "      fill: #1967D2;\n",
              "      height: 32px;\n",
              "      padding: 0 0 0 0;\n",
              "      width: 32px;\n",
              "    }\n",
              "\n",
              "    .colab-df-convert:hover {\n",
              "      background-color: #E2EBFA;\n",
              "      box-shadow: 0px 1px 2px rgba(60, 64, 67, 0.3), 0px 1px 3px 1px rgba(60, 64, 67, 0.15);\n",
              "      fill: #174EA6;\n",
              "    }\n",
              "\n",
              "    [theme=dark] .colab-df-convert {\n",
              "      background-color: #3B4455;\n",
              "      fill: #D2E3FC;\n",
              "    }\n",
              "\n",
              "    [theme=dark] .colab-df-convert:hover {\n",
              "      background-color: #434B5C;\n",
              "      box-shadow: 0px 1px 3px 1px rgba(0, 0, 0, 0.15);\n",
              "      filter: drop-shadow(0px 1px 2px rgba(0, 0, 0, 0.3));\n",
              "      fill: #FFFFFF;\n",
              "    }\n",
              "  </style>\n",
              "\n",
              "      <script>\n",
              "        const buttonEl =\n",
              "          document.querySelector('#df-f86585bf-caf1-4eaf-8bd2-4b270f0a982d button.colab-df-convert');\n",
              "        buttonEl.style.display =\n",
              "          google.colab.kernel.accessAllowed ? 'block' : 'none';\n",
              "\n",
              "        async function convertToInteractive(key) {\n",
              "          const element = document.querySelector('#df-f86585bf-caf1-4eaf-8bd2-4b270f0a982d');\n",
              "          const dataTable =\n",
              "            await google.colab.kernel.invokeFunction('convertToInteractive',\n",
              "                                                     [key], {});\n",
              "          if (!dataTable) return;\n",
              "\n",
              "          const docLinkHtml = 'Like what you see? Visit the ' +\n",
              "            '<a target=\"_blank\" href=https://colab.research.google.com/notebooks/data_table.ipynb>data table notebook</a>'\n",
              "            + ' to learn more about interactive tables.';\n",
              "          element.innerHTML = '';\n",
              "          dataTable['output_type'] = 'display_data';\n",
              "          await google.colab.output.renderOutput(dataTable, element);\n",
              "          const docLink = document.createElement('div');\n",
              "          docLink.innerHTML = docLinkHtml;\n",
              "          element.appendChild(docLink);\n",
              "        }\n",
              "      </script>\n",
              "    </div>\n",
              "  </div>\n",
              "  "
            ]
          },
          "metadata": {},
          "execution_count": 31
        }
      ]
    },
    {
      "cell_type": "code",
      "source": [
        "#Calculating the length of strings of clean words\n",
        "textdocs['text_length'] = textdocs['words'].map(lambda name:len(name))"
      ],
      "metadata": {
        "id": "WQwhxviaOyI8"
      },
      "execution_count": null,
      "outputs": []
    },
    {
      "cell_type": "code",
      "source": [
        "textdocs.head()"
      ],
      "metadata": {
        "colab": {
          "base_uri": "https://localhost:8080/",
          "height": 206
        },
        "id": "4ssWeSvDO1D_",
        "outputId": "6c274a59-4ca2-466e-eadc-12553267dac6"
      },
      "execution_count": null,
      "outputs": [
        {
          "output_type": "execute_result",
          "data": {
            "text/plain": [
              "                                                text  category  \\\n",
              "0  Lufthansa flies back to profit\\n\\nGerman airli...  business   \n",
              "1  Japanese growth grinds to a halt\\n\\nGrowth in ...  business   \n",
              "2  WorldCom director admits lying\\n\\nThe former c...  business   \n",
              "3  Glaxo aims high after profit fall\\n\\nGlaxoSmit...  business   \n",
              "4  Peugeot deal boosts Mitsubishi\\n\\nStruggling J...  business   \n",
              "\n",
              "                                           cleantext  label  \\\n",
              "0  lufthansa flies back to profit. german airline...      0   \n",
              "1  japanese growth grinds to a halt. growth in ja...      0   \n",
              "2  worldcom director admits lying. the former chi...      0   \n",
              "3  glaxo aims high after profit fall. glaxosmithk...      0   \n",
              "4  peugeot deal boosts mitsubishi. struggling jap...      0   \n",
              "\n",
              "                                               words  text_length  \n",
              "0  [lufthansa, flies, back, to, profit, german, a...          129  \n",
              "1  [japanese, growth, grinds, to, halt, growth, i...          253  \n",
              "2  [worldcom, director, admits, lying, the, forme...          337  \n",
              "3  [glaxo, aims, high, after, profit, fall, glaxo...          190  \n",
              "4  [peugeot, deal, boosts, mitsubishi, struggling...          279  "
            ],
            "text/html": [
              "\n",
              "  <div id=\"df-3e52eae9-7a9a-4f8a-85b4-77956912b4e6\">\n",
              "    <div class=\"colab-df-container\">\n",
              "      <div>\n",
              "<style scoped>\n",
              "    .dataframe tbody tr th:only-of-type {\n",
              "        vertical-align: middle;\n",
              "    }\n",
              "\n",
              "    .dataframe tbody tr th {\n",
              "        vertical-align: top;\n",
              "    }\n",
              "\n",
              "    .dataframe thead th {\n",
              "        text-align: right;\n",
              "    }\n",
              "</style>\n",
              "<table border=\"1\" class=\"dataframe\">\n",
              "  <thead>\n",
              "    <tr style=\"text-align: right;\">\n",
              "      <th></th>\n",
              "      <th>text</th>\n",
              "      <th>category</th>\n",
              "      <th>cleantext</th>\n",
              "      <th>label</th>\n",
              "      <th>words</th>\n",
              "      <th>text_length</th>\n",
              "    </tr>\n",
              "  </thead>\n",
              "  <tbody>\n",
              "    <tr>\n",
              "      <th>0</th>\n",
              "      <td>Lufthansa flies back to profit\\n\\nGerman airli...</td>\n",
              "      <td>business</td>\n",
              "      <td>lufthansa flies back to profit. german airline...</td>\n",
              "      <td>0</td>\n",
              "      <td>[lufthansa, flies, back, to, profit, german, a...</td>\n",
              "      <td>129</td>\n",
              "    </tr>\n",
              "    <tr>\n",
              "      <th>1</th>\n",
              "      <td>Japanese growth grinds to a halt\\n\\nGrowth in ...</td>\n",
              "      <td>business</td>\n",
              "      <td>japanese growth grinds to a halt. growth in ja...</td>\n",
              "      <td>0</td>\n",
              "      <td>[japanese, growth, grinds, to, halt, growth, i...</td>\n",
              "      <td>253</td>\n",
              "    </tr>\n",
              "    <tr>\n",
              "      <th>2</th>\n",
              "      <td>WorldCom director admits lying\\n\\nThe former c...</td>\n",
              "      <td>business</td>\n",
              "      <td>worldcom director admits lying. the former chi...</td>\n",
              "      <td>0</td>\n",
              "      <td>[worldcom, director, admits, lying, the, forme...</td>\n",
              "      <td>337</td>\n",
              "    </tr>\n",
              "    <tr>\n",
              "      <th>3</th>\n",
              "      <td>Glaxo aims high after profit fall\\n\\nGlaxoSmit...</td>\n",
              "      <td>business</td>\n",
              "      <td>glaxo aims high after profit fall. glaxosmithk...</td>\n",
              "      <td>0</td>\n",
              "      <td>[glaxo, aims, high, after, profit, fall, glaxo...</td>\n",
              "      <td>190</td>\n",
              "    </tr>\n",
              "    <tr>\n",
              "      <th>4</th>\n",
              "      <td>Peugeot deal boosts Mitsubishi\\n\\nStruggling J...</td>\n",
              "      <td>business</td>\n",
              "      <td>peugeot deal boosts mitsubishi. struggling jap...</td>\n",
              "      <td>0</td>\n",
              "      <td>[peugeot, deal, boosts, mitsubishi, struggling...</td>\n",
              "      <td>279</td>\n",
              "    </tr>\n",
              "  </tbody>\n",
              "</table>\n",
              "</div>\n",
              "      <button class=\"colab-df-convert\" onclick=\"convertToInteractive('df-3e52eae9-7a9a-4f8a-85b4-77956912b4e6')\"\n",
              "              title=\"Convert this dataframe to an interactive table.\"\n",
              "              style=\"display:none;\">\n",
              "        \n",
              "  <svg xmlns=\"http://www.w3.org/2000/svg\" height=\"24px\"viewBox=\"0 0 24 24\"\n",
              "       width=\"24px\">\n",
              "    <path d=\"M0 0h24v24H0V0z\" fill=\"none\"/>\n",
              "    <path d=\"M18.56 5.44l.94 2.06.94-2.06 2.06-.94-2.06-.94-.94-2.06-.94 2.06-2.06.94zm-11 1L8.5 8.5l.94-2.06 2.06-.94-2.06-.94L8.5 2.5l-.94 2.06-2.06.94zm10 10l.94 2.06.94-2.06 2.06-.94-2.06-.94-.94-2.06-.94 2.06-2.06.94z\"/><path d=\"M17.41 7.96l-1.37-1.37c-.4-.4-.92-.59-1.43-.59-.52 0-1.04.2-1.43.59L10.3 9.45l-7.72 7.72c-.78.78-.78 2.05 0 2.83L4 21.41c.39.39.9.59 1.41.59.51 0 1.02-.2 1.41-.59l7.78-7.78 2.81-2.81c.8-.78.8-2.07 0-2.86zM5.41 20L4 18.59l7.72-7.72 1.47 1.35L5.41 20z\"/>\n",
              "  </svg>\n",
              "      </button>\n",
              "      \n",
              "  <style>\n",
              "    .colab-df-container {\n",
              "      display:flex;\n",
              "      flex-wrap:wrap;\n",
              "      gap: 12px;\n",
              "    }\n",
              "\n",
              "    .colab-df-convert {\n",
              "      background-color: #E8F0FE;\n",
              "      border: none;\n",
              "      border-radius: 50%;\n",
              "      cursor: pointer;\n",
              "      display: none;\n",
              "      fill: #1967D2;\n",
              "      height: 32px;\n",
              "      padding: 0 0 0 0;\n",
              "      width: 32px;\n",
              "    }\n",
              "\n",
              "    .colab-df-convert:hover {\n",
              "      background-color: #E2EBFA;\n",
              "      box-shadow: 0px 1px 2px rgba(60, 64, 67, 0.3), 0px 1px 3px 1px rgba(60, 64, 67, 0.15);\n",
              "      fill: #174EA6;\n",
              "    }\n",
              "\n",
              "    [theme=dark] .colab-df-convert {\n",
              "      background-color: #3B4455;\n",
              "      fill: #D2E3FC;\n",
              "    }\n",
              "\n",
              "    [theme=dark] .colab-df-convert:hover {\n",
              "      background-color: #434B5C;\n",
              "      box-shadow: 0px 1px 3px 1px rgba(0, 0, 0, 0.15);\n",
              "      filter: drop-shadow(0px 1px 2px rgba(0, 0, 0, 0.3));\n",
              "      fill: #FFFFFF;\n",
              "    }\n",
              "  </style>\n",
              "\n",
              "      <script>\n",
              "        const buttonEl =\n",
              "          document.querySelector('#df-3e52eae9-7a9a-4f8a-85b4-77956912b4e6 button.colab-df-convert');\n",
              "        buttonEl.style.display =\n",
              "          google.colab.kernel.accessAllowed ? 'block' : 'none';\n",
              "\n",
              "        async function convertToInteractive(key) {\n",
              "          const element = document.querySelector('#df-3e52eae9-7a9a-4f8a-85b4-77956912b4e6');\n",
              "          const dataTable =\n",
              "            await google.colab.kernel.invokeFunction('convertToInteractive',\n",
              "                                                     [key], {});\n",
              "          if (!dataTable) return;\n",
              "\n",
              "          const docLinkHtml = 'Like what you see? Visit the ' +\n",
              "            '<a target=\"_blank\" href=https://colab.research.google.com/notebooks/data_table.ipynb>data table notebook</a>'\n",
              "            + ' to learn more about interactive tables.';\n",
              "          element.innerHTML = '';\n",
              "          dataTable['output_type'] = 'display_data';\n",
              "          await google.colab.output.renderOutput(dataTable, element);\n",
              "          const docLink = document.createElement('div');\n",
              "          docLink.innerHTML = docLinkHtml;\n",
              "          element.appendChild(docLink);\n",
              "        }\n",
              "      </script>\n",
              "    </div>\n",
              "  </div>\n",
              "  "
            ]
          },
          "metadata": {},
          "execution_count": 34
        }
      ]
    },
    {
      "cell_type": "code",
      "source": [
        "textdocs['text_length'].describe()"
      ],
      "metadata": {
        "colab": {
          "base_uri": "https://localhost:8080/"
        },
        "id": "fEDntQh7Per9",
        "outputId": "6651ae03-9e2c-4dea-9913-4bbdf3ba67ff"
      },
      "execution_count": null,
      "outputs": [
        {
          "output_type": "execute_result",
          "data": {
            "text/plain": [
              "count     992.000000\n",
              "mean      388.556452\n",
              "std       504.954066\n",
              "min        19.000000\n",
              "25%       166.000000\n",
              "50%       255.000000\n",
              "75%       416.000000\n",
              "max      7536.000000\n",
              "Name: text_length, dtype: float64"
            ]
          },
          "metadata": {},
          "execution_count": 37
        }
      ]
    },
    {
      "cell_type": "code",
      "source": [
        "textdocs[textdocs['text_length'] == 7536]"
      ],
      "metadata": {
        "colab": {
          "base_uri": "https://localhost:8080/",
          "height": 81
        },
        "id": "28sYyLAqPhyy",
        "outputId": "256e3e2f-e79f-4bd1-82a8-5b01f8dd9e96"
      },
      "execution_count": null,
      "outputs": [
        {
          "output_type": "execute_result",
          "data": {
            "text/plain": [
              "                                                  text  category  \\\n",
              "370  Archive-name: graphics/resources-list/part3\\nL...  graphics   \n",
              "\n",
              "                                             cleantext  label  \\\n",
              "370  archivename graphicsresourceslistpart3. lastmo...      3   \n",
              "\n",
              "                                                 words  text_length  \n",
              "370  [archivename, lastmodified, computer, graphics...         7536  "
            ],
            "text/html": [
              "\n",
              "  <div id=\"df-1afeb668-9a70-46b2-9bed-50049d5bcb0c\">\n",
              "    <div class=\"colab-df-container\">\n",
              "      <div>\n",
              "<style scoped>\n",
              "    .dataframe tbody tr th:only-of-type {\n",
              "        vertical-align: middle;\n",
              "    }\n",
              "\n",
              "    .dataframe tbody tr th {\n",
              "        vertical-align: top;\n",
              "    }\n",
              "\n",
              "    .dataframe thead th {\n",
              "        text-align: right;\n",
              "    }\n",
              "</style>\n",
              "<table border=\"1\" class=\"dataframe\">\n",
              "  <thead>\n",
              "    <tr style=\"text-align: right;\">\n",
              "      <th></th>\n",
              "      <th>text</th>\n",
              "      <th>category</th>\n",
              "      <th>cleantext</th>\n",
              "      <th>label</th>\n",
              "      <th>words</th>\n",
              "      <th>text_length</th>\n",
              "    </tr>\n",
              "  </thead>\n",
              "  <tbody>\n",
              "    <tr>\n",
              "      <th>370</th>\n",
              "      <td>Archive-name: graphics/resources-list/part3\\nL...</td>\n",
              "      <td>graphics</td>\n",
              "      <td>archivename graphicsresourceslistpart3. lastmo...</td>\n",
              "      <td>3</td>\n",
              "      <td>[archivename, lastmodified, computer, graphics...</td>\n",
              "      <td>7536</td>\n",
              "    </tr>\n",
              "  </tbody>\n",
              "</table>\n",
              "</div>\n",
              "      <button class=\"colab-df-convert\" onclick=\"convertToInteractive('df-1afeb668-9a70-46b2-9bed-50049d5bcb0c')\"\n",
              "              title=\"Convert this dataframe to an interactive table.\"\n",
              "              style=\"display:none;\">\n",
              "        \n",
              "  <svg xmlns=\"http://www.w3.org/2000/svg\" height=\"24px\"viewBox=\"0 0 24 24\"\n",
              "       width=\"24px\">\n",
              "    <path d=\"M0 0h24v24H0V0z\" fill=\"none\"/>\n",
              "    <path d=\"M18.56 5.44l.94 2.06.94-2.06 2.06-.94-2.06-.94-.94-2.06-.94 2.06-2.06.94zm-11 1L8.5 8.5l.94-2.06 2.06-.94-2.06-.94L8.5 2.5l-.94 2.06-2.06.94zm10 10l.94 2.06.94-2.06 2.06-.94-2.06-.94-.94-2.06-.94 2.06-2.06.94z\"/><path d=\"M17.41 7.96l-1.37-1.37c-.4-.4-.92-.59-1.43-.59-.52 0-1.04.2-1.43.59L10.3 9.45l-7.72 7.72c-.78.78-.78 2.05 0 2.83L4 21.41c.39.39.9.59 1.41.59.51 0 1.02-.2 1.41-.59l7.78-7.78 2.81-2.81c.8-.78.8-2.07 0-2.86zM5.41 20L4 18.59l7.72-7.72 1.47 1.35L5.41 20z\"/>\n",
              "  </svg>\n",
              "      </button>\n",
              "      \n",
              "  <style>\n",
              "    .colab-df-container {\n",
              "      display:flex;\n",
              "      flex-wrap:wrap;\n",
              "      gap: 12px;\n",
              "    }\n",
              "\n",
              "    .colab-df-convert {\n",
              "      background-color: #E8F0FE;\n",
              "      border: none;\n",
              "      border-radius: 50%;\n",
              "      cursor: pointer;\n",
              "      display: none;\n",
              "      fill: #1967D2;\n",
              "      height: 32px;\n",
              "      padding: 0 0 0 0;\n",
              "      width: 32px;\n",
              "    }\n",
              "\n",
              "    .colab-df-convert:hover {\n",
              "      background-color: #E2EBFA;\n",
              "      box-shadow: 0px 1px 2px rgba(60, 64, 67, 0.3), 0px 1px 3px 1px rgba(60, 64, 67, 0.15);\n",
              "      fill: #174EA6;\n",
              "    }\n",
              "\n",
              "    [theme=dark] .colab-df-convert {\n",
              "      background-color: #3B4455;\n",
              "      fill: #D2E3FC;\n",
              "    }\n",
              "\n",
              "    [theme=dark] .colab-df-convert:hover {\n",
              "      background-color: #434B5C;\n",
              "      box-shadow: 0px 1px 3px 1px rgba(0, 0, 0, 0.15);\n",
              "      filter: drop-shadow(0px 1px 2px rgba(0, 0, 0, 0.3));\n",
              "      fill: #FFFFFF;\n",
              "    }\n",
              "  </style>\n",
              "\n",
              "      <script>\n",
              "        const buttonEl =\n",
              "          document.querySelector('#df-1afeb668-9a70-46b2-9bed-50049d5bcb0c button.colab-df-convert');\n",
              "        buttonEl.style.display =\n",
              "          google.colab.kernel.accessAllowed ? 'block' : 'none';\n",
              "\n",
              "        async function convertToInteractive(key) {\n",
              "          const element = document.querySelector('#df-1afeb668-9a70-46b2-9bed-50049d5bcb0c');\n",
              "          const dataTable =\n",
              "            await google.colab.kernel.invokeFunction('convertToInteractive',\n",
              "                                                     [key], {});\n",
              "          if (!dataTable) return;\n",
              "\n",
              "          const docLinkHtml = 'Like what you see? Visit the ' +\n",
              "            '<a target=\"_blank\" href=https://colab.research.google.com/notebooks/data_table.ipynb>data table notebook</a>'\n",
              "            + ' to learn more about interactive tables.';\n",
              "          element.innerHTML = '';\n",
              "          dataTable['output_type'] = 'display_data';\n",
              "          await google.colab.output.renderOutput(dataTable, element);\n",
              "          const docLink = document.createElement('div');\n",
              "          docLink.innerHTML = docLinkHtml;\n",
              "          element.appendChild(docLink);\n",
              "        }\n",
              "      </script>\n",
              "    </div>\n",
              "  </div>\n",
              "  "
            ]
          },
          "metadata": {},
          "execution_count": 43
        }
      ]
    },
    {
      "cell_type": "markdown",
      "source": [
        "# **BERT**"
      ],
      "metadata": {
        "id": "soUcRK9kRZo_"
      }
    },
    {
      "cell_type": "code",
      "source": [
        "# A dependency of the preprocessing for BERT inputs\n",
        "!pip install -q -U \"tensorflow-text==2.8.*\""
      ],
      "metadata": {
        "id": "_NZs0OgGKysb",
        "colab": {
          "base_uri": "https://localhost:8080/"
        },
        "outputId": "39ceed2a-7a45-424f-f830-3dc5c738c900"
      },
      "execution_count": null,
      "outputs": [
        {
          "output_type": "stream",
          "name": "stdout",
          "text": [
            "\u001b[K     |████████████████████████████████| 4.9 MB 5.4 MB/s \n",
            "\u001b[K     |████████████████████████████████| 497.9 MB 3.2 kB/s \n",
            "\u001b[K     |████████████████████████████████| 462 kB 31.7 MB/s \n",
            "\u001b[K     |████████████████████████████████| 1.4 MB 51.7 MB/s \n",
            "\u001b[K     |████████████████████████████████| 5.8 MB 30.8 MB/s \n",
            "\u001b[?25h"
          ]
        }
      ]
    },
    {
      "cell_type": "code",
      "source": [
        "!pip install -q tf-models-official==2.7.0"
      ],
      "metadata": {
        "id": "m0_yn9RDN1jl",
        "colab": {
          "base_uri": "https://localhost:8080/"
        },
        "outputId": "0c12e983-c75a-40c8-f5a4-93ef1c881f0f"
      },
      "execution_count": null,
      "outputs": [
        {
          "output_type": "stream",
          "name": "stdout",
          "text": [
            "\u001b[K     |████████████████████████████████| 1.8 MB 5.2 MB/s \n",
            "\u001b[K     |████████████████████████████████| 118 kB 48.0 MB/s \n",
            "\u001b[K     |████████████████████████████████| 352 kB 46.8 MB/s \n",
            "\u001b[K     |████████████████████████████████| 1.1 MB 47.0 MB/s \n",
            "\u001b[K     |████████████████████████████████| 1.3 MB 38.8 MB/s \n",
            "\u001b[K     |████████████████████████████████| 43 kB 1.5 MB/s \n",
            "\u001b[K     |████████████████████████████████| 238 kB 49.8 MB/s \n",
            "\u001b[?25h  Building wheel for seqeval (setup.py) ... \u001b[?25l\u001b[?25hdone\n"
          ]
        }
      ]
    },
    {
      "cell_type": "code",
      "source": [
        "import os\n",
        "import shutil\n",
        "import tensorflow as tf\n",
        "import tensorflow_hub as hub\n",
        "import tensorflow_text as text\n",
        "from official.nlp import optimization  # to create AdamW optimizer\n",
        "import matplotlib.pyplot as plt\n",
        "tf.get_logger().setLevel('ERROR')"
      ],
      "metadata": {
        "id": "fYDWPXukN5z5"
      },
      "execution_count": null,
      "outputs": []
    },
    {
      "cell_type": "code",
      "source": [
        "#BERT preprocessor and BERT encoder\n",
        "bert_preprocess = hub.KerasLayer(\"https://tfhub.dev/tensorflow/bert_en_uncased_preprocess/3\")\n",
        "bert_encoder = hub.KerasLayer(\"https://tfhub.dev/tensorflow/bert_en_uncased_L-12_H-768_A-12/4\")"
      ],
      "metadata": {
        "id": "3uDFux_EN-Ez"
      },
      "execution_count": null,
      "outputs": []
    },
    {
      "cell_type": "code",
      "source": [
        "def get_sequence_output(sentences):\n",
        "    preprocessed_text = bert_preprocess(sentences)\n",
        "    return bert_encoder(preprocessed_text)['sequence_output']"
      ],
      "metadata": {
        "id": "LHrDZcRGOCZP"
      },
      "execution_count": null,
      "outputs": []
    },
    {
      "cell_type": "code",
      "source": [
        "def get_pooled_output(sentences):\n",
        "    preprocessed_text = bert_preprocess(sentences)\n",
        "    return bert_encoder(preprocessed_text)['pooled_output']"
      ],
      "metadata": {
        "id": "M2-k4zrCmBee"
      },
      "execution_count": null,
      "outputs": []
    },
    {
      "cell_type": "code",
      "source": [
        "textdocs['BERT_sequence_output'] = [x for x in get_sequence_output(textdocs['cleantext'])]"
      ],
      "metadata": {
        "id": "ircXcHnIOKTr"
      },
      "execution_count": null,
      "outputs": []
    },
    {
      "cell_type": "code",
      "source": [
        "textdocs['BERT_pooled_output'] = [x for x in get_pooled_output(textdocs['cleantext'])]"
      ],
      "metadata": {
        "id": "aX-4NPnvnqeW"
      },
      "execution_count": null,
      "outputs": []
    },
    {
      "cell_type": "code",
      "source": [
        "textdocs.head()"
      ],
      "metadata": {
        "colab": {
          "base_uri": "https://localhost:8080/",
          "height": 337
        },
        "id": "8itC9QyBryc6",
        "outputId": "31e258b4-d48c-4453-87f6-6ed3da1ade39"
      },
      "execution_count": null,
      "outputs": [
        {
          "output_type": "execute_result",
          "data": {
            "text/plain": [
              "                                                text  category  \\\n",
              "0  Lufthansa flies back to profit\\n\\nGerman airli...  business   \n",
              "1  Japanese growth grinds to a halt\\n\\nGrowth in ...  business   \n",
              "2  WorldCom director admits lying\\n\\nThe former c...  business   \n",
              "3  Glaxo aims high after profit fall\\n\\nGlaxoSmit...  business   \n",
              "4  Peugeot deal boosts Mitsubishi\\n\\nStruggling J...  business   \n",
              "\n",
              "                                           cleantext  label  \\\n",
              "0  lufthansa flies back to profit. german airline...      0   \n",
              "1  japanese growth grinds to a halt. growth in ja...      0   \n",
              "2  worldcom director admits lying. the former chi...      0   \n",
              "3  glaxo aims high after profit fall. glaxosmithk...      0   \n",
              "4  peugeot deal boosts mitsubishi. struggling jap...      0   \n",
              "\n",
              "                                               words  text_length  \\\n",
              "0  [lufthansa, flies, back, to, profit, german, a...          129   \n",
              "1  [japanese, growth, grinds, to, halt, growth, i...          253   \n",
              "2  [worldcom, director, admits, lying, the, forme...          337   \n",
              "3  [glaxo, aims, high, after, profit, fall, glaxo...          190   \n",
              "4  [peugeot, deal, boosts, mitsubishi, struggling...          279   \n",
              "\n",
              "                                BERT_sequence_output  \\\n",
              "0  ((tf.Tensor(-0.7144783, shape=(), dtype=float3...   \n",
              "1  ((tf.Tensor(-0.3408628, shape=(), dtype=float3...   \n",
              "2  ((tf.Tensor(-0.71176547, shape=(), dtype=float...   \n",
              "3  ((tf.Tensor(-0.67004496, shape=(), dtype=float...   \n",
              "4  ((tf.Tensor(-0.5811551, shape=(), dtype=float3...   \n",
              "\n",
              "                                  BERT_pooled_output  \n",
              "0  (tf.Tensor(-0.7673952, shape=(), dtype=float32...  \n",
              "1  (tf.Tensor(-0.88270843, shape=(), dtype=float3...  \n",
              "2  (tf.Tensor(-0.71505743, shape=(), dtype=float3...  \n",
              "3  (tf.Tensor(-0.7661737, shape=(), dtype=float32...  \n",
              "4  (tf.Tensor(-0.86482984, shape=(), dtype=float3...  "
            ],
            "text/html": [
              "\n",
              "  <div id=\"df-9ff926c3-dbb9-4166-a0fb-0dec97e0dda1\">\n",
              "    <div class=\"colab-df-container\">\n",
              "      <div>\n",
              "<style scoped>\n",
              "    .dataframe tbody tr th:only-of-type {\n",
              "        vertical-align: middle;\n",
              "    }\n",
              "\n",
              "    .dataframe tbody tr th {\n",
              "        vertical-align: top;\n",
              "    }\n",
              "\n",
              "    .dataframe thead th {\n",
              "        text-align: right;\n",
              "    }\n",
              "</style>\n",
              "<table border=\"1\" class=\"dataframe\">\n",
              "  <thead>\n",
              "    <tr style=\"text-align: right;\">\n",
              "      <th></th>\n",
              "      <th>text</th>\n",
              "      <th>category</th>\n",
              "      <th>cleantext</th>\n",
              "      <th>label</th>\n",
              "      <th>words</th>\n",
              "      <th>text_length</th>\n",
              "      <th>BERT_sequence_output</th>\n",
              "      <th>BERT_pooled_output</th>\n",
              "    </tr>\n",
              "  </thead>\n",
              "  <tbody>\n",
              "    <tr>\n",
              "      <th>0</th>\n",
              "      <td>Lufthansa flies back to profit\\n\\nGerman airli...</td>\n",
              "      <td>business</td>\n",
              "      <td>lufthansa flies back to profit. german airline...</td>\n",
              "      <td>0</td>\n",
              "      <td>[lufthansa, flies, back, to, profit, german, a...</td>\n",
              "      <td>129</td>\n",
              "      <td>((tf.Tensor(-0.7144783, shape=(), dtype=float3...</td>\n",
              "      <td>(tf.Tensor(-0.7673952, shape=(), dtype=float32...</td>\n",
              "    </tr>\n",
              "    <tr>\n",
              "      <th>1</th>\n",
              "      <td>Japanese growth grinds to a halt\\n\\nGrowth in ...</td>\n",
              "      <td>business</td>\n",
              "      <td>japanese growth grinds to a halt. growth in ja...</td>\n",
              "      <td>0</td>\n",
              "      <td>[japanese, growth, grinds, to, halt, growth, i...</td>\n",
              "      <td>253</td>\n",
              "      <td>((tf.Tensor(-0.3408628, shape=(), dtype=float3...</td>\n",
              "      <td>(tf.Tensor(-0.88270843, shape=(), dtype=float3...</td>\n",
              "    </tr>\n",
              "    <tr>\n",
              "      <th>2</th>\n",
              "      <td>WorldCom director admits lying\\n\\nThe former c...</td>\n",
              "      <td>business</td>\n",
              "      <td>worldcom director admits lying. the former chi...</td>\n",
              "      <td>0</td>\n",
              "      <td>[worldcom, director, admits, lying, the, forme...</td>\n",
              "      <td>337</td>\n",
              "      <td>((tf.Tensor(-0.71176547, shape=(), dtype=float...</td>\n",
              "      <td>(tf.Tensor(-0.71505743, shape=(), dtype=float3...</td>\n",
              "    </tr>\n",
              "    <tr>\n",
              "      <th>3</th>\n",
              "      <td>Glaxo aims high after profit fall\\n\\nGlaxoSmit...</td>\n",
              "      <td>business</td>\n",
              "      <td>glaxo aims high after profit fall. glaxosmithk...</td>\n",
              "      <td>0</td>\n",
              "      <td>[glaxo, aims, high, after, profit, fall, glaxo...</td>\n",
              "      <td>190</td>\n",
              "      <td>((tf.Tensor(-0.67004496, shape=(), dtype=float...</td>\n",
              "      <td>(tf.Tensor(-0.7661737, shape=(), dtype=float32...</td>\n",
              "    </tr>\n",
              "    <tr>\n",
              "      <th>4</th>\n",
              "      <td>Peugeot deal boosts Mitsubishi\\n\\nStruggling J...</td>\n",
              "      <td>business</td>\n",
              "      <td>peugeot deal boosts mitsubishi. struggling jap...</td>\n",
              "      <td>0</td>\n",
              "      <td>[peugeot, deal, boosts, mitsubishi, struggling...</td>\n",
              "      <td>279</td>\n",
              "      <td>((tf.Tensor(-0.5811551, shape=(), dtype=float3...</td>\n",
              "      <td>(tf.Tensor(-0.86482984, shape=(), dtype=float3...</td>\n",
              "    </tr>\n",
              "  </tbody>\n",
              "</table>\n",
              "</div>\n",
              "      <button class=\"colab-df-convert\" onclick=\"convertToInteractive('df-9ff926c3-dbb9-4166-a0fb-0dec97e0dda1')\"\n",
              "              title=\"Convert this dataframe to an interactive table.\"\n",
              "              style=\"display:none;\">\n",
              "        \n",
              "  <svg xmlns=\"http://www.w3.org/2000/svg\" height=\"24px\"viewBox=\"0 0 24 24\"\n",
              "       width=\"24px\">\n",
              "    <path d=\"M0 0h24v24H0V0z\" fill=\"none\"/>\n",
              "    <path d=\"M18.56 5.44l.94 2.06.94-2.06 2.06-.94-2.06-.94-.94-2.06-.94 2.06-2.06.94zm-11 1L8.5 8.5l.94-2.06 2.06-.94-2.06-.94L8.5 2.5l-.94 2.06-2.06.94zm10 10l.94 2.06.94-2.06 2.06-.94-2.06-.94-.94-2.06-.94 2.06-2.06.94z\"/><path d=\"M17.41 7.96l-1.37-1.37c-.4-.4-.92-.59-1.43-.59-.52 0-1.04.2-1.43.59L10.3 9.45l-7.72 7.72c-.78.78-.78 2.05 0 2.83L4 21.41c.39.39.9.59 1.41.59.51 0 1.02-.2 1.41-.59l7.78-7.78 2.81-2.81c.8-.78.8-2.07 0-2.86zM5.41 20L4 18.59l7.72-7.72 1.47 1.35L5.41 20z\"/>\n",
              "  </svg>\n",
              "      </button>\n",
              "      \n",
              "  <style>\n",
              "    .colab-df-container {\n",
              "      display:flex;\n",
              "      flex-wrap:wrap;\n",
              "      gap: 12px;\n",
              "    }\n",
              "\n",
              "    .colab-df-convert {\n",
              "      background-color: #E8F0FE;\n",
              "      border: none;\n",
              "      border-radius: 50%;\n",
              "      cursor: pointer;\n",
              "      display: none;\n",
              "      fill: #1967D2;\n",
              "      height: 32px;\n",
              "      padding: 0 0 0 0;\n",
              "      width: 32px;\n",
              "    }\n",
              "\n",
              "    .colab-df-convert:hover {\n",
              "      background-color: #E2EBFA;\n",
              "      box-shadow: 0px 1px 2px rgba(60, 64, 67, 0.3), 0px 1px 3px 1px rgba(60, 64, 67, 0.15);\n",
              "      fill: #174EA6;\n",
              "    }\n",
              "\n",
              "    [theme=dark] .colab-df-convert {\n",
              "      background-color: #3B4455;\n",
              "      fill: #D2E3FC;\n",
              "    }\n",
              "\n",
              "    [theme=dark] .colab-df-convert:hover {\n",
              "      background-color: #434B5C;\n",
              "      box-shadow: 0px 1px 3px 1px rgba(0, 0, 0, 0.15);\n",
              "      filter: drop-shadow(0px 1px 2px rgba(0, 0, 0, 0.3));\n",
              "      fill: #FFFFFF;\n",
              "    }\n",
              "  </style>\n",
              "\n",
              "      <script>\n",
              "        const buttonEl =\n",
              "          document.querySelector('#df-9ff926c3-dbb9-4166-a0fb-0dec97e0dda1 button.colab-df-convert');\n",
              "        buttonEl.style.display =\n",
              "          google.colab.kernel.accessAllowed ? 'block' : 'none';\n",
              "\n",
              "        async function convertToInteractive(key) {\n",
              "          const element = document.querySelector('#df-9ff926c3-dbb9-4166-a0fb-0dec97e0dda1');\n",
              "          const dataTable =\n",
              "            await google.colab.kernel.invokeFunction('convertToInteractive',\n",
              "                                                     [key], {});\n",
              "          if (!dataTable) return;\n",
              "\n",
              "          const docLinkHtml = 'Like what you see? Visit the ' +\n",
              "            '<a target=\"_blank\" href=https://colab.research.google.com/notebooks/data_table.ipynb>data table notebook</a>'\n",
              "            + ' to learn more about interactive tables.';\n",
              "          element.innerHTML = '';\n",
              "          dataTable['output_type'] = 'display_data';\n",
              "          await google.colab.output.renderOutput(dataTable, element);\n",
              "          const docLink = document.createElement('div');\n",
              "          docLink.innerHTML = docLinkHtml;\n",
              "          element.appendChild(docLink);\n",
              "        }\n",
              "      </script>\n",
              "    </div>\n",
              "  </div>\n",
              "  "
            ]
          },
          "metadata": {},
          "execution_count": 97
        }
      ]
    },
    {
      "cell_type": "code",
      "source": [
        "textdocs.to_pickle(\"/content/drive/My Drive/DL_project/df.pickle\")"
      ],
      "metadata": {
        "id": "ULF-cA5Mrzv3"
      },
      "execution_count": null,
      "outputs": []
    },
    {
      "cell_type": "code",
      "source": [],
      "metadata": {
        "id": "kvf-_NaDse0d"
      },
      "execution_count": null,
      "outputs": []
    }
  ]
}
