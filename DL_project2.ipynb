{
  "nbformat": 4,
  "nbformat_minor": 0,
  "metadata": {
    "colab": {
      "provenance": []
    },
    "kernelspec": {
      "name": "python3",
      "display_name": "Python 3"
    },
    "language_info": {
      "name": "python"
    }
  },
  "cells": [
    {
      "cell_type": "code",
      "execution_count": null,
      "metadata": {
        "id": "AWlF0KmJuAeS"
      },
      "outputs": [],
      "source": [
        "import pandas as pd\n",
        "import numpy as np"
      ]
    },
    {
      "cell_type": "code",
      "source": [
        "from google.colab import drive\n",
        "drive.mount('/content/drive')"
      ],
      "metadata": {
        "colab": {
          "base_uri": "https://localhost:8080/"
        },
        "id": "uuokUJPnugiR",
        "outputId": "ab7ac778-4728-45a6-c6df-fedc744eee84"
      },
      "execution_count": null,
      "outputs": [
        {
          "output_type": "stream",
          "name": "stdout",
          "text": [
            "Mounted at /content/drive\n"
          ]
        }
      ]
    },
    {
      "cell_type": "code",
      "source": [
        "path = \"/content/drive/My Drive/DL_project/df.pickle\""
      ],
      "metadata": {
        "id": "7f9FMOVDuod8"
      },
      "execution_count": null,
      "outputs": []
    },
    {
      "cell_type": "code",
      "source": [
        "a = pd.read_pickle(path)"
      ],
      "metadata": {
        "id": "6Sq9zM_PuDjw"
      },
      "execution_count": null,
      "outputs": []
    },
    {
      "cell_type": "code",
      "source": [
        "a.head()"
      ],
      "metadata": {
        "colab": {
          "base_uri": "https://localhost:8080/",
          "height": 337
        },
        "id": "16LaLdoOutbs",
        "outputId": "2e27151c-8196-42c4-ea1c-c9475f0be3d0"
      },
      "execution_count": null,
      "outputs": [
        {
          "output_type": "execute_result",
          "data": {
            "text/plain": [
              "                                                text  category  \\\n",
              "0  Lufthansa flies back to profit\\n\\nGerman airli...  business   \n",
              "1  Japanese growth grinds to a halt\\n\\nGrowth in ...  business   \n",
              "2  WorldCom director admits lying\\n\\nThe former c...  business   \n",
              "3  Glaxo aims high after profit fall\\n\\nGlaxoSmit...  business   \n",
              "4  Peugeot deal boosts Mitsubishi\\n\\nStruggling J...  business   \n",
              "\n",
              "                                           cleantext  label  \\\n",
              "0  lufthansa flies back to profit. german airline...      0   \n",
              "1  japanese growth grinds to a halt. growth in ja...      0   \n",
              "2  worldcom director admits lying. the former chi...      0   \n",
              "3  glaxo aims high after profit fall. glaxosmithk...      0   \n",
              "4  peugeot deal boosts mitsubishi. struggling jap...      0   \n",
              "\n",
              "                                               words  text_length  \\\n",
              "0  [lufthansa, flies, back, to, profit, german, a...          129   \n",
              "1  [japanese, growth, grinds, to, halt, growth, i...          253   \n",
              "2  [worldcom, director, admits, lying, the, forme...          337   \n",
              "3  [glaxo, aims, high, after, profit, fall, glaxo...          190   \n",
              "4  [peugeot, deal, boosts, mitsubishi, struggling...          279   \n",
              "\n",
              "                                BERT_sequence_output  \\\n",
              "0  ((tf.Tensor(-0.7144783, shape=(), dtype=float3...   \n",
              "1  ((tf.Tensor(-0.3408628, shape=(), dtype=float3...   \n",
              "2  ((tf.Tensor(-0.71176547, shape=(), dtype=float...   \n",
              "3  ((tf.Tensor(-0.67004496, shape=(), dtype=float...   \n",
              "4  ((tf.Tensor(-0.5811551, shape=(), dtype=float3...   \n",
              "\n",
              "                                  BERT_pooled_output  \n",
              "0  (tf.Tensor(-0.7673952, shape=(), dtype=float32...  \n",
              "1  (tf.Tensor(-0.88270843, shape=(), dtype=float3...  \n",
              "2  (tf.Tensor(-0.71505743, shape=(), dtype=float3...  \n",
              "3  (tf.Tensor(-0.7661737, shape=(), dtype=float32...  \n",
              "4  (tf.Tensor(-0.86482984, shape=(), dtype=float3...  "
            ],
            "text/html": [
              "\n",
              "  <div id=\"df-1d45eab0-13ff-49f9-ac96-908107724072\">\n",
              "    <div class=\"colab-df-container\">\n",
              "      <div>\n",
              "<style scoped>\n",
              "    .dataframe tbody tr th:only-of-type {\n",
              "        vertical-align: middle;\n",
              "    }\n",
              "\n",
              "    .dataframe tbody tr th {\n",
              "        vertical-align: top;\n",
              "    }\n",
              "\n",
              "    .dataframe thead th {\n",
              "        text-align: right;\n",
              "    }\n",
              "</style>\n",
              "<table border=\"1\" class=\"dataframe\">\n",
              "  <thead>\n",
              "    <tr style=\"text-align: right;\">\n",
              "      <th></th>\n",
              "      <th>text</th>\n",
              "      <th>category</th>\n",
              "      <th>cleantext</th>\n",
              "      <th>label</th>\n",
              "      <th>words</th>\n",
              "      <th>text_length</th>\n",
              "      <th>BERT_sequence_output</th>\n",
              "      <th>BERT_pooled_output</th>\n",
              "    </tr>\n",
              "  </thead>\n",
              "  <tbody>\n",
              "    <tr>\n",
              "      <th>0</th>\n",
              "      <td>Lufthansa flies back to profit\\n\\nGerman airli...</td>\n",
              "      <td>business</td>\n",
              "      <td>lufthansa flies back to profit. german airline...</td>\n",
              "      <td>0</td>\n",
              "      <td>[lufthansa, flies, back, to, profit, german, a...</td>\n",
              "      <td>129</td>\n",
              "      <td>((tf.Tensor(-0.7144783, shape=(), dtype=float3...</td>\n",
              "      <td>(tf.Tensor(-0.7673952, shape=(), dtype=float32...</td>\n",
              "    </tr>\n",
              "    <tr>\n",
              "      <th>1</th>\n",
              "      <td>Japanese growth grinds to a halt\\n\\nGrowth in ...</td>\n",
              "      <td>business</td>\n",
              "      <td>japanese growth grinds to a halt. growth in ja...</td>\n",
              "      <td>0</td>\n",
              "      <td>[japanese, growth, grinds, to, halt, growth, i...</td>\n",
              "      <td>253</td>\n",
              "      <td>((tf.Tensor(-0.3408628, shape=(), dtype=float3...</td>\n",
              "      <td>(tf.Tensor(-0.88270843, shape=(), dtype=float3...</td>\n",
              "    </tr>\n",
              "    <tr>\n",
              "      <th>2</th>\n",
              "      <td>WorldCom director admits lying\\n\\nThe former c...</td>\n",
              "      <td>business</td>\n",
              "      <td>worldcom director admits lying. the former chi...</td>\n",
              "      <td>0</td>\n",
              "      <td>[worldcom, director, admits, lying, the, forme...</td>\n",
              "      <td>337</td>\n",
              "      <td>((tf.Tensor(-0.71176547, shape=(), dtype=float...</td>\n",
              "      <td>(tf.Tensor(-0.71505743, shape=(), dtype=float3...</td>\n",
              "    </tr>\n",
              "    <tr>\n",
              "      <th>3</th>\n",
              "      <td>Glaxo aims high after profit fall\\n\\nGlaxoSmit...</td>\n",
              "      <td>business</td>\n",
              "      <td>glaxo aims high after profit fall. glaxosmithk...</td>\n",
              "      <td>0</td>\n",
              "      <td>[glaxo, aims, high, after, profit, fall, glaxo...</td>\n",
              "      <td>190</td>\n",
              "      <td>((tf.Tensor(-0.67004496, shape=(), dtype=float...</td>\n",
              "      <td>(tf.Tensor(-0.7661737, shape=(), dtype=float32...</td>\n",
              "    </tr>\n",
              "    <tr>\n",
              "      <th>4</th>\n",
              "      <td>Peugeot deal boosts Mitsubishi\\n\\nStruggling J...</td>\n",
              "      <td>business</td>\n",
              "      <td>peugeot deal boosts mitsubishi. struggling jap...</td>\n",
              "      <td>0</td>\n",
              "      <td>[peugeot, deal, boosts, mitsubishi, struggling...</td>\n",
              "      <td>279</td>\n",
              "      <td>((tf.Tensor(-0.5811551, shape=(), dtype=float3...</td>\n",
              "      <td>(tf.Tensor(-0.86482984, shape=(), dtype=float3...</td>\n",
              "    </tr>\n",
              "  </tbody>\n",
              "</table>\n",
              "</div>\n",
              "      <button class=\"colab-df-convert\" onclick=\"convertToInteractive('df-1d45eab0-13ff-49f9-ac96-908107724072')\"\n",
              "              title=\"Convert this dataframe to an interactive table.\"\n",
              "              style=\"display:none;\">\n",
              "        \n",
              "  <svg xmlns=\"http://www.w3.org/2000/svg\" height=\"24px\"viewBox=\"0 0 24 24\"\n",
              "       width=\"24px\">\n",
              "    <path d=\"M0 0h24v24H0V0z\" fill=\"none\"/>\n",
              "    <path d=\"M18.56 5.44l.94 2.06.94-2.06 2.06-.94-2.06-.94-.94-2.06-.94 2.06-2.06.94zm-11 1L8.5 8.5l.94-2.06 2.06-.94-2.06-.94L8.5 2.5l-.94 2.06-2.06.94zm10 10l.94 2.06.94-2.06 2.06-.94-2.06-.94-.94-2.06-.94 2.06-2.06.94z\"/><path d=\"M17.41 7.96l-1.37-1.37c-.4-.4-.92-.59-1.43-.59-.52 0-1.04.2-1.43.59L10.3 9.45l-7.72 7.72c-.78.78-.78 2.05 0 2.83L4 21.41c.39.39.9.59 1.41.59.51 0 1.02-.2 1.41-.59l7.78-7.78 2.81-2.81c.8-.78.8-2.07 0-2.86zM5.41 20L4 18.59l7.72-7.72 1.47 1.35L5.41 20z\"/>\n",
              "  </svg>\n",
              "      </button>\n",
              "      \n",
              "  <style>\n",
              "    .colab-df-container {\n",
              "      display:flex;\n",
              "      flex-wrap:wrap;\n",
              "      gap: 12px;\n",
              "    }\n",
              "\n",
              "    .colab-df-convert {\n",
              "      background-color: #E8F0FE;\n",
              "      border: none;\n",
              "      border-radius: 50%;\n",
              "      cursor: pointer;\n",
              "      display: none;\n",
              "      fill: #1967D2;\n",
              "      height: 32px;\n",
              "      padding: 0 0 0 0;\n",
              "      width: 32px;\n",
              "    }\n",
              "\n",
              "    .colab-df-convert:hover {\n",
              "      background-color: #E2EBFA;\n",
              "      box-shadow: 0px 1px 2px rgba(60, 64, 67, 0.3), 0px 1px 3px 1px rgba(60, 64, 67, 0.15);\n",
              "      fill: #174EA6;\n",
              "    }\n",
              "\n",
              "    [theme=dark] .colab-df-convert {\n",
              "      background-color: #3B4455;\n",
              "      fill: #D2E3FC;\n",
              "    }\n",
              "\n",
              "    [theme=dark] .colab-df-convert:hover {\n",
              "      background-color: #434B5C;\n",
              "      box-shadow: 0px 1px 3px 1px rgba(0, 0, 0, 0.15);\n",
              "      filter: drop-shadow(0px 1px 2px rgba(0, 0, 0, 0.3));\n",
              "      fill: #FFFFFF;\n",
              "    }\n",
              "  </style>\n",
              "\n",
              "      <script>\n",
              "        const buttonEl =\n",
              "          document.querySelector('#df-1d45eab0-13ff-49f9-ac96-908107724072 button.colab-df-convert');\n",
              "        buttonEl.style.display =\n",
              "          google.colab.kernel.accessAllowed ? 'block' : 'none';\n",
              "\n",
              "        async function convertToInteractive(key) {\n",
              "          const element = document.querySelector('#df-1d45eab0-13ff-49f9-ac96-908107724072');\n",
              "          const dataTable =\n",
              "            await google.colab.kernel.invokeFunction('convertToInteractive',\n",
              "                                                     [key], {});\n",
              "          if (!dataTable) return;\n",
              "\n",
              "          const docLinkHtml = 'Like what you see? Visit the ' +\n",
              "            '<a target=\"_blank\" href=https://colab.research.google.com/notebooks/data_table.ipynb>data table notebook</a>'\n",
              "            + ' to learn more about interactive tables.';\n",
              "          element.innerHTML = '';\n",
              "          dataTable['output_type'] = 'display_data';\n",
              "          await google.colab.output.renderOutput(dataTable, element);\n",
              "          const docLink = document.createElement('div');\n",
              "          docLink.innerHTML = docLinkHtml;\n",
              "          element.appendChild(docLink);\n",
              "        }\n",
              "      </script>\n",
              "    </div>\n",
              "  </div>\n",
              "  "
            ]
          },
          "metadata": {},
          "execution_count": 5
        }
      ]
    },
    {
      "cell_type": "code",
      "source": [
        "type(a['BERT_sequence_output'][0])"
      ],
      "metadata": {
        "colab": {
          "base_uri": "https://localhost:8080/"
        },
        "id": "M4Z-lpDjuwK1",
        "outputId": "9ff0cafd-c595-4ef8-c75c-2e42bbc87176"
      },
      "execution_count": null,
      "outputs": [
        {
          "output_type": "execute_result",
          "data": {
            "text/plain": [
              "tensorflow.python.framework.ops.EagerTensor"
            ]
          },
          "metadata": {},
          "execution_count": 6
        }
      ]
    },
    {
      "cell_type": "code",
      "source": [
        "a['BERT_sequence_output'].shape"
      ],
      "metadata": {
        "colab": {
          "base_uri": "https://localhost:8080/"
        },
        "id": "1gkToKKxFT6U",
        "outputId": "40d0101c-4ea8-4722-ba25-b37e645a21c3"
      },
      "execution_count": null,
      "outputs": [
        {
          "output_type": "execute_result",
          "data": {
            "text/plain": [
              "(992,)"
            ]
          },
          "metadata": {},
          "execution_count": 7
        }
      ]
    },
    {
      "cell_type": "code",
      "source": [
        "import numpy as np\n",
        "import pandas as pd\n",
        "import tensorflow as tf\n",
        "from tensorflow import keras\n",
        "from tensorflow.keras import layers\n",
        "from keras.layers import Dropout\n",
        "import tensorflow.keras.backend as K\n",
        "import numpy as np\n",
        "import matplotlib.pyplot as plt"
      ],
      "metadata": {
        "id": "tHF_KMZLF9wJ"
      },
      "execution_count": null,
      "outputs": []
    },
    {
      "cell_type": "code",
      "source": [
        "import numpy as np\n",
        "from sklearn.model_selection import train_test_split"
      ],
      "metadata": {
        "id": "eceCUrgqHzNJ"
      },
      "execution_count": null,
      "outputs": []
    },
    {
      "cell_type": "code",
      "source": [
        "X_train, X_test, y_train, y_test = train_test_split(a['BERT_pooled_output'], a['label'], test_size=0.2, random_state=42)"
      ],
      "metadata": {
        "id": "nRBID9xhH1KD"
      },
      "execution_count": null,
      "outputs": []
    },
    {
      "cell_type": "code",
      "source": [
        "X_train.shape"
      ],
      "metadata": {
        "colab": {
          "base_uri": "https://localhost:8080/"
        },
        "id": "O3myC-Wn1Ylz",
        "outputId": "fb8ff502-011d-4cdd-cd47-92034a5143db"
      },
      "execution_count": null,
      "outputs": [
        {
          "output_type": "execute_result",
          "data": {
            "text/plain": [
              "(793,)"
            ]
          },
          "metadata": {},
          "execution_count": 11
        }
      ]
    },
    {
      "cell_type": "code",
      "source": [
        "X_train2 = np.array([np.array(val) for val in X_train])"
      ],
      "metadata": {
        "id": "13HL2xBW8BMd"
      },
      "execution_count": null,
      "outputs": []
    },
    {
      "cell_type": "code",
      "source": [
        "y_train2 = np.array([np.array(val) for val in y_train])"
      ],
      "metadata": {
        "id": "jpVT85v78BHQ"
      },
      "execution_count": null,
      "outputs": []
    },
    {
      "cell_type": "code",
      "source": [
        "X_train2.shape"
      ],
      "metadata": {
        "colab": {
          "base_uri": "https://localhost:8080/"
        },
        "id": "Y_e6XMtI8EwX",
        "outputId": "2ccb648c-df15-4fe8-f78a-c87a368b14f4"
      },
      "execution_count": null,
      "outputs": [
        {
          "output_type": "execute_result",
          "data": {
            "text/plain": [
              "(793, 768)"
            ]
          },
          "metadata": {},
          "execution_count": 14
        }
      ]
    },
    {
      "cell_type": "code",
      "source": [
        "X_train3, X_test3, y_train3, y_test3 = train_test_split(a['BERT_sequence_output'], a['label'], test_size=0.2, random_state=42)"
      ],
      "metadata": {
        "id": "Qde7xpSopYDt"
      },
      "execution_count": null,
      "outputs": []
    },
    {
      "cell_type": "code",
      "source": [
        "X_train3 = np.array([np.array(val) for val in X_train3])"
      ],
      "metadata": {
        "id": "2SmH6tvTpfq6"
      },
      "execution_count": null,
      "outputs": []
    },
    {
      "cell_type": "code",
      "source": [
        "y_train3 = np.array([np.array(val) for val in y_train3])"
      ],
      "metadata": {
        "id": "_hB7UT1-pfq6"
      },
      "execution_count": null,
      "outputs": []
    },
    {
      "cell_type": "code",
      "source": [
        "X_train3.shape"
      ],
      "metadata": {
        "colab": {
          "base_uri": "https://localhost:8080/"
        },
        "outputId": "3f94f9b3-6a13-4522-cff4-021696912b64",
        "id": "7dBeM82Vpfq7"
      },
      "execution_count": null,
      "outputs": [
        {
          "output_type": "execute_result",
          "data": {
            "text/plain": [
              "(793, 128, 768)"
            ]
          },
          "metadata": {},
          "execution_count": 18
        }
      ]
    },
    {
      "cell_type": "code",
      "source": [
        "X_test3 = np.array([np.array(val) for val in X_test3])"
      ],
      "metadata": {
        "id": "oSjW_eXNpoOi"
      },
      "execution_count": null,
      "outputs": []
    },
    {
      "cell_type": "code",
      "source": [
        "y_test3 = np.array([np.array(val) for val in y_test3])"
      ],
      "metadata": {
        "id": "QzU2di-FpoOi"
      },
      "execution_count": null,
      "outputs": []
    },
    {
      "cell_type": "code",
      "source": [
        "X_test3.shape"
      ],
      "metadata": {
        "colab": {
          "base_uri": "https://localhost:8080/"
        },
        "id": "lLlAUBbopuFJ",
        "outputId": "fc8bd415-8e84-4050-cf63-9efec9812cb3"
      },
      "execution_count": null,
      "outputs": [
        {
          "output_type": "execute_result",
          "data": {
            "text/plain": [
              "(199, 128, 768)"
            ]
          },
          "metadata": {},
          "execution_count": 21
        }
      ]
    },
    {
      "cell_type": "markdown",
      "source": [
        "# **Feed forward neural network model**"
      ],
      "metadata": {
        "id": "_w4nxu1DFGon"
      }
    },
    {
      "cell_type": "code",
      "source": [
        "# design the neural network model\n",
        "modelff = keras.Sequential()\n",
        "modelff.add(layers.Dense(768, activation='relu'))\n",
        "modelff.add(layers.Dense(768, activation='relu'))\n",
        "modelff.add(layers.Dense(10,activation=tf.nn.softmax))\n",
        "modelff.build(input_shape=(X_train2.shape[0],768))"
      ],
      "metadata": {
        "id": "nqNyZ0U7u7f0"
      },
      "execution_count": null,
      "outputs": []
    },
    {
      "cell_type": "code",
      "source": [
        "modelff.summary()"
      ],
      "metadata": {
        "colab": {
          "base_uri": "https://localhost:8080/"
        },
        "id": "LCEtyhc8F-oN",
        "outputId": "08ad9257-a221-4eb4-b7e7-68958d0c62e0"
      },
      "execution_count": null,
      "outputs": [
        {
          "output_type": "stream",
          "name": "stdout",
          "text": [
            "Model: \"sequential\"\n",
            "_________________________________________________________________\n",
            " Layer (type)                Output Shape              Param #   \n",
            "=================================================================\n",
            " dense (Dense)               (793, 768)                590592    \n",
            "                                                                 \n",
            " dense_1 (Dense)             (793, 768)                590592    \n",
            "                                                                 \n",
            " dense_2 (Dense)             (793, 10)                 7690      \n",
            "                                                                 \n",
            "=================================================================\n",
            "Total params: 1,188,874\n",
            "Trainable params: 1,188,874\n",
            "Non-trainable params: 0\n",
            "_________________________________________________________________\n"
          ]
        }
      ]
    },
    {
      "cell_type": "code",
      "source": [
        "#Defining metrics for model evaluation\n",
        "modelff.compile(loss='sparse_categorical_crossentropy', optimizer='adam',metrics=['accuracy'])"
      ],
      "metadata": {
        "id": "MD_a_U2bHKI8"
      },
      "execution_count": null,
      "outputs": []
    },
    {
      "cell_type": "code",
      "source": [
        "modelff.summary()"
      ],
      "metadata": {
        "colab": {
          "base_uri": "https://localhost:8080/"
        },
        "id": "zQz8GlSu8cqg",
        "outputId": "8644e262-d2fb-46a9-a3e0-a8d5f2bbdfcb"
      },
      "execution_count": null,
      "outputs": [
        {
          "output_type": "stream",
          "name": "stdout",
          "text": [
            "Model: \"sequential\"\n",
            "_________________________________________________________________\n",
            " Layer (type)                Output Shape              Param #   \n",
            "=================================================================\n",
            " dense (Dense)               (793, 768)                590592    \n",
            "                                                                 \n",
            " dense_1 (Dense)             (793, 768)                590592    \n",
            "                                                                 \n",
            " dense_2 (Dense)             (793, 10)                 7690      \n",
            "                                                                 \n",
            "=================================================================\n",
            "Total params: 1,188,874\n",
            "Trainable params: 1,188,874\n",
            "Non-trainable params: 0\n",
            "_________________________________________________________________\n"
          ]
        }
      ]
    },
    {
      "cell_type": "code",
      "source": [
        "X_train2.shape"
      ],
      "metadata": {
        "colab": {
          "base_uri": "https://localhost:8080/"
        },
        "id": "zY7TXH7QfY9z",
        "outputId": "f525028e-10e8-41e1-99db-52918c6a8b2e"
      },
      "execution_count": null,
      "outputs": [
        {
          "output_type": "execute_result",
          "data": {
            "text/plain": [
              "(793, 768)"
            ]
          },
          "metadata": {},
          "execution_count": 26
        }
      ]
    },
    {
      "cell_type": "code",
      "source": [
        "y_train2.shape"
      ],
      "metadata": {
        "colab": {
          "base_uri": "https://localhost:8080/"
        },
        "id": "nqrYh5iRjdM5",
        "outputId": "a6b1ed20-7156-4684-9fd9-5e3c2f5fd7bf"
      },
      "execution_count": null,
      "outputs": [
        {
          "output_type": "execute_result",
          "data": {
            "text/plain": [
              "(793,)"
            ]
          },
          "metadata": {},
          "execution_count": 27
        }
      ]
    },
    {
      "cell_type": "code",
      "source": [
        "#Model fitting and generating names\n",
        "modelff.fit(x = X_train2, y = y_train2, epochs=100, verbose=1)"
      ],
      "metadata": {
        "colab": {
          "base_uri": "https://localhost:8080/"
        },
        "id": "1SCC8QotKYXk",
        "outputId": "1a68d609-2df3-4195-befb-d9dec5a7c287"
      },
      "execution_count": null,
      "outputs": [
        {
          "output_type": "stream",
          "name": "stdout",
          "text": [
            "Epoch 1/100\n",
            "25/25 [==============================] - 1s 14ms/step - loss: 2.2142 - accuracy: 0.2093\n",
            "Epoch 2/100\n",
            "25/25 [==============================] - 0s 14ms/step - loss: 1.5346 - accuracy: 0.4590\n",
            "Epoch 3/100\n",
            "25/25 [==============================] - 0s 14ms/step - loss: 1.1664 - accuracy: 0.5637\n",
            "Epoch 4/100\n",
            "25/25 [==============================] - 0s 15ms/step - loss: 0.9828 - accuracy: 0.6368\n",
            "Epoch 5/100\n",
            "25/25 [==============================] - 0s 13ms/step - loss: 0.7126 - accuracy: 0.7516\n",
            "Epoch 6/100\n",
            "25/25 [==============================] - 0s 13ms/step - loss: 0.6275 - accuracy: 0.8008\n",
            "Epoch 7/100\n",
            "25/25 [==============================] - 0s 14ms/step - loss: 0.5862 - accuracy: 0.7957\n",
            "Epoch 8/100\n",
            "25/25 [==============================] - 0s 14ms/step - loss: 0.5540 - accuracy: 0.8045\n",
            "Epoch 9/100\n",
            "25/25 [==============================] - 0s 13ms/step - loss: 0.4371 - accuracy: 0.8537\n",
            "Epoch 10/100\n",
            "25/25 [==============================] - 0s 13ms/step - loss: 0.2923 - accuracy: 0.9004\n",
            "Epoch 11/100\n",
            "25/25 [==============================] - 0s 13ms/step - loss: 0.2333 - accuracy: 0.9294\n",
            "Epoch 12/100\n",
            "25/25 [==============================] - 0s 13ms/step - loss: 0.3258 - accuracy: 0.8789\n",
            "Epoch 13/100\n",
            "25/25 [==============================] - 0s 13ms/step - loss: 0.3770 - accuracy: 0.8701\n",
            "Epoch 14/100\n",
            "25/25 [==============================] - 0s 13ms/step - loss: 0.3154 - accuracy: 0.8878\n",
            "Epoch 15/100\n",
            "25/25 [==============================] - 0s 13ms/step - loss: 0.3072 - accuracy: 0.8789\n",
            "Epoch 16/100\n",
            "25/25 [==============================] - 0s 14ms/step - loss: 0.2607 - accuracy: 0.9079\n",
            "Epoch 17/100\n",
            "25/25 [==============================] - 0s 14ms/step - loss: 0.2139 - accuracy: 0.9206\n",
            "Epoch 18/100\n",
            "25/25 [==============================] - 0s 13ms/step - loss: 0.1903 - accuracy: 0.9294\n",
            "Epoch 19/100\n",
            "25/25 [==============================] - 0s 14ms/step - loss: 0.3774 - accuracy: 0.8651\n",
            "Epoch 20/100\n",
            "25/25 [==============================] - 0s 14ms/step - loss: 0.2285 - accuracy: 0.9193\n",
            "Epoch 21/100\n",
            "25/25 [==============================] - 0s 13ms/step - loss: 0.2214 - accuracy: 0.9193\n",
            "Epoch 22/100\n",
            "25/25 [==============================] - 0s 14ms/step - loss: 0.2440 - accuracy: 0.9130\n",
            "Epoch 23/100\n",
            "25/25 [==============================] - 0s 13ms/step - loss: 0.1676 - accuracy: 0.9496\n",
            "Epoch 24/100\n",
            "25/25 [==============================] - 0s 13ms/step - loss: 0.3324 - accuracy: 0.8802\n",
            "Epoch 25/100\n",
            "25/25 [==============================] - 0s 14ms/step - loss: 0.3088 - accuracy: 0.8928\n",
            "Epoch 26/100\n",
            "25/25 [==============================] - 0s 13ms/step - loss: 0.2176 - accuracy: 0.9180\n",
            "Epoch 27/100\n",
            "25/25 [==============================] - 0s 14ms/step - loss: 0.1296 - accuracy: 0.9533\n",
            "Epoch 28/100\n",
            "25/25 [==============================] - 0s 14ms/step - loss: 0.1271 - accuracy: 0.9508\n",
            "Epoch 29/100\n",
            "25/25 [==============================] - 0s 13ms/step - loss: 0.1516 - accuracy: 0.9470\n",
            "Epoch 30/100\n",
            "25/25 [==============================] - 0s 13ms/step - loss: 0.3027 - accuracy: 0.9042\n",
            "Epoch 31/100\n",
            "25/25 [==============================] - 0s 14ms/step - loss: 0.1462 - accuracy: 0.9584\n",
            "Epoch 32/100\n",
            "25/25 [==============================] - 0s 14ms/step - loss: 0.1168 - accuracy: 0.9559\n",
            "Epoch 33/100\n",
            "25/25 [==============================] - 0s 14ms/step - loss: 0.1238 - accuracy: 0.9596\n",
            "Epoch 34/100\n",
            "25/25 [==============================] - 0s 14ms/step - loss: 0.0940 - accuracy: 0.9672\n",
            "Epoch 35/100\n",
            "25/25 [==============================] - 0s 13ms/step - loss: 0.0764 - accuracy: 0.9798\n",
            "Epoch 36/100\n",
            "25/25 [==============================] - 0s 13ms/step - loss: 0.0974 - accuracy: 0.9559\n",
            "Epoch 37/100\n",
            "25/25 [==============================] - 0s 14ms/step - loss: 0.0968 - accuracy: 0.9685\n",
            "Epoch 38/100\n",
            "25/25 [==============================] - 0s 13ms/step - loss: 0.0721 - accuracy: 0.9735\n",
            "Epoch 39/100\n",
            "25/25 [==============================] - 0s 13ms/step - loss: 0.1189 - accuracy: 0.9584\n",
            "Epoch 40/100\n",
            "25/25 [==============================] - 0s 14ms/step - loss: 0.1322 - accuracy: 0.9559\n",
            "Epoch 41/100\n",
            "25/25 [==============================] - 0s 14ms/step - loss: 0.1928 - accuracy: 0.9256\n",
            "Epoch 42/100\n",
            "25/25 [==============================] - 0s 13ms/step - loss: 0.3731 - accuracy: 0.8802\n",
            "Epoch 43/100\n",
            "25/25 [==============================] - 0s 14ms/step - loss: 0.1884 - accuracy: 0.9395\n",
            "Epoch 44/100\n",
            "25/25 [==============================] - 0s 13ms/step - loss: 0.1116 - accuracy: 0.9660\n",
            "Epoch 45/100\n",
            "25/25 [==============================] - 0s 13ms/step - loss: 0.1482 - accuracy: 0.9445\n",
            "Epoch 46/100\n",
            "25/25 [==============================] - 0s 14ms/step - loss: 0.0850 - accuracy: 0.9735\n",
            "Epoch 47/100\n",
            "25/25 [==============================] - 0s 13ms/step - loss: 0.0925 - accuracy: 0.9735\n",
            "Epoch 48/100\n",
            "25/25 [==============================] - 0s 13ms/step - loss: 0.0786 - accuracy: 0.9723\n",
            "Epoch 49/100\n",
            "25/25 [==============================] - 0s 14ms/step - loss: 0.0889 - accuracy: 0.9672\n",
            "Epoch 50/100\n",
            "25/25 [==============================] - 0s 12ms/step - loss: 0.0594 - accuracy: 0.9798\n",
            "Epoch 51/100\n",
            "25/25 [==============================] - 0s 13ms/step - loss: 0.0460 - accuracy: 0.9861\n",
            "Epoch 52/100\n",
            "25/25 [==============================] - 0s 14ms/step - loss: 0.0377 - accuracy: 0.9874\n",
            "Epoch 53/100\n",
            "25/25 [==============================] - 0s 13ms/step - loss: 0.1680 - accuracy: 0.9420\n",
            "Epoch 54/100\n",
            "25/25 [==============================] - 0s 13ms/step - loss: 0.2180 - accuracy: 0.9206\n",
            "Epoch 55/100\n",
            "25/25 [==============================] - 0s 14ms/step - loss: 0.1477 - accuracy: 0.9559\n",
            "Epoch 56/100\n",
            "25/25 [==============================] - 0s 14ms/step - loss: 0.0849 - accuracy: 0.9735\n",
            "Epoch 57/100\n",
            "25/25 [==============================] - 0s 13ms/step - loss: 0.0904 - accuracy: 0.9660\n",
            "Epoch 58/100\n",
            "25/25 [==============================] - 0s 14ms/step - loss: 0.0688 - accuracy: 0.9773\n",
            "Epoch 59/100\n",
            "25/25 [==============================] - 0s 13ms/step - loss: 0.1201 - accuracy: 0.9533\n",
            "Epoch 60/100\n",
            "25/25 [==============================] - 0s 13ms/step - loss: 0.0940 - accuracy: 0.9685\n",
            "Epoch 61/100\n",
            "25/25 [==============================] - 0s 14ms/step - loss: 0.0588 - accuracy: 0.9823\n",
            "Epoch 62/100\n",
            "25/25 [==============================] - 0s 13ms/step - loss: 0.0381 - accuracy: 0.9849\n",
            "Epoch 63/100\n",
            "25/25 [==============================] - 0s 13ms/step - loss: 0.0569 - accuracy: 0.9798\n",
            "Epoch 64/100\n",
            "25/25 [==============================] - 0s 14ms/step - loss: 0.2729 - accuracy: 0.9054\n",
            "Epoch 65/100\n",
            "25/25 [==============================] - 0s 13ms/step - loss: 0.1705 - accuracy: 0.9470\n",
            "Epoch 66/100\n",
            "25/25 [==============================] - 0s 13ms/step - loss: 0.0784 - accuracy: 0.9723\n",
            "Epoch 67/100\n",
            "25/25 [==============================] - 0s 14ms/step - loss: 0.0817 - accuracy: 0.9786\n",
            "Epoch 68/100\n",
            "25/25 [==============================] - 0s 13ms/step - loss: 0.0849 - accuracy: 0.9685\n",
            "Epoch 69/100\n",
            "25/25 [==============================] - 0s 13ms/step - loss: 0.1778 - accuracy: 0.9357\n",
            "Epoch 70/100\n",
            "25/25 [==============================] - 0s 14ms/step - loss: 0.0843 - accuracy: 0.9685\n",
            "Epoch 71/100\n",
            "25/25 [==============================] - 0s 13ms/step - loss: 0.0537 - accuracy: 0.9836\n",
            "Epoch 72/100\n",
            "25/25 [==============================] - 0s 13ms/step - loss: 0.0681 - accuracy: 0.9798\n",
            "Epoch 73/100\n",
            "25/25 [==============================] - 0s 14ms/step - loss: 0.0617 - accuracy: 0.9798\n",
            "Epoch 74/100\n",
            "25/25 [==============================] - 0s 13ms/step - loss: 0.0424 - accuracy: 0.9849\n",
            "Epoch 75/100\n",
            "25/25 [==============================] - 0s 13ms/step - loss: 0.0892 - accuracy: 0.9634\n",
            "Epoch 76/100\n",
            "25/25 [==============================] - 0s 14ms/step - loss: 0.0944 - accuracy: 0.9697\n",
            "Epoch 77/100\n",
            "25/25 [==============================] - 0s 14ms/step - loss: 0.0381 - accuracy: 0.9912\n",
            "Epoch 78/100\n",
            "25/25 [==============================] - 0s 14ms/step - loss: 0.0293 - accuracy: 0.9899\n",
            "Epoch 79/100\n",
            "25/25 [==============================] - 0s 14ms/step - loss: 0.0307 - accuracy: 0.9887\n",
            "Epoch 80/100\n",
            "25/25 [==============================] - 0s 14ms/step - loss: 0.1294 - accuracy: 0.9559\n",
            "Epoch 81/100\n",
            "25/25 [==============================] - 0s 13ms/step - loss: 0.1852 - accuracy: 0.9369\n",
            "Epoch 82/100\n",
            "25/25 [==============================] - 0s 14ms/step - loss: 0.1518 - accuracy: 0.9496\n",
            "Epoch 83/100\n",
            "25/25 [==============================] - 0s 13ms/step - loss: 0.1302 - accuracy: 0.9496\n",
            "Epoch 84/100\n",
            "25/25 [==============================] - 0s 14ms/step - loss: 0.1778 - accuracy: 0.9433\n",
            "Epoch 85/100\n",
            "25/25 [==============================] - 0s 14ms/step - loss: 0.0757 - accuracy: 0.9786\n",
            "Epoch 86/100\n",
            "25/25 [==============================] - 0s 14ms/step - loss: 0.0272 - accuracy: 0.9937\n",
            "Epoch 87/100\n",
            "25/25 [==============================] - 0s 13ms/step - loss: 0.0746 - accuracy: 0.9723\n",
            "Epoch 88/100\n",
            "25/25 [==============================] - 0s 14ms/step - loss: 0.0680 - accuracy: 0.9735\n",
            "Epoch 89/100\n",
            "25/25 [==============================] - 0s 14ms/step - loss: 0.0310 - accuracy: 0.9924\n",
            "Epoch 90/100\n",
            "25/25 [==============================] - 0s 13ms/step - loss: 0.0349 - accuracy: 0.9887\n",
            "Epoch 91/100\n",
            "25/25 [==============================] - 0s 14ms/step - loss: 0.0539 - accuracy: 0.9786\n",
            "Epoch 92/100\n",
            "25/25 [==============================] - 0s 13ms/step - loss: 0.0280 - accuracy: 0.9912\n",
            "Epoch 93/100\n",
            "25/25 [==============================] - 0s 13ms/step - loss: 0.1233 - accuracy: 0.9596\n",
            "Epoch 94/100\n",
            "25/25 [==============================] - 0s 14ms/step - loss: 0.0810 - accuracy: 0.9672\n",
            "Epoch 95/100\n",
            "25/25 [==============================] - 0s 14ms/step - loss: 0.0269 - accuracy: 0.9924\n",
            "Epoch 96/100\n",
            "25/25 [==============================] - 0s 14ms/step - loss: 0.0230 - accuracy: 0.9950\n",
            "Epoch 97/100\n",
            "25/25 [==============================] - 0s 14ms/step - loss: 0.0147 - accuracy: 0.9975\n",
            "Epoch 98/100\n",
            "25/25 [==============================] - 0s 15ms/step - loss: 0.0147 - accuracy: 0.9962\n",
            "Epoch 99/100\n",
            "25/25 [==============================] - 0s 13ms/step - loss: 0.0197 - accuracy: 0.9937\n",
            "Epoch 100/100\n",
            "25/25 [==============================] - 0s 14ms/step - loss: 0.0192 - accuracy: 0.9937\n"
          ]
        },
        {
          "output_type": "execute_result",
          "data": {
            "text/plain": [
              "<keras.callbacks.History at 0x7f656913ab50>"
            ]
          },
          "metadata": {},
          "execution_count": 28
        }
      ]
    },
    {
      "cell_type": "code",
      "source": [
        "X_test2 = np.array([np.array(val) for val in X_test])"
      ],
      "metadata": {
        "id": "SIYlNhn2WGqx"
      },
      "execution_count": null,
      "outputs": []
    },
    {
      "cell_type": "code",
      "source": [
        "y_test2 = np.array([np.array(val) for val in y_test])"
      ],
      "metadata": {
        "id": "JNrp6RoA9vx1"
      },
      "execution_count": null,
      "outputs": []
    },
    {
      "cell_type": "code",
      "source": [
        "X_test2.shape"
      ],
      "metadata": {
        "colab": {
          "base_uri": "https://localhost:8080/"
        },
        "id": "99P6RZ00-SJY",
        "outputId": "f232c60c-2c28-4eee-d2ab-e99320a62809"
      },
      "execution_count": null,
      "outputs": [
        {
          "output_type": "execute_result",
          "data": {
            "text/plain": [
              "(199, 768)"
            ]
          },
          "metadata": {},
          "execution_count": 31
        }
      ]
    },
    {
      "cell_type": "code",
      "source": [
        "y_test2.shape"
      ],
      "metadata": {
        "colab": {
          "base_uri": "https://localhost:8080/"
        },
        "id": "IZ7lU3Ue-V-x",
        "outputId": "c072bd72-f955-4685-ffa1-7a945d3ec8f2"
      },
      "execution_count": null,
      "outputs": [
        {
          "output_type": "execute_result",
          "data": {
            "text/plain": [
              "(199,)"
            ]
          },
          "metadata": {},
          "execution_count": 32
        }
      ]
    },
    {
      "cell_type": "code",
      "source": [
        "modelff.evaluate(X_test2, y_test2)"
      ],
      "metadata": {
        "colab": {
          "base_uri": "https://localhost:8080/"
        },
        "id": "3fchoVaB-LX3",
        "outputId": "7c1bd938-4401-46c3-9def-ef311e7d2d37"
      },
      "execution_count": null,
      "outputs": [
        {
          "output_type": "stream",
          "name": "stdout",
          "text": [
            "7/7 [==============================] - 0s 5ms/step - loss: 0.3229 - accuracy: 0.8794\n"
          ]
        },
        {
          "output_type": "execute_result",
          "data": {
            "text/plain": [
              "[0.3229171633720398, 0.8793969750404358]"
            ]
          },
          "metadata": {},
          "execution_count": 33
        }
      ]
    },
    {
      "cell_type": "markdown",
      "source": [
        "# **Model with L2 regularization**"
      ],
      "metadata": {
        "id": "a_AQ8vMxjdRl"
      }
    },
    {
      "cell_type": "code",
      "source": [
        "# design the neural network model\n",
        "modell2 = keras.Sequential()\n",
        "modell2.add(layers.Dense(768, activation='relu',kernel_regularizer=keras.regularizers.l2(0.01)))\n",
        "modell2.add(layers.Dense(768, activation='relu',kernel_regularizer=keras.regularizers.l2(0.01)))\n",
        "modell2.add(layers.Dense(10,activation=tf.nn.softmax))\n",
        "modell2.build(input_shape=(X_train2.shape[0],768))"
      ],
      "metadata": {
        "id": "Eog1CdoQjZj3"
      },
      "execution_count": null,
      "outputs": []
    },
    {
      "cell_type": "code",
      "source": [
        "modell2.summary()"
      ],
      "metadata": {
        "colab": {
          "base_uri": "https://localhost:8080/"
        },
        "id": "BtU_jww9kCBs",
        "outputId": "32076eab-b076-48b5-c236-5967ff3c593b"
      },
      "execution_count": null,
      "outputs": [
        {
          "output_type": "stream",
          "name": "stdout",
          "text": [
            "Model: \"sequential_1\"\n",
            "_________________________________________________________________\n",
            " Layer (type)                Output Shape              Param #   \n",
            "=================================================================\n",
            " dense_3 (Dense)             (793, 768)                590592    \n",
            "                                                                 \n",
            " dense_4 (Dense)             (793, 768)                590592    \n",
            "                                                                 \n",
            " dense_5 (Dense)             (793, 10)                 7690      \n",
            "                                                                 \n",
            "=================================================================\n",
            "Total params: 1,188,874\n",
            "Trainable params: 1,188,874\n",
            "Non-trainable params: 0\n",
            "_________________________________________________________________\n"
          ]
        }
      ]
    },
    {
      "cell_type": "code",
      "source": [
        "#Defining metrics for model evaluation\n",
        "modell2.compile(loss='sparse_categorical_crossentropy', optimizer='adam',metrics=['accuracy'])"
      ],
      "metadata": {
        "id": "D94XjyMzkK-l"
      },
      "execution_count": null,
      "outputs": []
    },
    {
      "cell_type": "code",
      "source": [
        "#Model fitting and generating names\n",
        "modell2.fit(x = X_train2, y = y_train2, epochs=100, verbose=1)"
      ],
      "metadata": {
        "colab": {
          "base_uri": "https://localhost:8080/"
        },
        "outputId": "5a3f136f-3589-4ab1-ef49-0b1401a555e6",
        "id": "R_f0MaSlkY6C"
      },
      "execution_count": null,
      "outputs": [
        {
          "output_type": "stream",
          "name": "stdout",
          "text": [
            "Epoch 1/100\n",
            "25/25 [==============================] - 1s 18ms/step - loss: 13.3963 - accuracy: 0.1841\n",
            "Epoch 2/100\n",
            "25/25 [==============================] - 0s 17ms/step - loss: 7.2433 - accuracy: 0.3733\n",
            "Epoch 3/100\n",
            "25/25 [==============================] - 0s 17ms/step - loss: 4.7059 - accuracy: 0.4666\n",
            "Epoch 4/100\n",
            "25/25 [==============================] - 0s 17ms/step - loss: 3.5206 - accuracy: 0.5422\n",
            "Epoch 5/100\n",
            "25/25 [==============================] - 0s 17ms/step - loss: 2.9432 - accuracy: 0.5813\n",
            "Epoch 6/100\n",
            "25/25 [==============================] - 0s 17ms/step - loss: 2.5283 - accuracy: 0.6116\n",
            "Epoch 7/100\n",
            "25/25 [==============================] - 0s 17ms/step - loss: 2.1416 - accuracy: 0.6898\n",
            "Epoch 8/100\n",
            "25/25 [==============================] - 0s 17ms/step - loss: 1.9806 - accuracy: 0.6822\n",
            "Epoch 9/100\n",
            "25/25 [==============================] - 0s 18ms/step - loss: 1.7487 - accuracy: 0.7516\n",
            "Epoch 10/100\n",
            "25/25 [==============================] - 0s 17ms/step - loss: 1.5414 - accuracy: 0.8045\n",
            "Epoch 11/100\n",
            "25/25 [==============================] - 0s 17ms/step - loss: 1.4284 - accuracy: 0.8310\n",
            "Epoch 12/100\n",
            "25/25 [==============================] - 0s 17ms/step - loss: 1.3974 - accuracy: 0.8033\n",
            "Epoch 13/100\n",
            "25/25 [==============================] - 0s 17ms/step - loss: 1.3940 - accuracy: 0.7995\n",
            "Epoch 14/100\n",
            "25/25 [==============================] - 0s 18ms/step - loss: 1.2188 - accuracy: 0.8512\n",
            "Epoch 15/100\n",
            "25/25 [==============================] - 0s 17ms/step - loss: 1.2271 - accuracy: 0.8310\n",
            "Epoch 16/100\n",
            "25/25 [==============================] - 0s 18ms/step - loss: 1.1689 - accuracy: 0.8285\n",
            "Epoch 17/100\n",
            "25/25 [==============================] - 0s 17ms/step - loss: 1.1542 - accuracy: 0.8323\n",
            "Epoch 18/100\n",
            "25/25 [==============================] - 0s 18ms/step - loss: 1.1287 - accuracy: 0.8335\n",
            "Epoch 19/100\n",
            "25/25 [==============================] - 0s 17ms/step - loss: 1.0540 - accuracy: 0.8474\n",
            "Epoch 20/100\n",
            "25/25 [==============================] - 0s 17ms/step - loss: 0.9606 - accuracy: 0.8941\n",
            "Epoch 21/100\n",
            "25/25 [==============================] - 0s 18ms/step - loss: 0.9541 - accuracy: 0.8890\n",
            "Epoch 22/100\n",
            "25/25 [==============================] - 0s 17ms/step - loss: 1.0918 - accuracy: 0.8197\n",
            "Epoch 23/100\n",
            "25/25 [==============================] - 0s 18ms/step - loss: 0.9870 - accuracy: 0.8689\n",
            "Epoch 24/100\n",
            "25/25 [==============================] - 0s 17ms/step - loss: 0.9218 - accuracy: 0.8953\n",
            "Epoch 25/100\n",
            "25/25 [==============================] - 0s 18ms/step - loss: 0.8790 - accuracy: 0.8941\n",
            "Epoch 26/100\n",
            "25/25 [==============================] - 0s 17ms/step - loss: 0.9146 - accuracy: 0.8651\n",
            "Epoch 27/100\n",
            "25/25 [==============================] - 0s 16ms/step - loss: 0.9125 - accuracy: 0.8777\n",
            "Epoch 28/100\n",
            "25/25 [==============================] - 0s 18ms/step - loss: 0.8881 - accuracy: 0.8752\n",
            "Epoch 29/100\n",
            "25/25 [==============================] - 0s 17ms/step - loss: 0.8743 - accuracy: 0.8777\n",
            "Epoch 30/100\n",
            "25/25 [==============================] - 0s 18ms/step - loss: 0.9035 - accuracy: 0.8689\n",
            "Epoch 31/100\n",
            "25/25 [==============================] - 0s 17ms/step - loss: 0.9883 - accuracy: 0.8361\n",
            "Epoch 32/100\n",
            "25/25 [==============================] - 0s 18ms/step - loss: 0.8187 - accuracy: 0.9067\n",
            "Epoch 33/100\n",
            "25/25 [==============================] - 0s 18ms/step - loss: 0.7627 - accuracy: 0.9130\n",
            "Epoch 34/100\n",
            "25/25 [==============================] - 0s 17ms/step - loss: 0.8302 - accuracy: 0.8739\n",
            "Epoch 35/100\n",
            "25/25 [==============================] - 0s 18ms/step - loss: 0.7353 - accuracy: 0.9193\n",
            "Epoch 36/100\n",
            "25/25 [==============================] - 0s 17ms/step - loss: 0.7382 - accuracy: 0.9193\n",
            "Epoch 37/100\n",
            "25/25 [==============================] - 0s 18ms/step - loss: 0.7192 - accuracy: 0.9180\n",
            "Epoch 38/100\n",
            "25/25 [==============================] - 0s 17ms/step - loss: 0.7503 - accuracy: 0.9042\n",
            "Epoch 39/100\n",
            "25/25 [==============================] - 0s 19ms/step - loss: 0.7413 - accuracy: 0.9079\n",
            "Epoch 40/100\n",
            "25/25 [==============================] - 0s 17ms/step - loss: 0.7463 - accuracy: 0.8916\n",
            "Epoch 41/100\n",
            "25/25 [==============================] - 0s 18ms/step - loss: 0.8234 - accuracy: 0.8462\n",
            "Epoch 42/100\n",
            "25/25 [==============================] - 0s 17ms/step - loss: 0.7854 - accuracy: 0.8701\n",
            "Epoch 43/100\n",
            "25/25 [==============================] - 1s 24ms/step - loss: 0.7614 - accuracy: 0.8878\n",
            "Epoch 44/100\n",
            "25/25 [==============================] - 1s 23ms/step - loss: 0.7697 - accuracy: 0.8726\n",
            "Epoch 45/100\n",
            "25/25 [==============================] - 1s 31ms/step - loss: 0.7278 - accuracy: 0.9042\n",
            "Epoch 46/100\n",
            "25/25 [==============================] - 0s 18ms/step - loss: 0.6484 - accuracy: 0.9369\n",
            "Epoch 47/100\n",
            "25/25 [==============================] - 1s 29ms/step - loss: 0.6893 - accuracy: 0.9180\n",
            "Epoch 48/100\n",
            "25/25 [==============================] - 0s 17ms/step - loss: 0.7126 - accuracy: 0.8966\n",
            "Epoch 49/100\n",
            "25/25 [==============================] - 0s 18ms/step - loss: 0.7618 - accuracy: 0.8815\n",
            "Epoch 50/100\n",
            "25/25 [==============================] - 0s 18ms/step - loss: 0.7132 - accuracy: 0.9054\n",
            "Epoch 51/100\n",
            "25/25 [==============================] - 0s 19ms/step - loss: 0.7124 - accuracy: 0.9016\n",
            "Epoch 52/100\n",
            "25/25 [==============================] - 0s 17ms/step - loss: 0.6518 - accuracy: 0.9256\n",
            "Epoch 53/100\n",
            "25/25 [==============================] - 0s 18ms/step - loss: 0.7117 - accuracy: 0.8966\n",
            "Epoch 54/100\n",
            "25/25 [==============================] - 0s 17ms/step - loss: 0.6698 - accuracy: 0.9155\n",
            "Epoch 55/100\n",
            "25/25 [==============================] - 0s 17ms/step - loss: 0.6585 - accuracy: 0.9142\n",
            "Epoch 56/100\n",
            "25/25 [==============================] - 0s 18ms/step - loss: 0.6341 - accuracy: 0.9269\n",
            "Epoch 57/100\n",
            "25/25 [==============================] - 0s 18ms/step - loss: 0.6134 - accuracy: 0.9319\n",
            "Epoch 58/100\n",
            "25/25 [==============================] - 0s 18ms/step - loss: 0.6223 - accuracy: 0.9306\n",
            "Epoch 59/100\n",
            "25/25 [==============================] - 0s 17ms/step - loss: 0.6237 - accuracy: 0.9231\n",
            "Epoch 60/100\n",
            "25/25 [==============================] - 0s 18ms/step - loss: 0.6297 - accuracy: 0.9256\n",
            "Epoch 61/100\n",
            "25/25 [==============================] - 0s 17ms/step - loss: 0.6008 - accuracy: 0.9294\n",
            "Epoch 62/100\n",
            "25/25 [==============================] - 0s 17ms/step - loss: 0.7525 - accuracy: 0.8676\n",
            "Epoch 63/100\n",
            "25/25 [==============================] - 0s 18ms/step - loss: 0.7498 - accuracy: 0.8575\n",
            "Epoch 64/100\n",
            "25/25 [==============================] - 0s 18ms/step - loss: 0.6531 - accuracy: 0.9092\n",
            "Epoch 65/100\n",
            "25/25 [==============================] - 0s 18ms/step - loss: 0.6100 - accuracy: 0.9256\n",
            "Epoch 66/100\n",
            "25/25 [==============================] - 0s 18ms/step - loss: 0.5499 - accuracy: 0.9483\n",
            "Epoch 67/100\n",
            "25/25 [==============================] - 0s 18ms/step - loss: 0.6082 - accuracy: 0.9256\n",
            "Epoch 68/100\n",
            "25/25 [==============================] - 0s 17ms/step - loss: 0.6332 - accuracy: 0.9105\n",
            "Epoch 69/100\n",
            "25/25 [==============================] - 0s 17ms/step - loss: 0.6345 - accuracy: 0.9092\n",
            "Epoch 70/100\n",
            "25/25 [==============================] - 0s 18ms/step - loss: 0.5805 - accuracy: 0.9256\n",
            "Epoch 71/100\n",
            "25/25 [==============================] - 0s 19ms/step - loss: 0.5818 - accuracy: 0.9256\n",
            "Epoch 72/100\n",
            "25/25 [==============================] - 0s 18ms/step - loss: 0.5826 - accuracy: 0.9332\n",
            "Epoch 73/100\n",
            "25/25 [==============================] - 0s 18ms/step - loss: 0.5280 - accuracy: 0.9609\n",
            "Epoch 74/100\n",
            "25/25 [==============================] - 0s 17ms/step - loss: 0.5241 - accuracy: 0.9521\n",
            "Epoch 75/100\n",
            "25/25 [==============================] - 0s 18ms/step - loss: 0.6135 - accuracy: 0.9092\n",
            "Epoch 76/100\n",
            "25/25 [==============================] - 0s 18ms/step - loss: 0.5678 - accuracy: 0.9256\n",
            "Epoch 77/100\n",
            "25/25 [==============================] - 0s 17ms/step - loss: 0.6252 - accuracy: 0.9067\n",
            "Epoch 78/100\n",
            "25/25 [==============================] - 0s 18ms/step - loss: 0.6348 - accuracy: 0.9067\n",
            "Epoch 79/100\n",
            "25/25 [==============================] - 0s 17ms/step - loss: 0.5323 - accuracy: 0.9470\n",
            "Epoch 80/100\n",
            "25/25 [==============================] - 0s 17ms/step - loss: 0.5647 - accuracy: 0.9357\n",
            "Epoch 81/100\n",
            "25/25 [==============================] - 0s 18ms/step - loss: 0.5783 - accuracy: 0.9306\n",
            "Epoch 82/100\n",
            "25/25 [==============================] - 0s 17ms/step - loss: 0.5467 - accuracy: 0.9332\n",
            "Epoch 83/100\n",
            "25/25 [==============================] - 0s 17ms/step - loss: 0.6265 - accuracy: 0.8890\n",
            "Epoch 84/100\n",
            "25/25 [==============================] - 0s 17ms/step - loss: 0.6978 - accuracy: 0.8802\n",
            "Epoch 85/100\n",
            "25/25 [==============================] - 0s 17ms/step - loss: 0.5478 - accuracy: 0.9306\n",
            "Epoch 86/100\n",
            "25/25 [==============================] - 0s 18ms/step - loss: 0.5642 - accuracy: 0.9231\n",
            "Epoch 87/100\n",
            "25/25 [==============================] - 0s 18ms/step - loss: 0.5147 - accuracy: 0.9546\n",
            "Epoch 88/100\n",
            "25/25 [==============================] - 0s 18ms/step - loss: 0.5625 - accuracy: 0.9281\n",
            "Epoch 89/100\n",
            "25/25 [==============================] - 0s 18ms/step - loss: 0.5651 - accuracy: 0.9332\n",
            "Epoch 90/100\n",
            "25/25 [==============================] - 0s 18ms/step - loss: 0.5501 - accuracy: 0.9332\n",
            "Epoch 91/100\n",
            "25/25 [==============================] - 0s 17ms/step - loss: 0.5354 - accuracy: 0.9332\n",
            "Epoch 92/100\n",
            "25/25 [==============================] - 0s 18ms/step - loss: 0.5142 - accuracy: 0.9420\n",
            "Epoch 93/100\n",
            "25/25 [==============================] - 0s 18ms/step - loss: 0.6093 - accuracy: 0.9016\n",
            "Epoch 94/100\n",
            "25/25 [==============================] - 0s 17ms/step - loss: 0.5976 - accuracy: 0.9029\n",
            "Epoch 95/100\n",
            "25/25 [==============================] - 0s 18ms/step - loss: 0.5766 - accuracy: 0.9142\n",
            "Epoch 96/100\n",
            "25/25 [==============================] - 0s 17ms/step - loss: 0.5990 - accuracy: 0.9168\n",
            "Epoch 97/100\n",
            "25/25 [==============================] - 0s 18ms/step - loss: 0.5154 - accuracy: 0.9483\n",
            "Epoch 98/100\n",
            "25/25 [==============================] - 0s 17ms/step - loss: 0.5200 - accuracy: 0.9407\n",
            "Epoch 99/100\n",
            "25/25 [==============================] - 0s 18ms/step - loss: 0.5495 - accuracy: 0.9294\n",
            "Epoch 100/100\n",
            "25/25 [==============================] - 0s 17ms/step - loss: 0.5816 - accuracy: 0.9054\n"
          ]
        },
        {
          "output_type": "execute_result",
          "data": {
            "text/plain": [
              "<keras.callbacks.History at 0x7f6568f8a590>"
            ]
          },
          "metadata": {},
          "execution_count": 37
        }
      ]
    },
    {
      "cell_type": "code",
      "source": [
        "modell2.evaluate(X_test2, y_test2)"
      ],
      "metadata": {
        "colab": {
          "base_uri": "https://localhost:8080/"
        },
        "outputId": "163ae92d-bda7-44e7-a270-934c9f43cf19",
        "id": "0uJBgtk9kY6D"
      },
      "execution_count": null,
      "outputs": [
        {
          "output_type": "stream",
          "name": "stdout",
          "text": [
            "7/7 [==============================] - 0s 6ms/step - loss: 0.7895 - accuracy: 0.8392\n"
          ]
        },
        {
          "output_type": "execute_result",
          "data": {
            "text/plain": [
              "[0.7895193696022034, 0.839195966720581]"
            ]
          },
          "metadata": {},
          "execution_count": 38
        }
      ]
    },
    {
      "cell_type": "markdown",
      "source": [
        "# **Model with dropout**"
      ],
      "metadata": {
        "id": "_CM9eDSkktPD"
      }
    },
    {
      "cell_type": "code",
      "source": [
        "# design the neural network model\n",
        "modeldrop = keras.Sequential()\n",
        "modeldrop.add(layers.Dense(768, activation='relu'))\n",
        "modeldrop.add(layers.Dropout(0.1, name=\"dropout1\"))\n",
        "modeldrop.add(layers.Dense(768, activation='relu'))\n",
        "modeldrop.add(layers.Dropout(0.1, name=\"dropout2\"))\n",
        "modeldrop.add(layers.Dense(10,activation=tf.nn.softmax))\n",
        "modeldrop.build(input_shape=(X_train2.shape[0],768))"
      ],
      "metadata": {
        "id": "RUavM0Lpk8G-"
      },
      "execution_count": null,
      "outputs": []
    },
    {
      "cell_type": "code",
      "source": [
        "modeldrop.summary()"
      ],
      "metadata": {
        "colab": {
          "base_uri": "https://localhost:8080/"
        },
        "id": "plfD-mCZksls",
        "outputId": "5d245012-445c-4f82-e56c-d8e59462b146"
      },
      "execution_count": null,
      "outputs": [
        {
          "output_type": "stream",
          "name": "stdout",
          "text": [
            "Model: \"sequential_2\"\n",
            "_________________________________________________________________\n",
            " Layer (type)                Output Shape              Param #   \n",
            "=================================================================\n",
            " dense_6 (Dense)             (793, 768)                590592    \n",
            "                                                                 \n",
            " dropout1 (Dropout)          (793, 768)                0         \n",
            "                                                                 \n",
            " dense_7 (Dense)             (793, 768)                590592    \n",
            "                                                                 \n",
            " dropout2 (Dropout)          (793, 768)                0         \n",
            "                                                                 \n",
            " dense_8 (Dense)             (793, 10)                 7690      \n",
            "                                                                 \n",
            "=================================================================\n",
            "Total params: 1,188,874\n",
            "Trainable params: 1,188,874\n",
            "Non-trainable params: 0\n",
            "_________________________________________________________________\n"
          ]
        }
      ]
    },
    {
      "cell_type": "code",
      "source": [
        "#Defining metrics for model evaluation\n",
        "modeldrop.compile(loss='sparse_categorical_crossentropy', optimizer='adam',metrics=['accuracy'])"
      ],
      "metadata": {
        "id": "k4csu3cMldiw"
      },
      "execution_count": null,
      "outputs": []
    },
    {
      "cell_type": "code",
      "source": [
        "#Model fitting and generating names\n",
        "modeldrop.fit(x = X_train2, y = y_train2, epochs=100, verbose=1)"
      ],
      "metadata": {
        "colab": {
          "base_uri": "https://localhost:8080/"
        },
        "outputId": "34ec06e8-f578-478d-ac92-50679cb9c98e",
        "id": "BQFmXWa0ldix"
      },
      "execution_count": null,
      "outputs": [
        {
          "output_type": "stream",
          "name": "stdout",
          "text": [
            "Epoch 1/100\n",
            "25/25 [==============================] - 1s 14ms/step - loss: 2.2334 - accuracy: 0.2383\n",
            "Epoch 2/100\n",
            "25/25 [==============================] - 0s 15ms/step - loss: 1.6526 - accuracy: 0.3934\n",
            "Epoch 3/100\n",
            "25/25 [==============================] - 0s 15ms/step - loss: 1.2655 - accuracy: 0.5271\n",
            "Epoch 4/100\n",
            "25/25 [==============================] - 0s 15ms/step - loss: 1.0136 - accuracy: 0.6217\n",
            "Epoch 5/100\n",
            "25/25 [==============================] - 0s 15ms/step - loss: 0.8474 - accuracy: 0.6835\n",
            "Epoch 6/100\n",
            "25/25 [==============================] - 0s 14ms/step - loss: 0.7708 - accuracy: 0.7150\n",
            "Epoch 7/100\n",
            "25/25 [==============================] - 0s 15ms/step - loss: 0.5962 - accuracy: 0.8045\n",
            "Epoch 8/100\n",
            "25/25 [==============================] - 0s 14ms/step - loss: 0.6329 - accuracy: 0.7806\n",
            "Epoch 9/100\n",
            "25/25 [==============================] - 0s 15ms/step - loss: 0.5430 - accuracy: 0.8159\n",
            "Epoch 10/100\n",
            "25/25 [==============================] - 0s 15ms/step - loss: 0.4990 - accuracy: 0.8222\n",
            "Epoch 11/100\n",
            "25/25 [==============================] - 0s 15ms/step - loss: 0.4128 - accuracy: 0.8562\n",
            "Epoch 12/100\n",
            "25/25 [==============================] - 0s 15ms/step - loss: 0.3357 - accuracy: 0.8815\n",
            "Epoch 13/100\n",
            "25/25 [==============================] - 0s 15ms/step - loss: 0.3180 - accuracy: 0.8903\n",
            "Epoch 14/100\n",
            "25/25 [==============================] - 0s 14ms/step - loss: 0.3419 - accuracy: 0.8827\n",
            "Epoch 15/100\n",
            "25/25 [==============================] - 0s 15ms/step - loss: 0.2774 - accuracy: 0.9105\n",
            "Epoch 16/100\n",
            "25/25 [==============================] - 0s 15ms/step - loss: 0.3117 - accuracy: 0.8827\n",
            "Epoch 17/100\n",
            "25/25 [==============================] - 0s 15ms/step - loss: 0.2626 - accuracy: 0.9130\n",
            "Epoch 18/100\n",
            "25/25 [==============================] - 0s 16ms/step - loss: 0.2524 - accuracy: 0.9016\n",
            "Epoch 19/100\n",
            "25/25 [==============================] - 0s 14ms/step - loss: 0.2575 - accuracy: 0.9029\n",
            "Epoch 20/100\n",
            "25/25 [==============================] - 0s 15ms/step - loss: 0.2489 - accuracy: 0.9054\n",
            "Epoch 21/100\n",
            "25/25 [==============================] - 0s 15ms/step - loss: 0.2512 - accuracy: 0.9105\n",
            "Epoch 22/100\n",
            "25/25 [==============================] - 0s 15ms/step - loss: 0.3151 - accuracy: 0.8878\n",
            "Epoch 23/100\n",
            "25/25 [==============================] - 0s 15ms/step - loss: 0.3780 - accuracy: 0.8600\n",
            "Epoch 24/100\n",
            "25/25 [==============================] - 0s 15ms/step - loss: 0.2196 - accuracy: 0.9193\n",
            "Epoch 25/100\n",
            "25/25 [==============================] - 0s 15ms/step - loss: 0.1826 - accuracy: 0.9369\n",
            "Epoch 26/100\n",
            "25/25 [==============================] - 0s 15ms/step - loss: 0.2097 - accuracy: 0.9218\n",
            "Epoch 27/100\n",
            "25/25 [==============================] - 0s 15ms/step - loss: 0.2036 - accuracy: 0.9231\n",
            "Epoch 28/100\n",
            "25/25 [==============================] - 0s 15ms/step - loss: 0.2445 - accuracy: 0.9231\n",
            "Epoch 29/100\n",
            "25/25 [==============================] - 0s 15ms/step - loss: 0.1945 - accuracy: 0.9357\n",
            "Epoch 30/100\n",
            "25/25 [==============================] - 0s 15ms/step - loss: 0.2702 - accuracy: 0.9042\n",
            "Epoch 31/100\n",
            "25/25 [==============================] - 0s 16ms/step - loss: 0.3210 - accuracy: 0.8941\n",
            "Epoch 32/100\n",
            "25/25 [==============================] - 0s 15ms/step - loss: 0.2088 - accuracy: 0.9306\n",
            "Epoch 33/100\n",
            "25/25 [==============================] - 0s 15ms/step - loss: 0.2553 - accuracy: 0.8979\n",
            "Epoch 34/100\n",
            "25/25 [==============================] - 0s 15ms/step - loss: 0.2461 - accuracy: 0.9142\n",
            "Epoch 35/100\n",
            "25/25 [==============================] - 0s 15ms/step - loss: 0.3011 - accuracy: 0.8878\n",
            "Epoch 36/100\n",
            "25/25 [==============================] - 0s 14ms/step - loss: 0.2559 - accuracy: 0.9029\n",
            "Epoch 37/100\n",
            "25/25 [==============================] - 0s 16ms/step - loss: 0.2000 - accuracy: 0.9369\n",
            "Epoch 38/100\n",
            "25/25 [==============================] - 0s 16ms/step - loss: 0.1481 - accuracy: 0.9533\n",
            "Epoch 39/100\n",
            "25/25 [==============================] - 0s 16ms/step - loss: 0.1503 - accuracy: 0.9445\n",
            "Epoch 40/100\n",
            "25/25 [==============================] - 0s 16ms/step - loss: 0.1465 - accuracy: 0.9546\n",
            "Epoch 41/100\n",
            "25/25 [==============================] - 0s 14ms/step - loss: 0.1590 - accuracy: 0.9420\n",
            "Epoch 42/100\n",
            "25/25 [==============================] - 0s 14ms/step - loss: 0.1330 - accuracy: 0.9533\n",
            "Epoch 43/100\n",
            "25/25 [==============================] - 0s 16ms/step - loss: 0.1581 - accuracy: 0.9508\n",
            "Epoch 44/100\n",
            "25/25 [==============================] - 0s 15ms/step - loss: 0.1926 - accuracy: 0.9193\n",
            "Epoch 45/100\n",
            "25/25 [==============================] - 0s 15ms/step - loss: 0.1503 - accuracy: 0.9420\n",
            "Epoch 46/100\n",
            "25/25 [==============================] - 0s 14ms/step - loss: 0.1861 - accuracy: 0.9433\n",
            "Epoch 47/100\n",
            "25/25 [==============================] - 0s 15ms/step - loss: 0.1561 - accuracy: 0.9420\n",
            "Epoch 48/100\n",
            "25/25 [==============================] - 0s 15ms/step - loss: 0.2139 - accuracy: 0.9344\n",
            "Epoch 49/100\n",
            "25/25 [==============================] - 0s 14ms/step - loss: 0.1650 - accuracy: 0.9357\n",
            "Epoch 50/100\n",
            "25/25 [==============================] - 0s 15ms/step - loss: 0.2813 - accuracy: 0.9168\n",
            "Epoch 51/100\n",
            "25/25 [==============================] - 0s 16ms/step - loss: 0.1818 - accuracy: 0.9382\n",
            "Epoch 52/100\n",
            "25/25 [==============================] - 0s 15ms/step - loss: 0.1456 - accuracy: 0.9496\n",
            "Epoch 53/100\n",
            "25/25 [==============================] - 0s 15ms/step - loss: 0.1569 - accuracy: 0.9458\n",
            "Epoch 54/100\n",
            "25/25 [==============================] - 0s 15ms/step - loss: 0.1244 - accuracy: 0.9571\n",
            "Epoch 55/100\n",
            "25/25 [==============================] - 0s 15ms/step - loss: 0.1183 - accuracy: 0.9496\n",
            "Epoch 56/100\n",
            "25/25 [==============================] - 0s 16ms/step - loss: 0.1433 - accuracy: 0.9521\n",
            "Epoch 57/100\n",
            "25/25 [==============================] - 0s 14ms/step - loss: 0.1242 - accuracy: 0.9508\n",
            "Epoch 58/100\n",
            "25/25 [==============================] - 0s 14ms/step - loss: 0.1375 - accuracy: 0.9571\n",
            "Epoch 59/100\n",
            "25/25 [==============================] - 0s 15ms/step - loss: 0.1582 - accuracy: 0.9332\n",
            "Epoch 60/100\n",
            "25/25 [==============================] - 0s 15ms/step - loss: 0.1127 - accuracy: 0.9596\n",
            "Epoch 61/100\n",
            "25/25 [==============================] - 0s 15ms/step - loss: 0.1678 - accuracy: 0.9395\n",
            "Epoch 62/100\n",
            "25/25 [==============================] - 0s 15ms/step - loss: 0.1285 - accuracy: 0.9521\n",
            "Epoch 63/100\n",
            "25/25 [==============================] - 0s 14ms/step - loss: 0.1889 - accuracy: 0.9306\n",
            "Epoch 64/100\n",
            "25/25 [==============================] - 0s 16ms/step - loss: 0.1106 - accuracy: 0.9672\n",
            "Epoch 65/100\n",
            "25/25 [==============================] - 0s 15ms/step - loss: 0.0982 - accuracy: 0.9697\n",
            "Epoch 66/100\n",
            "25/25 [==============================] - 0s 15ms/step - loss: 0.1347 - accuracy: 0.9508\n",
            "Epoch 67/100\n",
            "25/25 [==============================] - 0s 15ms/step - loss: 0.1404 - accuracy: 0.9496\n",
            "Epoch 68/100\n",
            "25/25 [==============================] - 0s 15ms/step - loss: 0.1618 - accuracy: 0.9433\n",
            "Epoch 69/100\n",
            "25/25 [==============================] - 0s 15ms/step - loss: 0.1493 - accuracy: 0.9470\n",
            "Epoch 70/100\n",
            "25/25 [==============================] - 0s 15ms/step - loss: 0.1188 - accuracy: 0.9521\n",
            "Epoch 71/100\n",
            "25/25 [==============================] - 0s 15ms/step - loss: 0.1193 - accuracy: 0.9622\n",
            "Epoch 72/100\n",
            "25/25 [==============================] - 0s 15ms/step - loss: 0.1296 - accuracy: 0.9483\n",
            "Epoch 73/100\n",
            "25/25 [==============================] - 0s 15ms/step - loss: 0.1408 - accuracy: 0.9508\n",
            "Epoch 74/100\n",
            "25/25 [==============================] - 0s 15ms/step - loss: 0.1366 - accuracy: 0.9559\n",
            "Epoch 75/100\n",
            "25/25 [==============================] - 0s 15ms/step - loss: 0.1340 - accuracy: 0.9483\n",
            "Epoch 76/100\n",
            "25/25 [==============================] - 0s 14ms/step - loss: 0.0817 - accuracy: 0.9672\n",
            "Epoch 77/100\n",
            "25/25 [==============================] - 0s 15ms/step - loss: 0.1377 - accuracy: 0.9496\n",
            "Epoch 78/100\n",
            "25/25 [==============================] - 0s 15ms/step - loss: 0.1218 - accuracy: 0.9634\n",
            "Epoch 79/100\n",
            "25/25 [==============================] - 0s 15ms/step - loss: 0.1039 - accuracy: 0.9609\n",
            "Epoch 80/100\n",
            "25/25 [==============================] - 0s 16ms/step - loss: 0.0988 - accuracy: 0.9660\n",
            "Epoch 81/100\n",
            "25/25 [==============================] - 0s 15ms/step - loss: 0.0949 - accuracy: 0.9660\n",
            "Epoch 82/100\n",
            "25/25 [==============================] - 0s 14ms/step - loss: 0.0876 - accuracy: 0.9735\n",
            "Epoch 83/100\n",
            "25/25 [==============================] - 0s 15ms/step - loss: 0.0841 - accuracy: 0.9723\n",
            "Epoch 84/100\n",
            "25/25 [==============================] - 0s 15ms/step - loss: 0.0651 - accuracy: 0.9748\n",
            "Epoch 85/100\n",
            "25/25 [==============================] - 0s 15ms/step - loss: 0.0831 - accuracy: 0.9735\n",
            "Epoch 86/100\n",
            "25/25 [==============================] - 0s 15ms/step - loss: 0.1120 - accuracy: 0.9622\n",
            "Epoch 87/100\n",
            "25/25 [==============================] - 0s 15ms/step - loss: 0.0915 - accuracy: 0.9622\n",
            "Epoch 88/100\n",
            "25/25 [==============================] - 0s 15ms/step - loss: 0.1094 - accuracy: 0.9584\n",
            "Epoch 89/100\n",
            "25/25 [==============================] - 0s 15ms/step - loss: 0.0616 - accuracy: 0.9811\n",
            "Epoch 90/100\n",
            "25/25 [==============================] - 0s 15ms/step - loss: 0.0982 - accuracy: 0.9760\n",
            "Epoch 91/100\n",
            "25/25 [==============================] - 0s 16ms/step - loss: 0.1124 - accuracy: 0.9584\n",
            "Epoch 92/100\n",
            "25/25 [==============================] - 0s 15ms/step - loss: 0.1285 - accuracy: 0.9609\n",
            "Epoch 93/100\n",
            "25/25 [==============================] - 0s 14ms/step - loss: 0.0701 - accuracy: 0.9685\n",
            "Epoch 94/100\n",
            "25/25 [==============================] - 0s 15ms/step - loss: 0.0736 - accuracy: 0.9710\n",
            "Epoch 95/100\n",
            "25/25 [==============================] - 0s 15ms/step - loss: 0.0982 - accuracy: 0.9622\n",
            "Epoch 96/100\n",
            "25/25 [==============================] - 0s 16ms/step - loss: 0.0931 - accuracy: 0.9660\n",
            "Epoch 97/100\n",
            "25/25 [==============================] - 0s 15ms/step - loss: 0.1143 - accuracy: 0.9508\n",
            "Epoch 98/100\n",
            "25/25 [==============================] - 0s 15ms/step - loss: 0.0766 - accuracy: 0.9760\n",
            "Epoch 99/100\n",
            "25/25 [==============================] - 0s 16ms/step - loss: 0.1110 - accuracy: 0.9647\n",
            "Epoch 100/100\n",
            "25/25 [==============================] - 0s 15ms/step - loss: 0.0897 - accuracy: 0.9685\n"
          ]
        },
        {
          "output_type": "execute_result",
          "data": {
            "text/plain": [
              "<keras.callbacks.History at 0x7f6568dc9c50>"
            ]
          },
          "metadata": {},
          "execution_count": 42
        }
      ]
    },
    {
      "cell_type": "code",
      "source": [
        "modeldrop.evaluate(X_test2, y_test2)"
      ],
      "metadata": {
        "colab": {
          "base_uri": "https://localhost:8080/"
        },
        "outputId": "4dc13678-bd3f-4cd4-a145-27bf03c6cf00",
        "id": "52-NcTe-ldix"
      },
      "execution_count": null,
      "outputs": [
        {
          "output_type": "stream",
          "name": "stdout",
          "text": [
            "7/7 [==============================] - 0s 6ms/step - loss: 0.3847 - accuracy: 0.8643\n"
          ]
        },
        {
          "output_type": "execute_result",
          "data": {
            "text/plain": [
              "[0.38467639684677124, 0.8643215894699097]"
            ]
          },
          "metadata": {},
          "execution_count": 43
        }
      ]
    },
    {
      "cell_type": "markdown",
      "source": [
        "# **Making a shallower network**"
      ],
      "metadata": {
        "id": "xmXL9jpJmTj3"
      }
    },
    {
      "cell_type": "code",
      "source": [
        "# design the neural network model\n",
        "modelshallow = keras.Sequential()\n",
        "modelshallow.add(layers.Dense(768, activation='relu'))\n",
        "modelshallow.add(layers.Dense(10,activation=tf.nn.softmax))\n",
        "modelshallow.build(input_shape=(X_train2.shape[0],768))"
      ],
      "metadata": {
        "id": "FafV3dm7mWjX"
      },
      "execution_count": null,
      "outputs": []
    },
    {
      "cell_type": "code",
      "source": [
        "modelshallow.summary()"
      ],
      "metadata": {
        "colab": {
          "base_uri": "https://localhost:8080/"
        },
        "id": "SORn6v0-mjAd",
        "outputId": "a77fbb0e-7927-4993-8aa6-03329d4bfdbf"
      },
      "execution_count": null,
      "outputs": [
        {
          "output_type": "stream",
          "name": "stdout",
          "text": [
            "Model: \"sequential_3\"\n",
            "_________________________________________________________________\n",
            " Layer (type)                Output Shape              Param #   \n",
            "=================================================================\n",
            " dense_9 (Dense)             (793, 768)                590592    \n",
            "                                                                 \n",
            " dense_10 (Dense)            (793, 10)                 7690      \n",
            "                                                                 \n",
            "=================================================================\n",
            "Total params: 598,282\n",
            "Trainable params: 598,282\n",
            "Non-trainable params: 0\n",
            "_________________________________________________________________\n"
          ]
        }
      ]
    },
    {
      "cell_type": "code",
      "source": [
        "#Defining metrics for model evaluation\n",
        "modelshallow.compile(loss='sparse_categorical_crossentropy', optimizer='adam',metrics=['accuracy'])"
      ],
      "metadata": {
        "id": "dkNL1g3MmoGb"
      },
      "execution_count": null,
      "outputs": []
    },
    {
      "cell_type": "code",
      "source": [
        "#Model fitting and generating names\n",
        "modelshallow.fit(x = X_train2, y = y_train2, epochs=100, verbose=1)"
      ],
      "metadata": {
        "colab": {
          "base_uri": "https://localhost:8080/"
        },
        "outputId": "bc19cc6e-c30e-4f3b-f71f-9bf2f4c1b38e",
        "id": "Brpo036XmoGc"
      },
      "execution_count": null,
      "outputs": [
        {
          "output_type": "stream",
          "name": "stdout",
          "text": [
            "Epoch 1/100\n",
            "25/25 [==============================] - 1s 7ms/step - loss: 2.3455 - accuracy: 0.2245\n",
            "Epoch 2/100\n",
            "25/25 [==============================] - 0s 6ms/step - loss: 1.6430 - accuracy: 0.4262\n",
            "Epoch 3/100\n",
            "25/25 [==============================] - 0s 7ms/step - loss: 1.3196 - accuracy: 0.5397\n",
            "Epoch 4/100\n",
            "25/25 [==============================] - 0s 8ms/step - loss: 1.0974 - accuracy: 0.6545\n",
            "Epoch 5/100\n",
            "25/25 [==============================] - 0s 7ms/step - loss: 0.9694 - accuracy: 0.6923\n",
            "Epoch 6/100\n",
            "25/25 [==============================] - 0s 7ms/step - loss: 0.8118 - accuracy: 0.7390\n",
            "Epoch 7/100\n",
            "25/25 [==============================] - 0s 7ms/step - loss: 0.7088 - accuracy: 0.7793\n",
            "Epoch 8/100\n",
            "25/25 [==============================] - 0s 7ms/step - loss: 0.6265 - accuracy: 0.7970\n",
            "Epoch 9/100\n",
            "25/25 [==============================] - 0s 8ms/step - loss: 0.5702 - accuracy: 0.8323\n",
            "Epoch 10/100\n",
            "25/25 [==============================] - 0s 7ms/step - loss: 0.5344 - accuracy: 0.8411\n",
            "Epoch 11/100\n",
            "25/25 [==============================] - 0s 7ms/step - loss: 0.4603 - accuracy: 0.8651\n",
            "Epoch 12/100\n",
            "25/25 [==============================] - 0s 7ms/step - loss: 0.3878 - accuracy: 0.8928\n",
            "Epoch 13/100\n",
            "25/25 [==============================] - 0s 7ms/step - loss: 0.3689 - accuracy: 0.9016\n",
            "Epoch 14/100\n",
            "25/25 [==============================] - 0s 7ms/step - loss: 0.3358 - accuracy: 0.9193\n",
            "Epoch 15/100\n",
            "25/25 [==============================] - 0s 7ms/step - loss: 0.3081 - accuracy: 0.9155\n",
            "Epoch 16/100\n",
            "25/25 [==============================] - 0s 7ms/step - loss: 0.2882 - accuracy: 0.9269\n",
            "Epoch 17/100\n",
            "25/25 [==============================] - 0s 7ms/step - loss: 0.2896 - accuracy: 0.9243\n",
            "Epoch 18/100\n",
            "25/25 [==============================] - 0s 7ms/step - loss: 0.2944 - accuracy: 0.9092\n",
            "Epoch 19/100\n",
            "25/25 [==============================] - 0s 7ms/step - loss: 0.2629 - accuracy: 0.9294\n",
            "Epoch 20/100\n",
            "25/25 [==============================] - 0s 7ms/step - loss: 0.2786 - accuracy: 0.9117\n",
            "Epoch 21/100\n",
            "25/25 [==============================] - 0s 7ms/step - loss: 0.2412 - accuracy: 0.9294\n",
            "Epoch 22/100\n",
            "25/25 [==============================] - 0s 7ms/step - loss: 0.2351 - accuracy: 0.9269\n",
            "Epoch 23/100\n",
            "25/25 [==============================] - 0s 6ms/step - loss: 0.2180 - accuracy: 0.9407\n",
            "Epoch 24/100\n",
            "25/25 [==============================] - 0s 7ms/step - loss: 0.2105 - accuracy: 0.9395\n",
            "Epoch 25/100\n",
            "25/25 [==============================] - 0s 6ms/step - loss: 0.1791 - accuracy: 0.9584\n",
            "Epoch 26/100\n",
            "25/25 [==============================] - 0s 7ms/step - loss: 0.1873 - accuracy: 0.9433\n",
            "Epoch 27/100\n",
            "25/25 [==============================] - 0s 7ms/step - loss: 0.1763 - accuracy: 0.9521\n",
            "Epoch 28/100\n",
            "25/25 [==============================] - 0s 7ms/step - loss: 0.1516 - accuracy: 0.9622\n",
            "Epoch 29/100\n",
            "25/25 [==============================] - 0s 7ms/step - loss: 0.1700 - accuracy: 0.9458\n",
            "Epoch 30/100\n",
            "25/25 [==============================] - 0s 7ms/step - loss: 0.1410 - accuracy: 0.9672\n",
            "Epoch 31/100\n",
            "25/25 [==============================] - 0s 7ms/step - loss: 0.1800 - accuracy: 0.9382\n",
            "Epoch 32/100\n",
            "25/25 [==============================] - 0s 7ms/step - loss: 0.1531 - accuracy: 0.9584\n",
            "Epoch 33/100\n",
            "25/25 [==============================] - 0s 7ms/step - loss: 0.1447 - accuracy: 0.9647\n",
            "Epoch 34/100\n",
            "25/25 [==============================] - 0s 7ms/step - loss: 0.1627 - accuracy: 0.9483\n",
            "Epoch 35/100\n",
            "25/25 [==============================] - 0s 7ms/step - loss: 0.1737 - accuracy: 0.9369\n",
            "Epoch 36/100\n",
            "25/25 [==============================] - 0s 7ms/step - loss: 0.1566 - accuracy: 0.9559\n",
            "Epoch 37/100\n",
            "25/25 [==============================] - 0s 7ms/step - loss: 0.1257 - accuracy: 0.9672\n",
            "Epoch 38/100\n",
            "25/25 [==============================] - 0s 7ms/step - loss: 0.1605 - accuracy: 0.9483\n",
            "Epoch 39/100\n",
            "25/25 [==============================] - 0s 7ms/step - loss: 0.1681 - accuracy: 0.9483\n",
            "Epoch 40/100\n",
            "25/25 [==============================] - 0s 7ms/step - loss: 0.1350 - accuracy: 0.9596\n",
            "Epoch 41/100\n",
            "25/25 [==============================] - 0s 7ms/step - loss: 0.2512 - accuracy: 0.9117\n",
            "Epoch 42/100\n",
            "25/25 [==============================] - 0s 7ms/step - loss: 0.2159 - accuracy: 0.9281\n",
            "Epoch 43/100\n",
            "25/25 [==============================] - 0s 7ms/step - loss: 0.1311 - accuracy: 0.9571\n",
            "Epoch 44/100\n",
            "25/25 [==============================] - 0s 8ms/step - loss: 0.0988 - accuracy: 0.9672\n",
            "Epoch 45/100\n",
            "25/25 [==============================] - 0s 7ms/step - loss: 0.0887 - accuracy: 0.9773\n",
            "Epoch 46/100\n",
            "25/25 [==============================] - 0s 7ms/step - loss: 0.1155 - accuracy: 0.9622\n",
            "Epoch 47/100\n",
            "25/25 [==============================] - 0s 7ms/step - loss: 0.0901 - accuracy: 0.9773\n",
            "Epoch 48/100\n",
            "25/25 [==============================] - 0s 7ms/step - loss: 0.1085 - accuracy: 0.9672\n",
            "Epoch 49/100\n",
            "25/25 [==============================] - 0s 7ms/step - loss: 0.0732 - accuracy: 0.9861\n",
            "Epoch 50/100\n",
            "25/25 [==============================] - 0s 7ms/step - loss: 0.0777 - accuracy: 0.9811\n",
            "Epoch 51/100\n",
            "25/25 [==============================] - 0s 7ms/step - loss: 0.1619 - accuracy: 0.9420\n",
            "Epoch 52/100\n",
            "25/25 [==============================] - 0s 8ms/step - loss: 0.1027 - accuracy: 0.9697\n",
            "Epoch 53/100\n",
            "25/25 [==============================] - 0s 7ms/step - loss: 0.0923 - accuracy: 0.9773\n",
            "Epoch 54/100\n",
            "25/25 [==============================] - 0s 7ms/step - loss: 0.1399 - accuracy: 0.9559\n",
            "Epoch 55/100\n",
            "25/25 [==============================] - 0s 7ms/step - loss: 0.1265 - accuracy: 0.9546\n",
            "Epoch 56/100\n",
            "25/25 [==============================] - 0s 8ms/step - loss: 0.0922 - accuracy: 0.9735\n",
            "Epoch 57/100\n",
            "25/25 [==============================] - 0s 7ms/step - loss: 0.0803 - accuracy: 0.9760\n",
            "Epoch 58/100\n",
            "25/25 [==============================] - 0s 8ms/step - loss: 0.0701 - accuracy: 0.9798\n",
            "Epoch 59/100\n",
            "25/25 [==============================] - 0s 7ms/step - loss: 0.0805 - accuracy: 0.9811\n",
            "Epoch 60/100\n",
            "25/25 [==============================] - 0s 8ms/step - loss: 0.0760 - accuracy: 0.9786\n",
            "Epoch 61/100\n",
            "25/25 [==============================] - 0s 7ms/step - loss: 0.0765 - accuracy: 0.9760\n",
            "Epoch 62/100\n",
            "25/25 [==============================] - 0s 7ms/step - loss: 0.0627 - accuracy: 0.9823\n",
            "Epoch 63/100\n",
            "25/25 [==============================] - 0s 7ms/step - loss: 0.0560 - accuracy: 0.9887\n",
            "Epoch 64/100\n",
            "25/25 [==============================] - 0s 7ms/step - loss: 0.0713 - accuracy: 0.9760\n",
            "Epoch 65/100\n",
            "25/25 [==============================] - 0s 7ms/step - loss: 0.0595 - accuracy: 0.9874\n",
            "Epoch 66/100\n",
            "25/25 [==============================] - 0s 8ms/step - loss: 0.0654 - accuracy: 0.9786\n",
            "Epoch 67/100\n",
            "25/25 [==============================] - 0s 7ms/step - loss: 0.0481 - accuracy: 0.9861\n",
            "Epoch 68/100\n",
            "25/25 [==============================] - 0s 7ms/step - loss: 0.0663 - accuracy: 0.9773\n",
            "Epoch 69/100\n",
            "25/25 [==============================] - 0s 7ms/step - loss: 0.0545 - accuracy: 0.9874\n",
            "Epoch 70/100\n",
            "25/25 [==============================] - 0s 7ms/step - loss: 0.0730 - accuracy: 0.9786\n",
            "Epoch 71/100\n",
            "25/25 [==============================] - 0s 7ms/step - loss: 0.0677 - accuracy: 0.9760\n",
            "Epoch 72/100\n",
            "25/25 [==============================] - 0s 7ms/step - loss: 0.0557 - accuracy: 0.9861\n",
            "Epoch 73/100\n",
            "25/25 [==============================] - 0s 7ms/step - loss: 0.0654 - accuracy: 0.9811\n",
            "Epoch 74/100\n",
            "25/25 [==============================] - 0s 8ms/step - loss: 0.0703 - accuracy: 0.9798\n",
            "Epoch 75/100\n",
            "25/25 [==============================] - 0s 7ms/step - loss: 0.0560 - accuracy: 0.9861\n",
            "Epoch 76/100\n",
            "25/25 [==============================] - 0s 7ms/step - loss: 0.0609 - accuracy: 0.9811\n",
            "Epoch 77/100\n",
            "25/25 [==============================] - 0s 7ms/step - loss: 0.0472 - accuracy: 0.9912\n",
            "Epoch 78/100\n",
            "25/25 [==============================] - 0s 7ms/step - loss: 0.1464 - accuracy: 0.9445\n",
            "Epoch 79/100\n",
            "25/25 [==============================] - 0s 7ms/step - loss: 0.1766 - accuracy: 0.9357\n",
            "Epoch 80/100\n",
            "25/25 [==============================] - 0s 7ms/step - loss: 0.1444 - accuracy: 0.9420\n",
            "Epoch 81/100\n",
            "25/25 [==============================] - 0s 7ms/step - loss: 0.0780 - accuracy: 0.9760\n",
            "Epoch 82/100\n",
            "25/25 [==============================] - 0s 8ms/step - loss: 0.0680 - accuracy: 0.9786\n",
            "Epoch 83/100\n",
            "25/25 [==============================] - 0s 7ms/step - loss: 0.0536 - accuracy: 0.9773\n",
            "Epoch 84/100\n",
            "25/25 [==============================] - 0s 7ms/step - loss: 0.0650 - accuracy: 0.9786\n",
            "Epoch 85/100\n",
            "25/25 [==============================] - 0s 7ms/step - loss: 0.0846 - accuracy: 0.9697\n",
            "Epoch 86/100\n",
            "25/25 [==============================] - 0s 7ms/step - loss: 0.1122 - accuracy: 0.9571\n",
            "Epoch 87/100\n",
            "25/25 [==============================] - 0s 7ms/step - loss: 0.1325 - accuracy: 0.9571\n",
            "Epoch 88/100\n",
            "25/25 [==============================] - 0s 8ms/step - loss: 0.0605 - accuracy: 0.9836\n",
            "Epoch 89/100\n",
            "25/25 [==============================] - 0s 7ms/step - loss: 0.0347 - accuracy: 0.9950\n",
            "Epoch 90/100\n",
            "25/25 [==============================] - 0s 8ms/step - loss: 0.0444 - accuracy: 0.9849\n",
            "Epoch 91/100\n",
            "25/25 [==============================] - 0s 7ms/step - loss: 0.0401 - accuracy: 0.9899\n",
            "Epoch 92/100\n",
            "25/25 [==============================] - 0s 7ms/step - loss: 0.1048 - accuracy: 0.9660\n",
            "Epoch 93/100\n",
            "25/25 [==============================] - 0s 7ms/step - loss: 0.1560 - accuracy: 0.9433\n",
            "Epoch 94/100\n",
            "25/25 [==============================] - 0s 7ms/step - loss: 0.0423 - accuracy: 0.9924\n",
            "Epoch 95/100\n",
            "25/25 [==============================] - 0s 7ms/step - loss: 0.0264 - accuracy: 0.9950\n",
            "Epoch 96/100\n",
            "25/25 [==============================] - 0s 7ms/step - loss: 0.0349 - accuracy: 0.9924\n",
            "Epoch 97/100\n",
            "25/25 [==============================] - 0s 7ms/step - loss: 0.0551 - accuracy: 0.9786\n",
            "Epoch 98/100\n",
            "25/25 [==============================] - 0s 7ms/step - loss: 0.0504 - accuracy: 0.9899\n",
            "Epoch 99/100\n",
            "25/25 [==============================] - 0s 8ms/step - loss: 0.0283 - accuracy: 0.9950\n",
            "Epoch 100/100\n",
            "25/25 [==============================] - 0s 7ms/step - loss: 0.2901 - accuracy: 0.9319\n"
          ]
        },
        {
          "output_type": "execute_result",
          "data": {
            "text/plain": [
              "<keras.callbacks.History at 0x7f6568caaa10>"
            ]
          },
          "metadata": {},
          "execution_count": 47
        }
      ]
    },
    {
      "cell_type": "code",
      "source": [
        "modelshallow.evaluate(X_test2, y_test2)"
      ],
      "metadata": {
        "colab": {
          "base_uri": "https://localhost:8080/"
        },
        "outputId": "af196361-6332-4887-fc4f-d0875986a284",
        "id": "GHVcyD67moGc"
      },
      "execution_count": null,
      "outputs": [
        {
          "output_type": "stream",
          "name": "stdout",
          "text": [
            "7/7 [==============================] - 0s 4ms/step - loss: 0.5837 - accuracy: 0.8241\n"
          ]
        },
        {
          "output_type": "execute_result",
          "data": {
            "text/plain": [
              "[0.5837173461914062, 0.8241205811500549]"
            ]
          },
          "metadata": {},
          "execution_count": 48
        }
      ]
    },
    {
      "cell_type": "markdown",
      "source": [
        "# **Adding dropout regularization to the shallow model**"
      ],
      "metadata": {
        "id": "jGTZuJeIm42T"
      }
    },
    {
      "cell_type": "code",
      "source": [
        "# design the neural network model\n",
        "modelshallow2 = keras.Sequential()\n",
        "modelshallow2.add(layers.Dense(768, activation='relu'))\n",
        "modelshallow2.add(layers.Dropout(0.1, name=\"dropout1\"))\n",
        "modelshallow2.add(layers.Dense(10,activation=tf.nn.softmax))\n",
        "modelshallow2.build(input_shape=(X_train2.shape[0],768))"
      ],
      "metadata": {
        "id": "yarhzrMVm-dd"
      },
      "execution_count": null,
      "outputs": []
    },
    {
      "cell_type": "code",
      "source": [
        "modelshallow2.summary()"
      ],
      "metadata": {
        "colab": {
          "base_uri": "https://localhost:8080/"
        },
        "id": "EUFaywclnJ6R",
        "outputId": "f394187b-c824-4ff6-ace3-11afe6bc9bef"
      },
      "execution_count": null,
      "outputs": [
        {
          "output_type": "stream",
          "name": "stdout",
          "text": [
            "Model: \"sequential_4\"\n",
            "_________________________________________________________________\n",
            " Layer (type)                Output Shape              Param #   \n",
            "=================================================================\n",
            " dense_11 (Dense)            (793, 768)                590592    \n",
            "                                                                 \n",
            " dropout1 (Dropout)          (793, 768)                0         \n",
            "                                                                 \n",
            " dense_12 (Dense)            (793, 10)                 7690      \n",
            "                                                                 \n",
            "=================================================================\n",
            "Total params: 598,282\n",
            "Trainable params: 598,282\n",
            "Non-trainable params: 0\n",
            "_________________________________________________________________\n"
          ]
        }
      ]
    },
    {
      "cell_type": "code",
      "source": [
        "#Defining metrics for model evaluation\n",
        "modelshallow2.compile(loss='sparse_categorical_crossentropy', optimizer='adam',metrics=['accuracy'])"
      ],
      "metadata": {
        "id": "u_uVaSeknO8Z"
      },
      "execution_count": null,
      "outputs": []
    },
    {
      "cell_type": "code",
      "source": [
        "#Model fitting and generating names\n",
        "modelshallow2.fit(x = X_train2, y = y_train2, epochs=100, verbose=1)"
      ],
      "metadata": {
        "colab": {
          "base_uri": "https://localhost:8080/"
        },
        "outputId": "99292d71-64c1-4c71-9df1-b88fe4faac9d",
        "id": "eyt1d6FgnO8Z"
      },
      "execution_count": null,
      "outputs": [
        {
          "output_type": "stream",
          "name": "stdout",
          "text": [
            "Epoch 1/100\n",
            "25/25 [==============================] - 1s 8ms/step - loss: 2.3481 - accuracy: 0.2156\n",
            "Epoch 2/100\n",
            "25/25 [==============================] - 0s 7ms/step - loss: 1.6747 - accuracy: 0.4124\n",
            "Epoch 3/100\n",
            "25/25 [==============================] - 0s 7ms/step - loss: 1.3367 - accuracy: 0.5561\n",
            "Epoch 4/100\n",
            "25/25 [==============================] - 0s 7ms/step - loss: 1.0408 - accuracy: 0.6620\n",
            "Epoch 5/100\n",
            "25/25 [==============================] - 0s 8ms/step - loss: 0.9467 - accuracy: 0.6999\n",
            "Epoch 6/100\n",
            "25/25 [==============================] - 0s 7ms/step - loss: 0.8212 - accuracy: 0.7465\n",
            "Epoch 7/100\n",
            "25/25 [==============================] - 0s 7ms/step - loss: 0.7734 - accuracy: 0.7465\n",
            "Epoch 8/100\n",
            "25/25 [==============================] - 0s 7ms/step - loss: 0.6339 - accuracy: 0.7982\n",
            "Epoch 9/100\n",
            "25/25 [==============================] - 0s 7ms/step - loss: 0.6077 - accuracy: 0.8134\n",
            "Epoch 10/100\n",
            "25/25 [==============================] - 0s 8ms/step - loss: 0.4973 - accuracy: 0.8701\n",
            "Epoch 11/100\n",
            "25/25 [==============================] - 0s 8ms/step - loss: 0.4467 - accuracy: 0.8802\n",
            "Epoch 12/100\n",
            "25/25 [==============================] - 0s 7ms/step - loss: 0.4130 - accuracy: 0.8890\n",
            "Epoch 13/100\n",
            "25/25 [==============================] - 0s 7ms/step - loss: 0.4092 - accuracy: 0.8739\n",
            "Epoch 14/100\n",
            "25/25 [==============================] - 0s 7ms/step - loss: 0.3694 - accuracy: 0.8953\n",
            "Epoch 15/100\n",
            "25/25 [==============================] - 0s 7ms/step - loss: 0.3587 - accuracy: 0.8928\n",
            "Epoch 16/100\n",
            "25/25 [==============================] - 0s 7ms/step - loss: 0.3466 - accuracy: 0.8916\n",
            "Epoch 17/100\n",
            "25/25 [==============================] - 0s 7ms/step - loss: 0.3453 - accuracy: 0.8928\n",
            "Epoch 18/100\n",
            "25/25 [==============================] - 0s 8ms/step - loss: 0.2932 - accuracy: 0.9243\n",
            "Epoch 19/100\n",
            "25/25 [==============================] - 0s 7ms/step - loss: 0.2785 - accuracy: 0.9243\n",
            "Epoch 20/100\n",
            "25/25 [==============================] - 0s 7ms/step - loss: 0.2790 - accuracy: 0.9079\n",
            "Epoch 21/100\n",
            "25/25 [==============================] - 0s 8ms/step - loss: 0.2664 - accuracy: 0.9193\n",
            "Epoch 22/100\n",
            "25/25 [==============================] - 0s 7ms/step - loss: 0.2573 - accuracy: 0.9231\n",
            "Epoch 23/100\n",
            "25/25 [==============================] - 0s 8ms/step - loss: 0.2315 - accuracy: 0.9395\n",
            "Epoch 24/100\n",
            "25/25 [==============================] - 0s 7ms/step - loss: 0.2369 - accuracy: 0.9256\n",
            "Epoch 25/100\n",
            "25/25 [==============================] - 0s 7ms/step - loss: 0.2475 - accuracy: 0.9130\n",
            "Epoch 26/100\n",
            "25/25 [==============================] - 0s 8ms/step - loss: 0.2564 - accuracy: 0.9168\n",
            "Epoch 27/100\n",
            "25/25 [==============================] - 0s 8ms/step - loss: 0.3028 - accuracy: 0.8991\n",
            "Epoch 28/100\n",
            "25/25 [==============================] - 0s 7ms/step - loss: 0.2113 - accuracy: 0.9369\n",
            "Epoch 29/100\n",
            "25/25 [==============================] - 0s 7ms/step - loss: 0.1775 - accuracy: 0.9533\n",
            "Epoch 30/100\n",
            "25/25 [==============================] - 0s 8ms/step - loss: 0.2408 - accuracy: 0.9306\n",
            "Epoch 31/100\n",
            "25/25 [==============================] - 0s 8ms/step - loss: 0.2117 - accuracy: 0.9332\n",
            "Epoch 32/100\n",
            "25/25 [==============================] - 0s 7ms/step - loss: 0.2605 - accuracy: 0.9016\n",
            "Epoch 33/100\n",
            "25/25 [==============================] - 0s 7ms/step - loss: 0.1796 - accuracy: 0.9420\n",
            "Epoch 34/100\n",
            "25/25 [==============================] - 0s 7ms/step - loss: 0.1706 - accuracy: 0.9433\n",
            "Epoch 35/100\n",
            "25/25 [==============================] - 0s 8ms/step - loss: 0.1286 - accuracy: 0.9647\n",
            "Epoch 36/100\n",
            "25/25 [==============================] - 0s 7ms/step - loss: 0.1431 - accuracy: 0.9533\n",
            "Epoch 37/100\n",
            "25/25 [==============================] - 0s 8ms/step - loss: 0.1330 - accuracy: 0.9634\n",
            "Epoch 38/100\n",
            "25/25 [==============================] - 0s 7ms/step - loss: 0.1656 - accuracy: 0.9496\n",
            "Epoch 39/100\n",
            "25/25 [==============================] - 0s 7ms/step - loss: 0.1580 - accuracy: 0.9407\n",
            "Epoch 40/100\n",
            "25/25 [==============================] - 0s 7ms/step - loss: 0.2446 - accuracy: 0.9067\n",
            "Epoch 41/100\n",
            "25/25 [==============================] - 0s 7ms/step - loss: 0.1601 - accuracy: 0.9533\n",
            "Epoch 42/100\n",
            "25/25 [==============================] - 0s 8ms/step - loss: 0.1328 - accuracy: 0.9634\n",
            "Epoch 43/100\n",
            "25/25 [==============================] - 0s 7ms/step - loss: 0.1151 - accuracy: 0.9660\n",
            "Epoch 44/100\n",
            "25/25 [==============================] - 0s 8ms/step - loss: 0.1310 - accuracy: 0.9521\n",
            "Epoch 45/100\n",
            "25/25 [==============================] - 0s 7ms/step - loss: 0.1544 - accuracy: 0.9533\n",
            "Epoch 46/100\n",
            "25/25 [==============================] - 0s 8ms/step - loss: 0.1087 - accuracy: 0.9697\n",
            "Epoch 47/100\n",
            "25/25 [==============================] - 0s 8ms/step - loss: 0.0964 - accuracy: 0.9798\n",
            "Epoch 48/100\n",
            "25/25 [==============================] - 0s 7ms/step - loss: 0.1235 - accuracy: 0.9559\n",
            "Epoch 49/100\n",
            "25/25 [==============================] - 0s 7ms/step - loss: 0.1332 - accuracy: 0.9546\n",
            "Epoch 50/100\n",
            "25/25 [==============================] - 0s 7ms/step - loss: 0.0972 - accuracy: 0.9723\n",
            "Epoch 51/100\n",
            "25/25 [==============================] - 0s 7ms/step - loss: 0.1322 - accuracy: 0.9571\n",
            "Epoch 52/100\n",
            "25/25 [==============================] - 0s 8ms/step - loss: 0.1329 - accuracy: 0.9596\n",
            "Epoch 53/100\n",
            "25/25 [==============================] - 0s 8ms/step - loss: 0.1241 - accuracy: 0.9596\n",
            "Epoch 54/100\n",
            "25/25 [==============================] - 0s 7ms/step - loss: 0.1363 - accuracy: 0.9546\n",
            "Epoch 55/100\n",
            "25/25 [==============================] - 0s 7ms/step - loss: 0.1385 - accuracy: 0.9609\n",
            "Epoch 56/100\n",
            "25/25 [==============================] - 0s 7ms/step - loss: 0.0905 - accuracy: 0.9735\n",
            "Epoch 57/100\n",
            "25/25 [==============================] - 0s 8ms/step - loss: 0.0901 - accuracy: 0.9710\n",
            "Epoch 58/100\n",
            "25/25 [==============================] - 0s 8ms/step - loss: 0.1088 - accuracy: 0.9647\n",
            "Epoch 59/100\n",
            "25/25 [==============================] - 0s 7ms/step - loss: 0.1011 - accuracy: 0.9697\n",
            "Epoch 60/100\n",
            "25/25 [==============================] - 0s 7ms/step - loss: 0.0793 - accuracy: 0.9773\n",
            "Epoch 61/100\n",
            "25/25 [==============================] - 0s 8ms/step - loss: 0.1065 - accuracy: 0.9672\n",
            "Epoch 62/100\n",
            "25/25 [==============================] - 0s 7ms/step - loss: 0.0994 - accuracy: 0.9660\n",
            "Epoch 63/100\n",
            "25/25 [==============================] - 0s 8ms/step - loss: 0.0925 - accuracy: 0.9748\n",
            "Epoch 64/100\n",
            "25/25 [==============================] - 0s 8ms/step - loss: 0.0721 - accuracy: 0.9874\n",
            "Epoch 65/100\n",
            "25/25 [==============================] - 0s 8ms/step - loss: 0.0689 - accuracy: 0.9773\n",
            "Epoch 66/100\n",
            "25/25 [==============================] - 0s 7ms/step - loss: 0.0863 - accuracy: 0.9710\n",
            "Epoch 67/100\n",
            "25/25 [==============================] - 0s 7ms/step - loss: 0.1030 - accuracy: 0.9685\n",
            "Epoch 68/100\n",
            "25/25 [==============================] - 0s 9ms/step - loss: 0.0878 - accuracy: 0.9697\n",
            "Epoch 69/100\n",
            "25/25 [==============================] - 0s 7ms/step - loss: 0.0970 - accuracy: 0.9622\n",
            "Epoch 70/100\n",
            "25/25 [==============================] - 0s 7ms/step - loss: 0.0959 - accuracy: 0.9735\n",
            "Epoch 71/100\n",
            "25/25 [==============================] - 0s 7ms/step - loss: 0.0610 - accuracy: 0.9823\n",
            "Epoch 72/100\n",
            "25/25 [==============================] - 0s 7ms/step - loss: 0.1046 - accuracy: 0.9697\n",
            "Epoch 73/100\n",
            "25/25 [==============================] - 0s 8ms/step - loss: 0.0873 - accuracy: 0.9723\n",
            "Epoch 74/100\n",
            "25/25 [==============================] - 0s 8ms/step - loss: 0.0773 - accuracy: 0.9811\n",
            "Epoch 75/100\n",
            "25/25 [==============================] - 0s 8ms/step - loss: 0.0658 - accuracy: 0.9798\n",
            "Epoch 76/100\n",
            "25/25 [==============================] - 0s 7ms/step - loss: 0.0495 - accuracy: 0.9887\n",
            "Epoch 77/100\n",
            "25/25 [==============================] - 0s 8ms/step - loss: 0.0762 - accuracy: 0.9773\n",
            "Epoch 78/100\n",
            "25/25 [==============================] - 0s 8ms/step - loss: 0.0712 - accuracy: 0.9760\n",
            "Epoch 79/100\n",
            "25/25 [==============================] - 0s 8ms/step - loss: 0.0451 - accuracy: 0.9924\n",
            "Epoch 80/100\n",
            "25/25 [==============================] - 0s 7ms/step - loss: 0.0495 - accuracy: 0.9874\n",
            "Epoch 81/100\n",
            "25/25 [==============================] - 0s 8ms/step - loss: 0.0462 - accuracy: 0.9874\n",
            "Epoch 82/100\n",
            "25/25 [==============================] - 0s 7ms/step - loss: 0.0460 - accuracy: 0.9924\n",
            "Epoch 83/100\n",
            "25/25 [==============================] - 0s 7ms/step - loss: 0.0376 - accuracy: 0.9924\n",
            "Epoch 84/100\n",
            "25/25 [==============================] - 0s 8ms/step - loss: 0.0472 - accuracy: 0.9874\n",
            "Epoch 85/100\n",
            "25/25 [==============================] - 0s 8ms/step - loss: 0.1737 - accuracy: 0.9420\n",
            "Epoch 86/100\n",
            "25/25 [==============================] - 0s 7ms/step - loss: 0.0898 - accuracy: 0.9723\n",
            "Epoch 87/100\n",
            "25/25 [==============================] - 0s 8ms/step - loss: 0.0544 - accuracy: 0.9912\n",
            "Epoch 88/100\n",
            "25/25 [==============================] - 0s 7ms/step - loss: 0.0651 - accuracy: 0.9836\n",
            "Epoch 89/100\n",
            "25/25 [==============================] - 0s 8ms/step - loss: 0.0673 - accuracy: 0.9760\n",
            "Epoch 90/100\n",
            "25/25 [==============================] - 0s 8ms/step - loss: 0.0558 - accuracy: 0.9849\n",
            "Epoch 91/100\n",
            "25/25 [==============================] - 0s 7ms/step - loss: 0.0715 - accuracy: 0.9748\n",
            "Epoch 92/100\n",
            "25/25 [==============================] - 0s 8ms/step - loss: 0.0856 - accuracy: 0.9723\n",
            "Epoch 93/100\n",
            "25/25 [==============================] - 0s 8ms/step - loss: 0.0668 - accuracy: 0.9823\n",
            "Epoch 94/100\n",
            "25/25 [==============================] - 0s 8ms/step - loss: 0.0705 - accuracy: 0.9786\n",
            "Epoch 95/100\n",
            "25/25 [==============================] - 0s 8ms/step - loss: 0.0743 - accuracy: 0.9748\n",
            "Epoch 96/100\n",
            "25/25 [==============================] - 0s 8ms/step - loss: 0.0526 - accuracy: 0.9849\n",
            "Epoch 97/100\n",
            "25/25 [==============================] - 0s 8ms/step - loss: 0.0888 - accuracy: 0.9710\n",
            "Epoch 98/100\n",
            "25/25 [==============================] - 0s 8ms/step - loss: 0.0356 - accuracy: 0.9950\n",
            "Epoch 99/100\n",
            "25/25 [==============================] - 0s 8ms/step - loss: 0.0321 - accuracy: 0.9950\n",
            "Epoch 100/100\n",
            "25/25 [==============================] - 0s 8ms/step - loss: 0.0417 - accuracy: 0.9861\n"
          ]
        },
        {
          "output_type": "execute_result",
          "data": {
            "text/plain": [
              "<keras.callbacks.History at 0x7f6568b90910>"
            ]
          },
          "metadata": {},
          "execution_count": 52
        }
      ]
    },
    {
      "cell_type": "code",
      "source": [
        "modelshallow2.evaluate(X_test2, y_test2)"
      ],
      "metadata": {
        "colab": {
          "base_uri": "https://localhost:8080/"
        },
        "outputId": "e66c2cbd-f160-4331-8426-b14253e89425",
        "id": "fnZxY-5pnO8a"
      },
      "execution_count": null,
      "outputs": [
        {
          "output_type": "stream",
          "name": "stdout",
          "text": [
            "7/7 [==============================] - 0s 7ms/step - loss: 0.1789 - accuracy: 0.9347\n"
          ]
        },
        {
          "output_type": "execute_result",
          "data": {
            "text/plain": [
              "[0.17893989384174347, 0.9346733689308167]"
            ]
          },
          "metadata": {},
          "execution_count": 53
        }
      ]
    },
    {
      "cell_type": "code",
      "source": [],
      "metadata": {
        "id": "lryk7ismoNvM"
      },
      "execution_count": null,
      "outputs": []
    },
    {
      "cell_type": "markdown",
      "source": [
        "# **Adding l2 regularization to the shallow model**"
      ],
      "metadata": {
        "id": "IbTBJS0boN8-"
      }
    },
    {
      "cell_type": "code",
      "source": [
        "# design the neural network model\n",
        "modelshallow3 = keras.Sequential()\n",
        "modelshallow3.add(layers.Dense(768, activation='relu',kernel_regularizer=keras.regularizers.l2(0.01)))\n",
        "modelshallow3.add(layers.Dense(10,activation=tf.nn.softmax))\n",
        "modelshallow3.build(input_shape=(X_train2.shape[0],768))"
      ],
      "metadata": {
        "id": "sR4emvc0oN8-"
      },
      "execution_count": null,
      "outputs": []
    },
    {
      "cell_type": "code",
      "source": [
        "modelshallow3.summary()"
      ],
      "metadata": {
        "colab": {
          "base_uri": "https://localhost:8080/"
        },
        "outputId": "7810c854-4f1d-48e5-d304-7c4567ad2445",
        "id": "syxFTnvsoN8-"
      },
      "execution_count": null,
      "outputs": [
        {
          "output_type": "stream",
          "name": "stdout",
          "text": [
            "Model: \"sequential_5\"\n",
            "_________________________________________________________________\n",
            " Layer (type)                Output Shape              Param #   \n",
            "=================================================================\n",
            " dense_13 (Dense)            (793, 768)                590592    \n",
            "                                                                 \n",
            " dense_14 (Dense)            (793, 10)                 7690      \n",
            "                                                                 \n",
            "=================================================================\n",
            "Total params: 598,282\n",
            "Trainable params: 598,282\n",
            "Non-trainable params: 0\n",
            "_________________________________________________________________\n"
          ]
        }
      ]
    },
    {
      "cell_type": "code",
      "source": [
        "#Defining metrics for model evaluation\n",
        "modelshallow3.compile(loss='sparse_categorical_crossentropy', optimizer='adam',metrics=['accuracy'])"
      ],
      "metadata": {
        "id": "kE-oYdJLoN8-"
      },
      "execution_count": null,
      "outputs": []
    },
    {
      "cell_type": "code",
      "source": [
        "#Model fitting and generating names\n",
        "modelshallow3.fit(x = X_train2, y = y_train2, epochs=100, verbose=1)"
      ],
      "metadata": {
        "colab": {
          "base_uri": "https://localhost:8080/"
        },
        "outputId": "4f6bdf4a-6868-465e-8d5e-54b92a913dc3",
        "id": "yfoMY-4doN8-"
      },
      "execution_count": null,
      "outputs": [
        {
          "output_type": "stream",
          "name": "stdout",
          "text": [
            "Epoch 1/100\n",
            "25/25 [==============================] - 1s 10ms/step - loss: 8.4055 - accuracy: 0.2030\n",
            "Epoch 2/100\n",
            "25/25 [==============================] - 0s 11ms/step - loss: 5.4316 - accuracy: 0.3871\n",
            "Epoch 3/100\n",
            "25/25 [==============================] - 0s 11ms/step - loss: 3.9663 - accuracy: 0.5801\n",
            "Epoch 4/100\n",
            "25/25 [==============================] - 0s 10ms/step - loss: 3.2358 - accuracy: 0.5952\n",
            "Epoch 5/100\n",
            "25/25 [==============================] - 0s 10ms/step - loss: 2.8287 - accuracy: 0.5902\n",
            "Epoch 6/100\n",
            "25/25 [==============================] - 0s 10ms/step - loss: 2.3806 - accuracy: 0.6999\n",
            "Epoch 7/100\n",
            "25/25 [==============================] - 0s 9ms/step - loss: 2.1584 - accuracy: 0.7062\n",
            "Epoch 8/100\n",
            "25/25 [==============================] - 0s 10ms/step - loss: 2.0423 - accuracy: 0.6847\n",
            "Epoch 9/100\n",
            "25/25 [==============================] - 0s 9ms/step - loss: 1.8006 - accuracy: 0.7692\n",
            "Epoch 10/100\n",
            "25/25 [==============================] - 0s 9ms/step - loss: 1.6287 - accuracy: 0.7869\n",
            "Epoch 11/100\n",
            "25/25 [==============================] - 0s 9ms/step - loss: 1.5116 - accuracy: 0.8096\n",
            "Epoch 12/100\n",
            "25/25 [==============================] - 0s 10ms/step - loss: 1.4732 - accuracy: 0.7692\n",
            "Epoch 13/100\n",
            "25/25 [==============================] - 0s 10ms/step - loss: 1.3923 - accuracy: 0.7945\n",
            "Epoch 14/100\n",
            "25/25 [==============================] - 0s 9ms/step - loss: 1.2949 - accuracy: 0.8235\n",
            "Epoch 15/100\n",
            "25/25 [==============================] - 0s 9ms/step - loss: 1.2945 - accuracy: 0.7881\n",
            "Epoch 16/100\n",
            "25/25 [==============================] - 0s 10ms/step - loss: 1.2079 - accuracy: 0.8197\n",
            "Epoch 17/100\n",
            "25/25 [==============================] - 0s 10ms/step - loss: 1.1484 - accuracy: 0.8398\n",
            "Epoch 18/100\n",
            "25/25 [==============================] - 0s 10ms/step - loss: 1.1061 - accuracy: 0.8386\n",
            "Epoch 19/100\n",
            "25/25 [==============================] - 0s 10ms/step - loss: 1.0545 - accuracy: 0.8525\n",
            "Epoch 20/100\n",
            "25/25 [==============================] - 0s 10ms/step - loss: 1.0230 - accuracy: 0.8575\n",
            "Epoch 21/100\n",
            "25/25 [==============================] - 0s 10ms/step - loss: 0.9596 - accuracy: 0.8865\n",
            "Epoch 22/100\n",
            "25/25 [==============================] - 0s 10ms/step - loss: 0.9740 - accuracy: 0.8588\n",
            "Epoch 23/100\n",
            "25/25 [==============================] - 0s 9ms/step - loss: 0.9537 - accuracy: 0.8638\n",
            "Epoch 24/100\n",
            "25/25 [==============================] - 0s 9ms/step - loss: 0.9488 - accuracy: 0.8424\n",
            "Epoch 25/100\n",
            "25/25 [==============================] - 0s 10ms/step - loss: 1.0637 - accuracy: 0.7806\n",
            "Epoch 26/100\n",
            "25/25 [==============================] - 0s 10ms/step - loss: 1.0276 - accuracy: 0.8071\n",
            "Epoch 27/100\n",
            "25/25 [==============================] - 0s 9ms/step - loss: 0.9389 - accuracy: 0.8361\n",
            "Epoch 28/100\n",
            "25/25 [==============================] - 0s 9ms/step - loss: 0.9468 - accuracy: 0.8310\n",
            "Epoch 29/100\n",
            "25/25 [==============================] - 0s 10ms/step - loss: 0.9253 - accuracy: 0.8398\n",
            "Epoch 30/100\n",
            "25/25 [==============================] - 0s 9ms/step - loss: 0.8396 - accuracy: 0.8802\n",
            "Epoch 31/100\n",
            "25/25 [==============================] - 0s 9ms/step - loss: 0.7975 - accuracy: 0.8815\n",
            "Epoch 32/100\n",
            "25/25 [==============================] - 0s 9ms/step - loss: 0.9596 - accuracy: 0.7957\n",
            "Epoch 33/100\n",
            "25/25 [==============================] - 0s 10ms/step - loss: 0.8704 - accuracy: 0.8550\n",
            "Epoch 34/100\n",
            "25/25 [==============================] - 0s 9ms/step - loss: 0.9249 - accuracy: 0.8235\n",
            "Epoch 35/100\n",
            "25/25 [==============================] - 0s 10ms/step - loss: 0.7984 - accuracy: 0.8840\n",
            "Epoch 36/100\n",
            "25/25 [==============================] - 0s 10ms/step - loss: 0.8356 - accuracy: 0.8386\n",
            "Epoch 37/100\n",
            "25/25 [==============================] - 0s 10ms/step - loss: 0.8142 - accuracy: 0.8726\n",
            "Epoch 38/100\n",
            "25/25 [==============================] - 0s 10ms/step - loss: 0.8067 - accuracy: 0.8802\n",
            "Epoch 39/100\n",
            "25/25 [==============================] - 0s 10ms/step - loss: 0.8582 - accuracy: 0.8272\n",
            "Epoch 40/100\n",
            "25/25 [==============================] - 0s 9ms/step - loss: 0.8635 - accuracy: 0.8361\n",
            "Epoch 41/100\n",
            "25/25 [==============================] - 0s 9ms/step - loss: 0.8515 - accuracy: 0.8449\n",
            "Epoch 42/100\n",
            "25/25 [==============================] - 0s 10ms/step - loss: 0.8274 - accuracy: 0.8361\n",
            "Epoch 43/100\n",
            "25/25 [==============================] - 0s 9ms/step - loss: 0.8538 - accuracy: 0.8411\n",
            "Epoch 44/100\n",
            "25/25 [==============================] - 0s 9ms/step - loss: 0.8982 - accuracy: 0.8096\n",
            "Epoch 45/100\n",
            "25/25 [==============================] - 0s 10ms/step - loss: 0.8296 - accuracy: 0.8411\n",
            "Epoch 46/100\n",
            "25/25 [==============================] - 0s 11ms/step - loss: 0.9002 - accuracy: 0.8146\n",
            "Epoch 47/100\n",
            "25/25 [==============================] - 0s 10ms/step - loss: 0.8181 - accuracy: 0.8499\n",
            "Epoch 48/100\n",
            "25/25 [==============================] - 0s 10ms/step - loss: 0.8021 - accuracy: 0.8651\n",
            "Epoch 49/100\n",
            "25/25 [==============================] - 0s 9ms/step - loss: 0.9320 - accuracy: 0.8108\n",
            "Epoch 50/100\n",
            "25/25 [==============================] - 0s 10ms/step - loss: 0.8536 - accuracy: 0.8550\n",
            "Epoch 51/100\n",
            "25/25 [==============================] - 0s 9ms/step - loss: 0.7556 - accuracy: 0.8865\n",
            "Epoch 52/100\n",
            "25/25 [==============================] - 0s 9ms/step - loss: 0.7223 - accuracy: 0.8966\n",
            "Epoch 53/100\n",
            "25/25 [==============================] - 0s 9ms/step - loss: 0.7313 - accuracy: 0.8852\n",
            "Epoch 54/100\n",
            "25/25 [==============================] - 0s 10ms/step - loss: 0.7046 - accuracy: 0.8953\n",
            "Epoch 55/100\n",
            "25/25 [==============================] - 0s 10ms/step - loss: 0.7175 - accuracy: 0.8840\n",
            "Epoch 56/100\n",
            "25/25 [==============================] - 0s 10ms/step - loss: 0.7784 - accuracy: 0.8474\n",
            "Epoch 57/100\n",
            "25/25 [==============================] - 0s 10ms/step - loss: 0.8296 - accuracy: 0.8298\n",
            "Epoch 58/100\n",
            "25/25 [==============================] - 0s 10ms/step - loss: 0.7408 - accuracy: 0.8625\n",
            "Epoch 59/100\n",
            "25/25 [==============================] - 0s 9ms/step - loss: 0.6857 - accuracy: 0.9029\n",
            "Epoch 60/100\n",
            "25/25 [==============================] - 0s 9ms/step - loss: 0.8473 - accuracy: 0.8071\n",
            "Epoch 61/100\n",
            "25/25 [==============================] - 0s 10ms/step - loss: 0.9677 - accuracy: 0.7907\n",
            "Epoch 62/100\n",
            "25/25 [==============================] - 0s 10ms/step - loss: 0.8351 - accuracy: 0.8525\n",
            "Epoch 63/100\n",
            "25/25 [==============================] - 0s 10ms/step - loss: 0.7173 - accuracy: 0.8890\n",
            "Epoch 64/100\n",
            "25/25 [==============================] - 0s 9ms/step - loss: 0.8077 - accuracy: 0.8386\n",
            "Epoch 65/100\n",
            "25/25 [==============================] - 0s 9ms/step - loss: 0.7199 - accuracy: 0.8789\n",
            "Epoch 66/100\n",
            "25/25 [==============================] - 0s 10ms/step - loss: 0.7542 - accuracy: 0.8625\n",
            "Epoch 67/100\n",
            "25/25 [==============================] - 0s 9ms/step - loss: 0.6813 - accuracy: 0.9029\n",
            "Epoch 68/100\n",
            "25/25 [==============================] - 0s 9ms/step - loss: 0.7131 - accuracy: 0.8789\n",
            "Epoch 69/100\n",
            "25/25 [==============================] - 0s 9ms/step - loss: 0.7117 - accuracy: 0.8827\n",
            "Epoch 70/100\n",
            "25/25 [==============================] - 0s 9ms/step - loss: 0.7009 - accuracy: 0.8827\n",
            "Epoch 71/100\n",
            "25/25 [==============================] - 0s 10ms/step - loss: 0.6421 - accuracy: 0.9079\n",
            "Epoch 72/100\n",
            "25/25 [==============================] - 0s 10ms/step - loss: 0.5970 - accuracy: 0.9407\n",
            "Epoch 73/100\n",
            "25/25 [==============================] - 0s 10ms/step - loss: 0.6649 - accuracy: 0.8903\n",
            "Epoch 74/100\n",
            "25/25 [==============================] - 0s 10ms/step - loss: 0.7626 - accuracy: 0.8424\n",
            "Epoch 75/100\n",
            "25/25 [==============================] - 0s 10ms/step - loss: 0.7461 - accuracy: 0.8487\n",
            "Epoch 76/100\n",
            "25/25 [==============================] - 0s 9ms/step - loss: 0.7097 - accuracy: 0.8802\n",
            "Epoch 77/100\n",
            "25/25 [==============================] - 0s 9ms/step - loss: 0.6748 - accuracy: 0.9004\n",
            "Epoch 78/100\n",
            "25/25 [==============================] - 0s 10ms/step - loss: 0.6462 - accuracy: 0.9054\n",
            "Epoch 79/100\n",
            "25/25 [==============================] - 0s 10ms/step - loss: 1.0687 - accuracy: 0.7402\n",
            "Epoch 80/100\n",
            "25/25 [==============================] - 0s 10ms/step - loss: 0.8897 - accuracy: 0.8045\n",
            "Epoch 81/100\n",
            "25/25 [==============================] - 0s 10ms/step - loss: 0.9341 - accuracy: 0.7869\n",
            "Epoch 82/100\n",
            "25/25 [==============================] - 0s 10ms/step - loss: 0.9909 - accuracy: 0.7856\n",
            "Epoch 83/100\n",
            "25/25 [==============================] - 0s 10ms/step - loss: 0.7080 - accuracy: 0.9004\n",
            "Epoch 84/100\n",
            "25/25 [==============================] - 0s 10ms/step - loss: 0.6805 - accuracy: 0.9067\n",
            "Epoch 85/100\n",
            "25/25 [==============================] - 0s 10ms/step - loss: 0.7028 - accuracy: 0.8865\n",
            "Epoch 86/100\n",
            "25/25 [==============================] - 0s 10ms/step - loss: 0.7048 - accuracy: 0.8840\n",
            "Epoch 87/100\n",
            "25/25 [==============================] - 0s 10ms/step - loss: 0.6019 - accuracy: 0.9420\n",
            "Epoch 88/100\n",
            "25/25 [==============================] - 0s 10ms/step - loss: 0.6172 - accuracy: 0.9180\n",
            "Epoch 89/100\n",
            "25/25 [==============================] - 0s 10ms/step - loss: 0.6157 - accuracy: 0.9231\n",
            "Epoch 90/100\n",
            "25/25 [==============================] - 0s 10ms/step - loss: 0.6782 - accuracy: 0.8827\n",
            "Epoch 91/100\n",
            "25/25 [==============================] - 0s 10ms/step - loss: 0.6298 - accuracy: 0.9218\n",
            "Epoch 92/100\n",
            "25/25 [==============================] - 0s 9ms/step - loss: 0.6597 - accuracy: 0.8916\n",
            "Epoch 93/100\n",
            "25/25 [==============================] - 0s 10ms/step - loss: 0.8136 - accuracy: 0.8235\n",
            "Epoch 94/100\n",
            "25/25 [==============================] - 0s 9ms/step - loss: 0.6808 - accuracy: 0.8840\n",
            "Epoch 95/100\n",
            "25/25 [==============================] - 0s 10ms/step - loss: 0.6726 - accuracy: 0.8928\n",
            "Epoch 96/100\n",
            "25/25 [==============================] - 0s 10ms/step - loss: 0.6208 - accuracy: 0.9117\n",
            "Epoch 97/100\n",
            "25/25 [==============================] - 0s 9ms/step - loss: 0.7418 - accuracy: 0.8323\n",
            "Epoch 98/100\n",
            "25/25 [==============================] - 0s 10ms/step - loss: 0.6839 - accuracy: 0.8827\n",
            "Epoch 99/100\n",
            "25/25 [==============================] - 0s 10ms/step - loss: 0.6480 - accuracy: 0.9042\n",
            "Epoch 100/100\n",
            "25/25 [==============================] - 0s 9ms/step - loss: 0.6266 - accuracy: 0.9054\n"
          ]
        },
        {
          "output_type": "execute_result",
          "data": {
            "text/plain": [
              "<keras.callbacks.History at 0x7f6568a58e90>"
            ]
          },
          "metadata": {},
          "execution_count": 57
        }
      ]
    },
    {
      "cell_type": "code",
      "source": [
        "modelshallow3.evaluate(X_test2, y_test2)"
      ],
      "metadata": {
        "colab": {
          "base_uri": "https://localhost:8080/"
        },
        "outputId": "66b4409e-8473-4f15-d78b-2b5cac066e48",
        "id": "xTbpdnrFoN8-"
      },
      "execution_count": null,
      "outputs": [
        {
          "output_type": "stream",
          "name": "stdout",
          "text": [
            "7/7 [==============================] - 0s 5ms/step - loss: 0.7469 - accuracy: 0.8442\n"
          ]
        },
        {
          "output_type": "execute_result",
          "data": {
            "text/plain": [
              "[0.7468615174293518, 0.8442211151123047]"
            ]
          },
          "metadata": {},
          "execution_count": 58
        }
      ]
    },
    {
      "cell_type": "markdown",
      "source": [
        "# **Making a deeper model**"
      ],
      "metadata": {
        "id": "B0aNFfRDncLp"
      }
    },
    {
      "cell_type": "code",
      "source": [
        "# design the neural network model\n",
        "modeldeep = keras.Sequential()\n",
        "modeldeep.add(layers.Dense(768, activation='relu'))\n",
        "modeldeep.add(layers.Dense(768, activation='relu'))\n",
        "modeldeep.add(layers.Dense(768, activation='relu'))\n",
        "modeldeep.add(layers.Dense(10,activation=tf.nn.softmax))\n",
        "modeldeep.build(input_shape=(X_train2.shape[0],768))"
      ],
      "metadata": {
        "id": "5Xn0tob3nfCU"
      },
      "execution_count": null,
      "outputs": []
    },
    {
      "cell_type": "code",
      "source": [
        "modeldeep.summary()"
      ],
      "metadata": {
        "colab": {
          "base_uri": "https://localhost:8080/"
        },
        "id": "XWmaIBoVnptI",
        "outputId": "06e7b987-fdd9-423b-a64b-e95a3871d82e"
      },
      "execution_count": null,
      "outputs": [
        {
          "output_type": "stream",
          "name": "stdout",
          "text": [
            "Model: \"sequential_6\"\n",
            "_________________________________________________________________\n",
            " Layer (type)                Output Shape              Param #   \n",
            "=================================================================\n",
            " dense_15 (Dense)            (793, 768)                590592    \n",
            "                                                                 \n",
            " dense_16 (Dense)            (793, 768)                590592    \n",
            "                                                                 \n",
            " dense_17 (Dense)            (793, 768)                590592    \n",
            "                                                                 \n",
            " dense_18 (Dense)            (793, 10)                 7690      \n",
            "                                                                 \n",
            "=================================================================\n",
            "Total params: 1,779,466\n",
            "Trainable params: 1,779,466\n",
            "Non-trainable params: 0\n",
            "_________________________________________________________________\n"
          ]
        }
      ]
    },
    {
      "cell_type": "code",
      "source": [
        "#Defining metrics for model evaluation\n",
        "modeldeep.compile(loss='sparse_categorical_crossentropy', optimizer='adam',metrics=['accuracy'])"
      ],
      "metadata": {
        "id": "9YVJaofynuJ1"
      },
      "execution_count": null,
      "outputs": []
    },
    {
      "cell_type": "code",
      "source": [
        "#Model fitting and generating names\n",
        "modeldeep.fit(x = X_train2, y = y_train2, epochs=100, verbose=1)"
      ],
      "metadata": {
        "colab": {
          "base_uri": "https://localhost:8080/"
        },
        "outputId": "adf74518-dc6a-41f1-c284-fa1eba5265f2",
        "id": "NfdYnrMpnuJ1"
      },
      "execution_count": null,
      "outputs": [
        {
          "output_type": "stream",
          "name": "stdout",
          "text": [
            "Epoch 1/100\n",
            "25/25 [==============================] - 1s 20ms/step - loss: 2.2780 - accuracy: 0.2018\n",
            "Epoch 2/100\n",
            "25/25 [==============================] - 1s 20ms/step - loss: 1.7761 - accuracy: 0.3165\n",
            "Epoch 3/100\n",
            "25/25 [==============================] - 0s 20ms/step - loss: 1.3272 - accuracy: 0.4805\n",
            "Epoch 4/100\n",
            "25/25 [==============================] - 1s 21ms/step - loss: 1.0505 - accuracy: 0.5675\n",
            "Epoch 5/100\n",
            "25/25 [==============================] - 0s 19ms/step - loss: 0.8246 - accuracy: 0.6797\n",
            "Epoch 6/100\n",
            "25/25 [==============================] - 1s 21ms/step - loss: 0.7417 - accuracy: 0.7238\n",
            "Epoch 7/100\n",
            "25/25 [==============================] - 1s 20ms/step - loss: 0.6265 - accuracy: 0.7591\n",
            "Epoch 8/100\n",
            "25/25 [==============================] - 1s 20ms/step - loss: 0.6069 - accuracy: 0.7692\n",
            "Epoch 9/100\n",
            "25/25 [==============================] - 1s 21ms/step - loss: 0.4819 - accuracy: 0.8083\n",
            "Epoch 10/100\n",
            "25/25 [==============================] - 1s 21ms/step - loss: 0.4109 - accuracy: 0.8462\n",
            "Epoch 11/100\n",
            "25/25 [==============================] - 0s 20ms/step - loss: 0.3543 - accuracy: 0.8663\n",
            "Epoch 12/100\n",
            "25/25 [==============================] - 1s 21ms/step - loss: 0.4563 - accuracy: 0.8335\n",
            "Epoch 13/100\n",
            "25/25 [==============================] - 0s 20ms/step - loss: 0.4740 - accuracy: 0.8209\n",
            "Epoch 14/100\n",
            "25/25 [==============================] - 1s 21ms/step - loss: 0.3363 - accuracy: 0.8802\n",
            "Epoch 15/100\n",
            "25/25 [==============================] - 1s 20ms/step - loss: 0.3080 - accuracy: 0.8865\n",
            "Epoch 16/100\n",
            "25/25 [==============================] - 1s 21ms/step - loss: 0.2935 - accuracy: 0.8916\n",
            "Epoch 17/100\n",
            "25/25 [==============================] - 1s 20ms/step - loss: 0.2518 - accuracy: 0.9180\n",
            "Epoch 18/100\n",
            "25/25 [==============================] - 1s 21ms/step - loss: 0.2068 - accuracy: 0.9269\n",
            "Epoch 19/100\n",
            "25/25 [==============================] - 1s 21ms/step - loss: 0.1772 - accuracy: 0.9369\n",
            "Epoch 20/100\n",
            "25/25 [==============================] - 1s 21ms/step - loss: 0.2514 - accuracy: 0.9155\n",
            "Epoch 21/100\n",
            "25/25 [==============================] - 0s 19ms/step - loss: 0.2232 - accuracy: 0.9168\n",
            "Epoch 22/100\n",
            "25/25 [==============================] - 1s 20ms/step - loss: 0.1659 - accuracy: 0.9420\n",
            "Epoch 23/100\n",
            "25/25 [==============================] - 1s 20ms/step - loss: 0.1350 - accuracy: 0.9483\n",
            "Epoch 24/100\n",
            "25/25 [==============================] - 1s 21ms/step - loss: 0.2857 - accuracy: 0.8928\n",
            "Epoch 25/100\n",
            "25/25 [==============================] - 0s 20ms/step - loss: 0.2724 - accuracy: 0.8903\n",
            "Epoch 26/100\n",
            "25/25 [==============================] - 1s 20ms/step - loss: 0.2724 - accuracy: 0.9054\n",
            "Epoch 27/100\n",
            "25/25 [==============================] - 1s 20ms/step - loss: 0.2618 - accuracy: 0.9067\n",
            "Epoch 28/100\n",
            "25/25 [==============================] - 1s 20ms/step - loss: 0.1710 - accuracy: 0.9357\n",
            "Epoch 29/100\n",
            "25/25 [==============================] - 0s 20ms/step - loss: 0.2089 - accuracy: 0.9256\n",
            "Epoch 30/100\n",
            "25/25 [==============================] - 0s 20ms/step - loss: 0.2463 - accuracy: 0.9168\n",
            "Epoch 31/100\n",
            "25/25 [==============================] - 1s 20ms/step - loss: 0.1611 - accuracy: 0.9420\n",
            "Epoch 32/100\n",
            "25/25 [==============================] - 1s 20ms/step - loss: 0.1307 - accuracy: 0.9521\n",
            "Epoch 33/100\n",
            "25/25 [==============================] - 1s 21ms/step - loss: 0.1859 - accuracy: 0.9294\n",
            "Epoch 34/100\n",
            "25/25 [==============================] - 1s 21ms/step - loss: 0.1080 - accuracy: 0.9622\n",
            "Epoch 35/100\n",
            "25/25 [==============================] - 0s 20ms/step - loss: 0.1163 - accuracy: 0.9634\n",
            "Epoch 36/100\n",
            "25/25 [==============================] - 1s 20ms/step - loss: 0.1222 - accuracy: 0.9571\n",
            "Epoch 37/100\n",
            "25/25 [==============================] - 1s 21ms/step - loss: 0.1233 - accuracy: 0.9546\n",
            "Epoch 38/100\n",
            "25/25 [==============================] - 1s 21ms/step - loss: 0.0925 - accuracy: 0.9634\n",
            "Epoch 39/100\n",
            "25/25 [==============================] - 1s 20ms/step - loss: 0.1180 - accuracy: 0.9634\n",
            "Epoch 40/100\n",
            "25/25 [==============================] - 1s 21ms/step - loss: 0.2957 - accuracy: 0.9029\n",
            "Epoch 41/100\n",
            "25/25 [==============================] - 1s 20ms/step - loss: 0.1860 - accuracy: 0.9369\n",
            "Epoch 42/100\n",
            "25/25 [==============================] - 1s 21ms/step - loss: 0.1353 - accuracy: 0.9496\n",
            "Epoch 43/100\n",
            "25/25 [==============================] - 1s 20ms/step - loss: 0.1222 - accuracy: 0.9546\n",
            "Epoch 44/100\n",
            "25/25 [==============================] - 1s 21ms/step - loss: 0.0917 - accuracy: 0.9710\n",
            "Epoch 45/100\n",
            "25/25 [==============================] - 0s 20ms/step - loss: 0.0812 - accuracy: 0.9660\n",
            "Epoch 46/100\n",
            "25/25 [==============================] - 1s 21ms/step - loss: 0.0688 - accuracy: 0.9748\n",
            "Epoch 47/100\n",
            "25/25 [==============================] - 0s 19ms/step - loss: 0.2272 - accuracy: 0.9281\n",
            "Epoch 48/100\n",
            "25/25 [==============================] - 1s 20ms/step - loss: 0.1476 - accuracy: 0.9470\n",
            "Epoch 49/100\n",
            "25/25 [==============================] - 0s 20ms/step - loss: 0.1439 - accuracy: 0.9458\n",
            "Epoch 50/100\n",
            "25/25 [==============================] - 0s 20ms/step - loss: 0.2206 - accuracy: 0.9218\n",
            "Epoch 51/100\n",
            "25/25 [==============================] - 1s 20ms/step - loss: 0.1384 - accuracy: 0.9483\n",
            "Epoch 52/100\n",
            "25/25 [==============================] - 1s 20ms/step - loss: 0.1960 - accuracy: 0.9294\n",
            "Epoch 53/100\n",
            "25/25 [==============================] - 1s 21ms/step - loss: 0.1127 - accuracy: 0.9571\n",
            "Epoch 54/100\n",
            "25/25 [==============================] - 1s 20ms/step - loss: 0.0987 - accuracy: 0.9609\n",
            "Epoch 55/100\n",
            "25/25 [==============================] - 0s 19ms/step - loss: 0.0793 - accuracy: 0.9685\n",
            "Epoch 56/100\n",
            "25/25 [==============================] - 1s 21ms/step - loss: 0.1310 - accuracy: 0.9445\n",
            "Epoch 57/100\n",
            "25/25 [==============================] - 1s 20ms/step - loss: 0.0843 - accuracy: 0.9710\n",
            "Epoch 58/100\n",
            "25/25 [==============================] - 1s 21ms/step - loss: 0.1463 - accuracy: 0.9533\n",
            "Epoch 59/100\n",
            "25/25 [==============================] - 0s 19ms/step - loss: 0.1741 - accuracy: 0.9395\n",
            "Epoch 60/100\n",
            "25/25 [==============================] - 1s 20ms/step - loss: 0.0801 - accuracy: 0.9660\n",
            "Epoch 61/100\n",
            "25/25 [==============================] - 1s 20ms/step - loss: 0.0622 - accuracy: 0.9735\n",
            "Epoch 62/100\n",
            "25/25 [==============================] - 1s 21ms/step - loss: 0.0494 - accuracy: 0.9811\n",
            "Epoch 63/100\n",
            "25/25 [==============================] - 0s 19ms/step - loss: 0.0759 - accuracy: 0.9735\n",
            "Epoch 64/100\n",
            "25/25 [==============================] - 1s 21ms/step - loss: 0.0648 - accuracy: 0.9748\n",
            "Epoch 65/100\n",
            "25/25 [==============================] - 1s 20ms/step - loss: 0.1397 - accuracy: 0.9521\n",
            "Epoch 66/100\n",
            "25/25 [==============================] - 1s 21ms/step - loss: 0.0634 - accuracy: 0.9760\n",
            "Epoch 67/100\n",
            "25/25 [==============================] - 1s 21ms/step - loss: 0.1488 - accuracy: 0.9521\n",
            "Epoch 68/100\n",
            "25/25 [==============================] - 1s 22ms/step - loss: 0.1950 - accuracy: 0.9269\n",
            "Epoch 69/100\n",
            "25/25 [==============================] - 1s 20ms/step - loss: 0.0961 - accuracy: 0.9685\n",
            "Epoch 70/100\n",
            "25/25 [==============================] - 1s 21ms/step - loss: 0.0636 - accuracy: 0.9773\n",
            "Epoch 71/100\n",
            "25/25 [==============================] - 1s 20ms/step - loss: 0.0470 - accuracy: 0.9836\n",
            "Epoch 72/100\n",
            "25/25 [==============================] - 1s 21ms/step - loss: 0.0301 - accuracy: 0.9874\n",
            "Epoch 73/100\n",
            "25/25 [==============================] - 1s 20ms/step - loss: 0.1284 - accuracy: 0.9634\n",
            "Epoch 74/100\n",
            "25/25 [==============================] - 1s 21ms/step - loss: 0.1493 - accuracy: 0.9433\n",
            "Epoch 75/100\n",
            "25/25 [==============================] - 1s 20ms/step - loss: 0.0927 - accuracy: 0.9584\n",
            "Epoch 76/100\n",
            "25/25 [==============================] - 1s 20ms/step - loss: 0.1360 - accuracy: 0.9496\n",
            "Epoch 77/100\n",
            "25/25 [==============================] - 0s 20ms/step - loss: 0.1057 - accuracy: 0.9685\n",
            "Epoch 78/100\n",
            "25/25 [==============================] - 1s 20ms/step - loss: 0.0944 - accuracy: 0.9622\n",
            "Epoch 79/100\n",
            "25/25 [==============================] - 0s 20ms/step - loss: 0.0704 - accuracy: 0.9710\n",
            "Epoch 80/100\n",
            "25/25 [==============================] - 1s 20ms/step - loss: 0.0675 - accuracy: 0.9723\n",
            "Epoch 81/100\n",
            "25/25 [==============================] - 1s 20ms/step - loss: 0.0765 - accuracy: 0.9710\n",
            "Epoch 82/100\n",
            "25/25 [==============================] - 1s 21ms/step - loss: 0.0564 - accuracy: 0.9811\n",
            "Epoch 83/100\n",
            "25/25 [==============================] - 1s 21ms/step - loss: 0.0590 - accuracy: 0.9786\n",
            "Epoch 84/100\n",
            "25/25 [==============================] - 1s 21ms/step - loss: 0.1114 - accuracy: 0.9685\n",
            "Epoch 85/100\n",
            "25/25 [==============================] - 1s 21ms/step - loss: 0.2565 - accuracy: 0.9155\n",
            "Epoch 86/100\n",
            "25/25 [==============================] - 1s 20ms/step - loss: 0.1216 - accuracy: 0.9559\n",
            "Epoch 87/100\n",
            "25/25 [==============================] - 1s 20ms/step - loss: 0.1213 - accuracy: 0.9470\n",
            "Epoch 88/100\n",
            "25/25 [==============================] - 1s 21ms/step - loss: 0.1278 - accuracy: 0.9533\n",
            "Epoch 89/100\n",
            "25/25 [==============================] - 0s 20ms/step - loss: 0.1388 - accuracy: 0.9395\n",
            "Epoch 90/100\n",
            "25/25 [==============================] - 1s 21ms/step - loss: 0.0648 - accuracy: 0.9786\n",
            "Epoch 91/100\n",
            "25/25 [==============================] - 1s 20ms/step - loss: 0.0514 - accuracy: 0.9811\n",
            "Epoch 92/100\n",
            "25/25 [==============================] - 1s 20ms/step - loss: 0.0746 - accuracy: 0.9735\n",
            "Epoch 93/100\n",
            "25/25 [==============================] - 0s 20ms/step - loss: 0.0959 - accuracy: 0.9660\n",
            "Epoch 94/100\n",
            "25/25 [==============================] - 1s 21ms/step - loss: 0.0615 - accuracy: 0.9773\n",
            "Epoch 95/100\n",
            "25/25 [==============================] - 0s 20ms/step - loss: 0.0796 - accuracy: 0.9723\n",
            "Epoch 96/100\n",
            "25/25 [==============================] - 1s 22ms/step - loss: 0.0581 - accuracy: 0.9786\n",
            "Epoch 97/100\n",
            "25/25 [==============================] - 0s 20ms/step - loss: 0.0452 - accuracy: 0.9823\n",
            "Epoch 98/100\n",
            "25/25 [==============================] - 0s 20ms/step - loss: 0.0190 - accuracy: 0.9950\n",
            "Epoch 99/100\n",
            "25/25 [==============================] - 0s 20ms/step - loss: 0.0374 - accuracy: 0.9912\n",
            "Epoch 100/100\n",
            "25/25 [==============================] - 1s 21ms/step - loss: 0.0525 - accuracy: 0.9798\n"
          ]
        },
        {
          "output_type": "execute_result",
          "data": {
            "text/plain": [
              "<keras.callbacks.History at 0x7f6568886dd0>"
            ]
          },
          "metadata": {},
          "execution_count": 62
        }
      ]
    },
    {
      "cell_type": "code",
      "source": [
        "modeldeep.evaluate(X_test2, y_test2)"
      ],
      "metadata": {
        "colab": {
          "base_uri": "https://localhost:8080/"
        },
        "outputId": "452dd1ce-aa9c-4861-d1ab-13bb582df931",
        "id": "ACEwafUfnuJ1"
      },
      "execution_count": null,
      "outputs": [
        {
          "output_type": "stream",
          "name": "stdout",
          "text": [
            "7/7 [==============================] - 0s 6ms/step - loss: 0.3096 - accuracy: 0.8894\n"
          ]
        },
        {
          "output_type": "execute_result",
          "data": {
            "text/plain": [
              "[0.3095715641975403, 0.8894472122192383]"
            ]
          },
          "metadata": {},
          "execution_count": 63
        }
      ]
    },
    {
      "cell_type": "markdown",
      "source": [
        "# **Making model taking sequence output (2d)**"
      ],
      "metadata": {
        "id": "v9EvFPYhoylL"
      }
    },
    {
      "cell_type": "code",
      "source": [
        "X_train3.shape"
      ],
      "metadata": {
        "colab": {
          "base_uri": "https://localhost:8080/"
        },
        "id": "5VWXmJwCqPKs",
        "outputId": "1481f857-e1eb-43ba-9235-232fafdb316b"
      },
      "execution_count": null,
      "outputs": [
        {
          "output_type": "execute_result",
          "data": {
            "text/plain": [
              "(793, 128, 768)"
            ]
          },
          "metadata": {},
          "execution_count": 64
        }
      ]
    },
    {
      "cell_type": "code",
      "source": [
        "# design the neural network model\n",
        "model2d = keras.Sequential()\n",
        "model2d.add(layers.Dense(768, activation='relu',input_shape=(128,768)))\n",
        "model2d.add(layers.Flatten())\n",
        "model2d.add(layers.Dense(10,activation=tf.nn.softmax))\n",
        "#model2d.build(input_shape=(128,768))"
      ],
      "metadata": {
        "id": "_Qq-YBO2oylL"
      },
      "execution_count": null,
      "outputs": []
    },
    {
      "cell_type": "code",
      "source": [
        "model2d.summary()"
      ],
      "metadata": {
        "colab": {
          "base_uri": "https://localhost:8080/"
        },
        "outputId": "100cc31c-d561-4c48-e4b4-efd93776a47d",
        "id": "RsbcrYwooylL"
      },
      "execution_count": null,
      "outputs": [
        {
          "output_type": "stream",
          "name": "stdout",
          "text": [
            "Model: \"sequential_7\"\n",
            "_________________________________________________________________\n",
            " Layer (type)                Output Shape              Param #   \n",
            "=================================================================\n",
            " dense_19 (Dense)            (None, 128, 768)          590592    \n",
            "                                                                 \n",
            " flatten (Flatten)           (None, 98304)             0         \n",
            "                                                                 \n",
            " dense_20 (Dense)            (None, 10)                983050    \n",
            "                                                                 \n",
            "=================================================================\n",
            "Total params: 1,573,642\n",
            "Trainable params: 1,573,642\n",
            "Non-trainable params: 0\n",
            "_________________________________________________________________\n"
          ]
        }
      ]
    },
    {
      "cell_type": "code",
      "source": [
        "#Defining metrics for model evaluation\n",
        "model2d.compile(loss='sparse_categorical_crossentropy', optimizer='adam',metrics=['accuracy'])"
      ],
      "metadata": {
        "id": "jnVxp79hoylL"
      },
      "execution_count": null,
      "outputs": []
    },
    {
      "cell_type": "code",
      "source": [
        "#Model fitting and generating names\n",
        "model2d.fit(x = X_train3, y = y_train3, epochs=10, verbose=1)"
      ],
      "metadata": {
        "colab": {
          "base_uri": "https://localhost:8080/"
        },
        "outputId": "1470f687-1a10-4afb-d3f1-0d644ae0a17c",
        "id": "LeQV8cP5oylL"
      },
      "execution_count": null,
      "outputs": [
        {
          "output_type": "stream",
          "name": "stdout",
          "text": [
            "Epoch 1/10\n",
            "25/25 [==============================] - 5s 197ms/step - loss: 4.5743 - accuracy: 0.3228\n",
            "Epoch 2/10\n",
            "25/25 [==============================] - 5s 199ms/step - loss: 0.3069 - accuracy: 0.9344\n",
            "Epoch 3/10\n",
            "25/25 [==============================] - 5s 200ms/step - loss: 0.0184 - accuracy: 0.9950\n",
            "Epoch 4/10\n",
            "25/25 [==============================] - 5s 198ms/step - loss: 0.0044 - accuracy: 1.0000\n",
            "Epoch 5/10\n",
            "25/25 [==============================] - 5s 199ms/step - loss: 0.0026 - accuracy: 1.0000\n",
            "Epoch 6/10\n",
            "25/25 [==============================] - 5s 195ms/step - loss: 9.7695e-04 - accuracy: 1.0000\n",
            "Epoch 7/10\n",
            "25/25 [==============================] - 5s 197ms/step - loss: 4.9905e-04 - accuracy: 1.0000\n",
            "Epoch 8/10\n",
            "25/25 [==============================] - 5s 196ms/step - loss: 3.6344e-04 - accuracy: 1.0000\n",
            "Epoch 9/10\n",
            "25/25 [==============================] - 5s 198ms/step - loss: 3.1170e-04 - accuracy: 1.0000\n",
            "Epoch 10/10\n",
            "25/25 [==============================] - 5s 196ms/step - loss: 2.7289e-04 - accuracy: 1.0000\n"
          ]
        },
        {
          "output_type": "execute_result",
          "data": {
            "text/plain": [
              "<keras.callbacks.History at 0x7f65607c3250>"
            ]
          },
          "metadata": {},
          "execution_count": 68
        }
      ]
    },
    {
      "cell_type": "code",
      "source": [
        "model2d.evaluate(X_test3, y_test3)"
      ],
      "metadata": {
        "colab": {
          "base_uri": "https://localhost:8080/"
        },
        "outputId": "cfab8997-d6e0-4b2d-ded9-0ba9213168fc",
        "id": "uPHYCTvuoylL"
      },
      "execution_count": null,
      "outputs": [
        {
          "output_type": "stream",
          "name": "stdout",
          "text": [
            "7/7 [==============================] - 1s 81ms/step - loss: 0.1441 - accuracy: 0.9296\n"
          ]
        },
        {
          "output_type": "execute_result",
          "data": {
            "text/plain": [
              "[0.14405721426010132, 0.929648220539093]"
            ]
          },
          "metadata": {},
          "execution_count": 69
        }
      ]
    },
    {
      "cell_type": "markdown",
      "source": [
        "# **Making model taking sequence output (2d) using tanh activation function**"
      ],
      "metadata": {
        "id": "uouCRb-cDbp1"
      }
    },
    {
      "cell_type": "code",
      "source": [
        "# design the neural network model\n",
        "model2dtan = keras.Sequential()\n",
        "model2dtan.add(layers.Dense(768, activation='tanh',input_shape=(128,768)))\n",
        "model2dtan.add(layers.Flatten())\n",
        "model2dtan.add(layers.Dense(10,activation=tf.nn.softmax))\n",
        "#model2d.build(input_shape=(128,768))"
      ],
      "metadata": {
        "id": "fRIlE4dMDbp2"
      },
      "execution_count": null,
      "outputs": []
    },
    {
      "cell_type": "code",
      "source": [
        "model2dtan.summary()"
      ],
      "metadata": {
        "colab": {
          "base_uri": "https://localhost:8080/"
        },
        "outputId": "60bc5f94-5145-496f-9df7-da69d3bc52ad",
        "id": "ibP6OTM4Dbp2"
      },
      "execution_count": null,
      "outputs": [
        {
          "output_type": "stream",
          "name": "stdout",
          "text": [
            "Model: \"sequential_8\"\n",
            "_________________________________________________________________\n",
            " Layer (type)                Output Shape              Param #   \n",
            "=================================================================\n",
            " dense_21 (Dense)            (None, 128, 768)          590592    \n",
            "                                                                 \n",
            " flatten_1 (Flatten)         (None, 98304)             0         \n",
            "                                                                 \n",
            " dense_22 (Dense)            (None, 10)                983050    \n",
            "                                                                 \n",
            "=================================================================\n",
            "Total params: 1,573,642\n",
            "Trainable params: 1,573,642\n",
            "Non-trainable params: 0\n",
            "_________________________________________________________________\n"
          ]
        }
      ]
    },
    {
      "cell_type": "code",
      "source": [
        "#Defining metrics for model evaluation\n",
        "model2dtan.compile(loss='sparse_categorical_crossentropy', optimizer='adam',metrics=['accuracy'])"
      ],
      "metadata": {
        "id": "Z_F_78G6Dbp2"
      },
      "execution_count": null,
      "outputs": []
    },
    {
      "cell_type": "code",
      "source": [
        "#Model fitting and generating names\n",
        "model2dtan.fit(x = X_train3, y = y_train3, epochs=10, verbose=1)"
      ],
      "metadata": {
        "colab": {
          "base_uri": "https://localhost:8080/"
        },
        "outputId": "4af94ecd-07e9-4088-f9d9-80da179722b6",
        "id": "hPU7sXD4Dbp2"
      },
      "execution_count": null,
      "outputs": [
        {
          "output_type": "stream",
          "name": "stdout",
          "text": [
            "Epoch 1/10\n",
            "25/25 [==============================] - 5s 198ms/step - loss: 2.2665 - accuracy: 0.6557\n",
            "Epoch 2/10\n",
            "25/25 [==============================] - 5s 196ms/step - loss: 0.2336 - accuracy: 0.9546\n",
            "Epoch 3/10\n",
            "25/25 [==============================] - 5s 196ms/step - loss: 0.0670 - accuracy: 0.9836\n",
            "Epoch 4/10\n",
            "25/25 [==============================] - 5s 197ms/step - loss: 0.0338 - accuracy: 0.9962\n",
            "Epoch 5/10\n",
            "25/25 [==============================] - 5s 195ms/step - loss: 0.0282 - accuracy: 0.9950\n",
            "Epoch 6/10\n",
            "25/25 [==============================] - 5s 196ms/step - loss: 0.0037 - accuracy: 0.9975\n",
            "Epoch 7/10\n",
            "25/25 [==============================] - 5s 196ms/step - loss: 0.0108 - accuracy: 0.9950\n",
            "Epoch 8/10\n",
            "25/25 [==============================] - 5s 196ms/step - loss: 0.0017 - accuracy: 0.9987\n",
            "Epoch 9/10\n",
            "25/25 [==============================] - 5s 196ms/step - loss: 4.4756e-05 - accuracy: 1.0000\n",
            "Epoch 10/10\n",
            "25/25 [==============================] - 5s 195ms/step - loss: 2.7210e-06 - accuracy: 1.0000\n"
          ]
        },
        {
          "output_type": "execute_result",
          "data": {
            "text/plain": [
              "<keras.callbacks.History at 0x7f655fe10590>"
            ]
          },
          "metadata": {},
          "execution_count": 73
        }
      ]
    },
    {
      "cell_type": "code",
      "source": [
        "model2dtan.evaluate(X_test3, y_test3)"
      ],
      "metadata": {
        "colab": {
          "base_uri": "https://localhost:8080/"
        },
        "outputId": "77e9c97d-89b7-4da1-da31-20001367ed40",
        "id": "9y8y2jjNDbp2"
      },
      "execution_count": null,
      "outputs": [
        {
          "output_type": "stream",
          "name": "stdout",
          "text": [
            "7/7 [==============================] - 1s 83ms/step - loss: 0.5800 - accuracy: 0.9095\n"
          ]
        },
        {
          "output_type": "execute_result",
          "data": {
            "text/plain": [
              "[0.5799531936645508, 0.909547746181488]"
            ]
          },
          "metadata": {},
          "execution_count": 74
        }
      ]
    },
    {
      "cell_type": "markdown",
      "source": [
        "# **Adding dropout regularization**"
      ],
      "metadata": {
        "id": "toq9by7PsDIQ"
      }
    },
    {
      "cell_type": "code",
      "source": [
        "# design the neural network model\n",
        "model2ddrop = keras.Sequential()\n",
        "model2ddrop.add(layers.Dense(768, activation='relu',input_shape=(128,768)))\n",
        "model2ddrop.add(layers.Dropout(0.1, name=\"dropout1\"))\n",
        "model2ddrop.add(layers.Flatten())\n",
        "model2ddrop.add(layers.Dense(10,activation=tf.nn.softmax))\n",
        "#model2d.build(input_shape=(128,768))"
      ],
      "metadata": {
        "id": "sHYjdNw5sRki"
      },
      "execution_count": null,
      "outputs": []
    },
    {
      "cell_type": "code",
      "source": [
        "model2ddrop.summary()"
      ],
      "metadata": {
        "colab": {
          "base_uri": "https://localhost:8080/"
        },
        "outputId": "0948910a-a82d-49f6-cc5c-57ecde81a4e4",
        "id": "Chx4M9VksRkj"
      },
      "execution_count": null,
      "outputs": [
        {
          "output_type": "stream",
          "name": "stdout",
          "text": [
            "Model: \"sequential\"\n",
            "_________________________________________________________________\n",
            " Layer (type)                Output Shape              Param #   \n",
            "=================================================================\n",
            " dense (Dense)               (None, 128, 768)          590592    \n",
            "                                                                 \n",
            " dropout1 (Dropout)          (None, 128, 768)          0         \n",
            "                                                                 \n",
            " flatten (Flatten)           (None, 98304)             0         \n",
            "                                                                 \n",
            " dense_1 (Dense)             (None, 10)                983050    \n",
            "                                                                 \n",
            "=================================================================\n",
            "Total params: 1,573,642\n",
            "Trainable params: 1,573,642\n",
            "Non-trainable params: 0\n",
            "_________________________________________________________________\n"
          ]
        }
      ]
    },
    {
      "cell_type": "code",
      "source": [
        "#Defining metrics for model evaluation\n",
        "model2ddrop.compile(loss='sparse_categorical_crossentropy', optimizer='adam',metrics=['accuracy'])"
      ],
      "metadata": {
        "id": "mxp2t-ETsRkj"
      },
      "execution_count": null,
      "outputs": []
    },
    {
      "cell_type": "code",
      "source": [
        "#Model fitting and generating names\n",
        "model2ddrop.fit(x = X_train3, y = y_train3, epochs=10, verbose=1)"
      ],
      "metadata": {
        "colab": {
          "base_uri": "https://localhost:8080/"
        },
        "outputId": "6eac7568-fdcc-4944-8645-89b56bf8acfd",
        "id": "nuo_S9cMsRkj"
      },
      "execution_count": null,
      "outputs": [
        {
          "output_type": "stream",
          "name": "stdout",
          "text": [
            "Epoch 1/10\n",
            "25/25 [==============================] - 7s 236ms/step - loss: 3.5528 - accuracy: 0.4174\n",
            "Epoch 2/10\n",
            "25/25 [==============================] - 6s 234ms/step - loss: 0.2028 - accuracy: 0.9660\n",
            "Epoch 3/10\n",
            "25/25 [==============================] - 6s 234ms/step - loss: 0.0246 - accuracy: 0.9950\n",
            "Epoch 4/10\n",
            "25/25 [==============================] - 6s 233ms/step - loss: 0.0075 - accuracy: 0.9987\n",
            "Epoch 5/10\n",
            "25/25 [==============================] - 6s 232ms/step - loss: 0.0023 - accuracy: 1.0000\n",
            "Epoch 6/10\n",
            "25/25 [==============================] - 6s 234ms/step - loss: 7.8426e-04 - accuracy: 1.0000\n",
            "Epoch 7/10\n",
            "25/25 [==============================] - 6s 234ms/step - loss: 5.4556e-04 - accuracy: 1.0000\n",
            "Epoch 8/10\n",
            "25/25 [==============================] - 6s 231ms/step - loss: 4.3905e-04 - accuracy: 1.0000\n",
            "Epoch 9/10\n",
            "25/25 [==============================] - 6s 232ms/step - loss: 3.7140e-04 - accuracy: 1.0000\n",
            "Epoch 10/10\n",
            "25/25 [==============================] - 6s 233ms/step - loss: 3.3475e-04 - accuracy: 1.0000\n"
          ]
        },
        {
          "output_type": "execute_result",
          "data": {
            "text/plain": [
              "<keras.callbacks.History at 0x7fabc9f44130>"
            ]
          },
          "metadata": {},
          "execution_count": 25
        }
      ]
    },
    {
      "cell_type": "code",
      "source": [
        "model2ddrop.evaluate(X_test3, y_test3)"
      ],
      "metadata": {
        "colab": {
          "base_uri": "https://localhost:8080/"
        },
        "outputId": "c1c913ed-6527-4e17-ec11-20e0644910f7",
        "id": "W05DujgNsRkj"
      },
      "execution_count": null,
      "outputs": [
        {
          "output_type": "stream",
          "name": "stdout",
          "text": [
            "7/7 [==============================] - 1s 81ms/step - loss: 0.1662 - accuracy: 0.9447\n"
          ]
        },
        {
          "output_type": "execute_result",
          "data": {
            "text/plain": [
              "[0.16621741652488708, 0.9447236061096191]"
            ]
          },
          "metadata": {},
          "execution_count": 26
        }
      ]
    },
    {
      "cell_type": "code",
      "source": [
        "import pickle\n",
        "pickle.dump(model2ddrop, open('/content/drive/My Drive/DL_project/class_model.pkl', 'wb'))"
      ],
      "metadata": {
        "id": "Ls46pUfutDqG"
      },
      "execution_count": null,
      "outputs": []
    },
    {
      "cell_type": "code",
      "source": [
        "model2ddrop.predict(X_test3)"
      ],
      "metadata": {
        "colab": {
          "base_uri": "https://localhost:8080/"
        },
        "id": "2V_pOZOK1km3",
        "outputId": "68e4b23e-4fdb-426e-e7c2-fcca60d720f4"
      },
      "execution_count": null,
      "outputs": [
        {
          "output_type": "stream",
          "name": "stdout",
          "text": [
            "7/7 [==============================] - 1s 94ms/step\n"
          ]
        },
        {
          "output_type": "execute_result",
          "data": {
            "text/plain": [
              "array([[7.9844407e-09, 1.5189328e-09, 9.9999994e-01, ..., 4.6041809e-10,\n",
              "        2.6870435e-11, 1.9774782e-10],\n",
              "       [8.5464577e-05, 1.1319524e-03, 5.0237175e-04, ..., 7.5238210e-04,\n",
              "        4.3402142e-05, 3.1409389e-01],\n",
              "       [4.9508934e-08, 2.2278555e-06, 1.8804945e-05, ..., 2.1173050e-01,\n",
              "        1.3184722e-06, 5.3254993e-05],\n",
              "       ...,\n",
              "       [5.1793978e-03, 2.5685264e-02, 9.7363341e-07, ..., 5.0272877e-07,\n",
              "        9.3738401e-01, 1.0300486e-03],\n",
              "       [6.4839449e-12, 6.4124812e-14, 1.0000000e+00, ..., 4.0673023e-13,\n",
              "        1.6103482e-14, 3.5842127e-15],\n",
              "       [2.6595012e-08, 2.4267663e-07, 8.1820183e-08, ..., 5.7801586e-01,\n",
              "        6.1810610e-08, 8.7728613e-06]], dtype=float32)"
            ]
          },
          "metadata": {},
          "execution_count": 33
        }
      ]
    },
    {
      "cell_type": "code",
      "source": [
        "email = pd.read_pickle(\"/content/drive/My Drive/DL_project/email.pickle\")"
      ],
      "metadata": {
        "id": "qoMhNxsM1kk3"
      },
      "execution_count": null,
      "outputs": []
    },
    {
      "cell_type": "code",
      "source": [
        "X_val = email['BERT_sequence_output']"
      ],
      "metadata": {
        "id": "w6q0Wcem0sAR"
      },
      "execution_count": null,
      "outputs": []
    },
    {
      "cell_type": "code",
      "source": [
        "X_val = np.array([np.array(val) for val in X_val])"
      ],
      "metadata": {
        "id": "_X_O6cXE0mO8"
      },
      "execution_count": null,
      "outputs": []
    },
    {
      "cell_type": "code",
      "source": [
        "X_val"
      ],
      "metadata": {
        "colab": {
          "base_uri": "https://localhost:8080/"
        },
        "id": "xpjrH5iv04v3",
        "outputId": "fa306256-69d2-4b37-b3b1-495937f258b6"
      },
      "execution_count": null,
      "outputs": [
        {
          "output_type": "execute_result",
          "data": {
            "text/plain": [
              "array([[[ 1.36077404e-01,  3.08977336e-01,  9.59293395e-02, ...,\n",
              "         -1.70006037e-01, -3.84569168e-04,  4.21890825e-01],\n",
              "        [-1.76702350e-01,  2.70812541e-01,  1.41077232e+00, ...,\n",
              "          1.88859865e-01, -1.48853958e-02,  3.52222711e-01],\n",
              "        [ 5.75674176e-01, -1.34784117e-01,  7.87006736e-01, ...,\n",
              "          5.79285994e-02, -2.02245191e-02, -3.17561567e-01],\n",
              "        ...,\n",
              "        [-1.58599198e-01,  2.20715627e-02,  1.02984774e+00, ...,\n",
              "          9.49418843e-02, -1.31045803e-02,  6.67159408e-02],\n",
              "        [-5.49302846e-02, -1.22354828e-01,  4.86338288e-01, ...,\n",
              "          3.15780878e-01, -1.39780641e-01,  4.01304439e-02],\n",
              "        [-1.55560493e-01, -9.39069018e-02,  9.06938314e-01, ...,\n",
              "          1.66304275e-01, -1.16022669e-01, -2.47380696e-04]],\n",
              "\n",
              "       [[ 1.80151016e-01,  8.93319696e-02,  2.73620844e-01, ...,\n",
              "          1.18284516e-01,  3.07633966e-01,  6.25341952e-01],\n",
              "        [ 9.32200313e-01,  2.00255483e-01,  1.02622294e+00, ...,\n",
              "          5.10184467e-01,  7.28077888e-01, -1.41471013e-01],\n",
              "        [-2.45525792e-01,  8.28217685e-01,  8.47201347e-01, ...,\n",
              "          1.39000252e-01,  3.99371922e-01,  3.02084953e-01],\n",
              "        ...,\n",
              "        [-2.04028770e-01, -4.89770085e-01,  4.15563554e-01, ...,\n",
              "          8.53132367e-01, -5.96439317e-02, -1.03285357e-01],\n",
              "        [-2.18237326e-01, -1.08743720e-01,  8.13390613e-01, ...,\n",
              "          3.99732620e-01, -2.39417762e-01,  1.70167044e-01],\n",
              "        [-7.29573518e-02, -5.33783808e-02,  7.48716950e-01, ...,\n",
              "          5.00985026e-01, -2.03559265e-01,  8.70808661e-02]],\n",
              "\n",
              "       [[-3.78739715e-01, -5.71538866e-01, -2.53981203e-01, ...,\n",
              "         -6.05450273e-02,  2.77784556e-01,  1.14890203e-01],\n",
              "        [-4.46314871e-01, -1.07970417e-01, -6.18171215e-01, ...,\n",
              "          2.01339394e-01,  7.09965289e-01, -2.14867234e-01],\n",
              "        [-7.51995146e-01, -7.76920795e-01,  1.06797636e-01, ...,\n",
              "          1.01489931e-01, -2.85042316e-01,  5.11702597e-01],\n",
              "        ...,\n",
              "        [-5.46695173e-01,  1.27844095e-01, -1.79107666e-01, ...,\n",
              "          2.51586474e-02,  4.19211358e-01,  4.49294671e-02],\n",
              "        [ 1.15373969e-01, -2.44433641e-01,  8.50793242e-01, ...,\n",
              "         -3.09215933e-01,  3.70461583e-01,  1.13101685e+00],\n",
              "        [ 2.40757301e-01,  2.16079473e-01, -4.05067205e-02, ...,\n",
              "          3.24334949e-01, -3.51865053e-01, -3.17889243e-01]],\n",
              "\n",
              "       ...,\n",
              "\n",
              "       [[-4.91120853e-02, -1.10706296e-02,  1.28423959e-01, ...,\n",
              "         -2.81981885e-01,  4.55864847e-01,  5.62749386e-01],\n",
              "        [ 7.75514245e-01, -3.23708266e-01,  1.57122076e-01, ...,\n",
              "          5.02843112e-02,  8.83605480e-01,  4.15587217e-01],\n",
              "        [ 2.27928489e-01,  2.75879323e-01,  3.45564246e-01, ...,\n",
              "         -1.15068041e-01, -7.51873851e-02,  6.42569780e-01],\n",
              "        ...,\n",
              "        [ 5.18832728e-02,  2.01396227e-01,  9.95624185e-01, ...,\n",
              "          1.96485072e-01, -3.16281915e-02,  2.56580949e-01],\n",
              "        [-1.27860367e-01,  5.28089106e-01,  9.83442903e-01, ...,\n",
              "         -2.25817524e-02, -1.14201836e-01,  4.32621837e-01],\n",
              "        [-4.26338464e-01, -9.70456377e-02,  7.44487226e-01, ...,\n",
              "          6.46151602e-01, -3.03464651e-01, -8.65307078e-02]],\n",
              "\n",
              "       [[-2.86227852e-01, -3.44254941e-01,  4.92657572e-02, ...,\n",
              "         -5.46940386e-01,  1.68483287e-01,  3.90696257e-01],\n",
              "        [-2.51796305e-01, -3.21198553e-01,  3.00577343e-01, ...,\n",
              "         -3.16114068e-01,  4.79407787e-01,  7.04084277e-01],\n",
              "        [-2.39700042e-02,  1.26597852e-01,  2.85692960e-01, ...,\n",
              "          6.46377802e-02,  1.51996017e-01,  3.51500332e-01],\n",
              "        ...,\n",
              "        [-7.26932213e-02, -5.33803821e-01,  5.78893363e-01, ...,\n",
              "         -1.45648226e-01, -8.98727849e-02,  2.28440061e-01],\n",
              "        [-3.43497485e-01, -8.09475243e-01,  1.00203261e-01, ...,\n",
              "          1.26158148e-01,  8.27605501e-02, -1.46146104e-01],\n",
              "        [-3.00210357e-01, -4.16379541e-01,  4.00893450e-01, ...,\n",
              "         -1.78306252e-01, -1.33905932e-01,  2.29770973e-01]],\n",
              "\n",
              "       [[ 6.33062050e-03, -4.18570079e-02, -2.53050253e-02, ...,\n",
              "         -6.26173988e-02,  5.19940495e-01,  4.39955741e-01],\n",
              "        [ 3.70744526e-01,  1.53264523e-01,  9.28882837e-01, ...,\n",
              "          2.78411508e-01,  1.03694534e+00, -2.40988165e-01],\n",
              "        [-4.37226862e-01,  7.25400567e-01,  9.77389574e-01, ...,\n",
              "          7.62650490e-01,  3.93740386e-01,  5.52112937e-01],\n",
              "        ...,\n",
              "        [-2.65349120e-01, -3.34674090e-01,  4.09503937e-01, ...,\n",
              "          8.52908969e-01,  1.04439199e-01, -4.30618912e-01],\n",
              "        [-1.83589593e-01, -2.98894078e-01,  3.77266347e-01, ...,\n",
              "          8.40522885e-01,  1.05812579e-01, -3.66865873e-01],\n",
              "        [-1.63521841e-01, -6.26259968e-02,  5.86765289e-01, ...,\n",
              "          5.66326439e-01, -1.28741801e-01, -7.92903379e-02]]],\n",
              "      dtype=float32)"
            ]
          },
          "metadata": {},
          "execution_count": 38
        }
      ]
    },
    {
      "cell_type": "code",
      "source": [
        "predictions = model2ddrop.predict(X_val)"
      ],
      "metadata": {
        "id": "C63hKiZKz6zv",
        "colab": {
          "base_uri": "https://localhost:8080/"
        },
        "outputId": "d93bc5ca-dc06-4532-c869-596c558c41cd"
      },
      "execution_count": null,
      "outputs": [
        {
          "output_type": "stream",
          "name": "stdout",
          "text": [
            "16/16 [==============================] - 2s 94ms/step\n"
          ]
        }
      ]
    },
    {
      "cell_type": "code",
      "source": [
        "predictions.shape"
      ],
      "metadata": {
        "colab": {
          "base_uri": "https://localhost:8080/"
        },
        "id": "zp7EhF6G1bwQ",
        "outputId": "1324badf-427a-4bb2-f918-7c77b4b20ab2"
      },
      "execution_count": null,
      "outputs": [
        {
          "output_type": "execute_result",
          "data": {
            "text/plain": [
              "(500, 10)"
            ]
          },
          "metadata": {},
          "execution_count": 40
        }
      ]
    },
    {
      "cell_type": "code",
      "source": [
        "pred = []\n",
        "for i in range(0,len(predictions)):\n",
        "  a = np.argmax(predictions[i])\n",
        "  pred.append(a)"
      ],
      "metadata": {
        "id": "drM6Hfen18_q"
      },
      "execution_count": null,
      "outputs": []
    },
    {
      "cell_type": "code",
      "source": [
        "email['predicted_class'] = pred"
      ],
      "metadata": {
        "id": "vQNmrjOU2SLO"
      },
      "execution_count": null,
      "outputs": []
    },
    {
      "cell_type": "code",
      "source": [
        "email.head()"
      ],
      "metadata": {
        "colab": {
          "base_uri": "https://localhost:8080/",
          "height": 595
        },
        "id": "cqnxbhls2oal",
        "outputId": "b21a69d1-562c-437c-a0ce-b1ac43417057"
      },
      "execution_count": null,
      "outputs": [
        {
          "output_type": "execute_result",
          "data": {
            "text/plain": [
              "                    DateTime  Day  Outside_Hours  \\\n",
              "0  2001-11-15 08:29:57-08:00    3          False   \n",
              "1  2001-11-08 14:34:22-08:00    3          False   \n",
              "2  2001-10-08 08:51:38-07:00    0          False   \n",
              "3  2001-10-29 08:51:46-08:00    0          False   \n",
              "4  2001-10-24 14:17:19-07:00    2          False   \n",
              "\n",
              "                      From_Address  \\\n",
              "0   ['cora.pendergrass@enron.com']   \n",
              "1          ['ora.cross@enron.com']   \n",
              "2  ['veronica.espinoza@enron.com']   \n",
              "3           ['d..hogan@enron.com']   \n",
              "4       ['darren.vanek@enron.com']   \n",
              "\n",
              "                                          To_Address Cc_Address  \\\n",
              "0  ['jana.mills@enron.com', 'james.simpson@enron....       ['']   \n",
              "1                              ['l..mims@enron.com']       ['']   \n",
              "2  ['r..brackett@enron.com', 's..bradford@enron.c...       ['']   \n",
              "3                              ['l..mims@enron.com']       ['']   \n",
              "4                              ['l..mims@enron.com']       ['']   \n",
              "\n",
              "                              Subject  Forwarded   Source  \\\n",
              "0             FW: Holiday nominations       True  deleted   \n",
              "1                 RE: What's Going On      False  deleted   \n",
              "2  Credit Watch List--Week of 10/8/01      False  deleted   \n",
              "3                       Flight Prices      False  deleted   \n",
              "4             Cilcorp Energy Services      False  deleted   \n",
              "\n",
              "                                                Body  ...  DateTime_MONTH  \\\n",
              "0                                               FYI   ...              11   \n",
              "1  Hey Homey, I really do need to leave at 5:00. ...  ...              11   \n",
              "2  Attached is a revised Credit Watch listing for...  ...              10   \n",
              "3  Continental has a price of $297.17(non-refunda...  ...              10   \n",
              "4  You hurt my feelings bc you didn't wait for my...  ...              10   \n",
              "\n",
              "   Class_Sentiment_1  Class_Sentiment_2 Class_Sentiment_Vader  \\\n",
              "0            unknown            unknown                   pos   \n",
              "1            unknown                pos                   pos   \n",
              "2                neg                pos                   pos   \n",
              "3                pos                pos                   pos   \n",
              "4                neg                pos                   neg   \n",
              "\n",
              "  Class_Alignment_1 Class_Alignment_2 Class_Alignment_3  \\\n",
              "0           unknown           unknown           unknown   \n",
              "1              work              work              work   \n",
              "2              work              work               fun   \n",
              "3              work              work              work   \n",
              "4              work              work              work   \n",
              "\n",
              "                                BERT_sequence_output  \\\n",
              "0  ((tf.Tensor(0.1360774, shape=(), dtype=float32...   \n",
              "1  ((tf.Tensor(0.18015102, shape=(), dtype=float3...   \n",
              "2  ((tf.Tensor(-0.3787397, shape=(), dtype=float3...   \n",
              "3  ((tf.Tensor(-0.84323734, shape=(), dtype=float...   \n",
              "4  ((tf.Tensor(-0.25273108, shape=(), dtype=float...   \n",
              "\n",
              "                                  BERT_pooled_output predicted_class  \n",
              "0  (tf.Tensor(-0.86993665, shape=(), dtype=float3...               7  \n",
              "1  (tf.Tensor(-0.8534826, shape=(), dtype=float32...               7  \n",
              "2  (tf.Tensor(-0.65767187, shape=(), dtype=float3...               7  \n",
              "3  (tf.Tensor(-0.6663428, shape=(), dtype=float32...               0  \n",
              "4  (tf.Tensor(-0.90189135, shape=(), dtype=float3...               7  \n",
              "\n",
              "[5 rows x 22 columns]"
            ],
            "text/html": [
              "\n",
              "  <div id=\"df-ea45946d-a35b-41a7-bf53-6c0f0c123ffa\">\n",
              "    <div class=\"colab-df-container\">\n",
              "      <div>\n",
              "<style scoped>\n",
              "    .dataframe tbody tr th:only-of-type {\n",
              "        vertical-align: middle;\n",
              "    }\n",
              "\n",
              "    .dataframe tbody tr th {\n",
              "        vertical-align: top;\n",
              "    }\n",
              "\n",
              "    .dataframe thead th {\n",
              "        text-align: right;\n",
              "    }\n",
              "</style>\n",
              "<table border=\"1\" class=\"dataframe\">\n",
              "  <thead>\n",
              "    <tr style=\"text-align: right;\">\n",
              "      <th></th>\n",
              "      <th>DateTime</th>\n",
              "      <th>Day</th>\n",
              "      <th>Outside_Hours</th>\n",
              "      <th>From_Address</th>\n",
              "      <th>To_Address</th>\n",
              "      <th>Cc_Address</th>\n",
              "      <th>Subject</th>\n",
              "      <th>Forwarded</th>\n",
              "      <th>Source</th>\n",
              "      <th>Body</th>\n",
              "      <th>...</th>\n",
              "      <th>DateTime_MONTH</th>\n",
              "      <th>Class_Sentiment_1</th>\n",
              "      <th>Class_Sentiment_2</th>\n",
              "      <th>Class_Sentiment_Vader</th>\n",
              "      <th>Class_Alignment_1</th>\n",
              "      <th>Class_Alignment_2</th>\n",
              "      <th>Class_Alignment_3</th>\n",
              "      <th>BERT_sequence_output</th>\n",
              "      <th>BERT_pooled_output</th>\n",
              "      <th>predicted_class</th>\n",
              "    </tr>\n",
              "  </thead>\n",
              "  <tbody>\n",
              "    <tr>\n",
              "      <th>0</th>\n",
              "      <td>2001-11-15 08:29:57-08:00</td>\n",
              "      <td>3</td>\n",
              "      <td>False</td>\n",
              "      <td>['cora.pendergrass@enron.com']</td>\n",
              "      <td>['jana.mills@enron.com', 'james.simpson@enron....</td>\n",
              "      <td>['']</td>\n",
              "      <td>FW: Holiday nominations</td>\n",
              "      <td>True</td>\n",
              "      <td>deleted</td>\n",
              "      <td>FYI</td>\n",
              "      <td>...</td>\n",
              "      <td>11</td>\n",
              "      <td>unknown</td>\n",
              "      <td>unknown</td>\n",
              "      <td>pos</td>\n",
              "      <td>unknown</td>\n",
              "      <td>unknown</td>\n",
              "      <td>unknown</td>\n",
              "      <td>((tf.Tensor(0.1360774, shape=(), dtype=float32...</td>\n",
              "      <td>(tf.Tensor(-0.86993665, shape=(), dtype=float3...</td>\n",
              "      <td>7</td>\n",
              "    </tr>\n",
              "    <tr>\n",
              "      <th>1</th>\n",
              "      <td>2001-11-08 14:34:22-08:00</td>\n",
              "      <td>3</td>\n",
              "      <td>False</td>\n",
              "      <td>['ora.cross@enron.com']</td>\n",
              "      <td>['l..mims@enron.com']</td>\n",
              "      <td>['']</td>\n",
              "      <td>RE: What's Going On</td>\n",
              "      <td>False</td>\n",
              "      <td>deleted</td>\n",
              "      <td>Hey Homey, I really do need to leave at 5:00. ...</td>\n",
              "      <td>...</td>\n",
              "      <td>11</td>\n",
              "      <td>unknown</td>\n",
              "      <td>pos</td>\n",
              "      <td>pos</td>\n",
              "      <td>work</td>\n",
              "      <td>work</td>\n",
              "      <td>work</td>\n",
              "      <td>((tf.Tensor(0.18015102, shape=(), dtype=float3...</td>\n",
              "      <td>(tf.Tensor(-0.8534826, shape=(), dtype=float32...</td>\n",
              "      <td>7</td>\n",
              "    </tr>\n",
              "    <tr>\n",
              "      <th>2</th>\n",
              "      <td>2001-10-08 08:51:38-07:00</td>\n",
              "      <td>0</td>\n",
              "      <td>False</td>\n",
              "      <td>['veronica.espinoza@enron.com']</td>\n",
              "      <td>['r..brackett@enron.com', 's..bradford@enron.c...</td>\n",
              "      <td>['']</td>\n",
              "      <td>Credit Watch List--Week of 10/8/01</td>\n",
              "      <td>False</td>\n",
              "      <td>deleted</td>\n",
              "      <td>Attached is a revised Credit Watch listing for...</td>\n",
              "      <td>...</td>\n",
              "      <td>10</td>\n",
              "      <td>neg</td>\n",
              "      <td>pos</td>\n",
              "      <td>pos</td>\n",
              "      <td>work</td>\n",
              "      <td>work</td>\n",
              "      <td>fun</td>\n",
              "      <td>((tf.Tensor(-0.3787397, shape=(), dtype=float3...</td>\n",
              "      <td>(tf.Tensor(-0.65767187, shape=(), dtype=float3...</td>\n",
              "      <td>7</td>\n",
              "    </tr>\n",
              "    <tr>\n",
              "      <th>3</th>\n",
              "      <td>2001-10-29 08:51:46-08:00</td>\n",
              "      <td>0</td>\n",
              "      <td>False</td>\n",
              "      <td>['d..hogan@enron.com']</td>\n",
              "      <td>['l..mims@enron.com']</td>\n",
              "      <td>['']</td>\n",
              "      <td>Flight Prices</td>\n",
              "      <td>False</td>\n",
              "      <td>deleted</td>\n",
              "      <td>Continental has a price of $297.17(non-refunda...</td>\n",
              "      <td>...</td>\n",
              "      <td>10</td>\n",
              "      <td>pos</td>\n",
              "      <td>pos</td>\n",
              "      <td>pos</td>\n",
              "      <td>work</td>\n",
              "      <td>work</td>\n",
              "      <td>work</td>\n",
              "      <td>((tf.Tensor(-0.84323734, shape=(), dtype=float...</td>\n",
              "      <td>(tf.Tensor(-0.6663428, shape=(), dtype=float32...</td>\n",
              "      <td>0</td>\n",
              "    </tr>\n",
              "    <tr>\n",
              "      <th>4</th>\n",
              "      <td>2001-10-24 14:17:19-07:00</td>\n",
              "      <td>2</td>\n",
              "      <td>False</td>\n",
              "      <td>['darren.vanek@enron.com']</td>\n",
              "      <td>['l..mims@enron.com']</td>\n",
              "      <td>['']</td>\n",
              "      <td>Cilcorp Energy Services</td>\n",
              "      <td>False</td>\n",
              "      <td>deleted</td>\n",
              "      <td>You hurt my feelings bc you didn't wait for my...</td>\n",
              "      <td>...</td>\n",
              "      <td>10</td>\n",
              "      <td>neg</td>\n",
              "      <td>pos</td>\n",
              "      <td>neg</td>\n",
              "      <td>work</td>\n",
              "      <td>work</td>\n",
              "      <td>work</td>\n",
              "      <td>((tf.Tensor(-0.25273108, shape=(), dtype=float...</td>\n",
              "      <td>(tf.Tensor(-0.90189135, shape=(), dtype=float3...</td>\n",
              "      <td>7</td>\n",
              "    </tr>\n",
              "  </tbody>\n",
              "</table>\n",
              "<p>5 rows × 22 columns</p>\n",
              "</div>\n",
              "      <button class=\"colab-df-convert\" onclick=\"convertToInteractive('df-ea45946d-a35b-41a7-bf53-6c0f0c123ffa')\"\n",
              "              title=\"Convert this dataframe to an interactive table.\"\n",
              "              style=\"display:none;\">\n",
              "        \n",
              "  <svg xmlns=\"http://www.w3.org/2000/svg\" height=\"24px\"viewBox=\"0 0 24 24\"\n",
              "       width=\"24px\">\n",
              "    <path d=\"M0 0h24v24H0V0z\" fill=\"none\"/>\n",
              "    <path d=\"M18.56 5.44l.94 2.06.94-2.06 2.06-.94-2.06-.94-.94-2.06-.94 2.06-2.06.94zm-11 1L8.5 8.5l.94-2.06 2.06-.94-2.06-.94L8.5 2.5l-.94 2.06-2.06.94zm10 10l.94 2.06.94-2.06 2.06-.94-2.06-.94-.94-2.06-.94 2.06-2.06.94z\"/><path d=\"M17.41 7.96l-1.37-1.37c-.4-.4-.92-.59-1.43-.59-.52 0-1.04.2-1.43.59L10.3 9.45l-7.72 7.72c-.78.78-.78 2.05 0 2.83L4 21.41c.39.39.9.59 1.41.59.51 0 1.02-.2 1.41-.59l7.78-7.78 2.81-2.81c.8-.78.8-2.07 0-2.86zM5.41 20L4 18.59l7.72-7.72 1.47 1.35L5.41 20z\"/>\n",
              "  </svg>\n",
              "      </button>\n",
              "      \n",
              "  <style>\n",
              "    .colab-df-container {\n",
              "      display:flex;\n",
              "      flex-wrap:wrap;\n",
              "      gap: 12px;\n",
              "    }\n",
              "\n",
              "    .colab-df-convert {\n",
              "      background-color: #E8F0FE;\n",
              "      border: none;\n",
              "      border-radius: 50%;\n",
              "      cursor: pointer;\n",
              "      display: none;\n",
              "      fill: #1967D2;\n",
              "      height: 32px;\n",
              "      padding: 0 0 0 0;\n",
              "      width: 32px;\n",
              "    }\n",
              "\n",
              "    .colab-df-convert:hover {\n",
              "      background-color: #E2EBFA;\n",
              "      box-shadow: 0px 1px 2px rgba(60, 64, 67, 0.3), 0px 1px 3px 1px rgba(60, 64, 67, 0.15);\n",
              "      fill: #174EA6;\n",
              "    }\n",
              "\n",
              "    [theme=dark] .colab-df-convert {\n",
              "      background-color: #3B4455;\n",
              "      fill: #D2E3FC;\n",
              "    }\n",
              "\n",
              "    [theme=dark] .colab-df-convert:hover {\n",
              "      background-color: #434B5C;\n",
              "      box-shadow: 0px 1px 3px 1px rgba(0, 0, 0, 0.15);\n",
              "      filter: drop-shadow(0px 1px 2px rgba(0, 0, 0, 0.3));\n",
              "      fill: #FFFFFF;\n",
              "    }\n",
              "  </style>\n",
              "\n",
              "      <script>\n",
              "        const buttonEl =\n",
              "          document.querySelector('#df-ea45946d-a35b-41a7-bf53-6c0f0c123ffa button.colab-df-convert');\n",
              "        buttonEl.style.display =\n",
              "          google.colab.kernel.accessAllowed ? 'block' : 'none';\n",
              "\n",
              "        async function convertToInteractive(key) {\n",
              "          const element = document.querySelector('#df-ea45946d-a35b-41a7-bf53-6c0f0c123ffa');\n",
              "          const dataTable =\n",
              "            await google.colab.kernel.invokeFunction('convertToInteractive',\n",
              "                                                     [key], {});\n",
              "          if (!dataTable) return;\n",
              "\n",
              "          const docLinkHtml = 'Like what you see? Visit the ' +\n",
              "            '<a target=\"_blank\" href=https://colab.research.google.com/notebooks/data_table.ipynb>data table notebook</a>'\n",
              "            + ' to learn more about interactive tables.';\n",
              "          element.innerHTML = '';\n",
              "          dataTable['output_type'] = 'display_data';\n",
              "          await google.colab.output.renderOutput(dataTable, element);\n",
              "          const docLink = document.createElement('div');\n",
              "          docLink.innerHTML = docLinkHtml;\n",
              "          element.appendChild(docLink);\n",
              "        }\n",
              "      </script>\n",
              "    </div>\n",
              "  </div>\n",
              "  "
            ]
          },
          "metadata": {},
          "execution_count": 43
        }
      ]
    },
    {
      "cell_type": "code",
      "source": [
        "emailfinal = email[['Body','predicted_class']]"
      ],
      "metadata": {
        "id": "ElT6FJMQ2peY"
      },
      "execution_count": null,
      "outputs": []
    },
    {
      "cell_type": "code",
      "source": [
        "emailfinal.head()"
      ],
      "metadata": {
        "colab": {
          "base_uri": "https://localhost:8080/",
          "height": 206
        },
        "id": "JWwH4xXm3B5K",
        "outputId": "0591a8a1-8c4e-40f9-c8f9-3f5137d13910"
      },
      "execution_count": null,
      "outputs": [
        {
          "output_type": "execute_result",
          "data": {
            "text/plain": [
              "                                                Body  predicted_class\n",
              "0                                               FYI                 7\n",
              "1  Hey Homey, I really do need to leave at 5:00. ...                7\n",
              "2  Attached is a revised Credit Watch listing for...                7\n",
              "3  Continental has a price of $297.17(non-refunda...                0\n",
              "4  You hurt my feelings bc you didn't wait for my...                7"
            ],
            "text/html": [
              "\n",
              "  <div id=\"df-367f1541-8b99-455d-a5c3-0aaa9cc82763\">\n",
              "    <div class=\"colab-df-container\">\n",
              "      <div>\n",
              "<style scoped>\n",
              "    .dataframe tbody tr th:only-of-type {\n",
              "        vertical-align: middle;\n",
              "    }\n",
              "\n",
              "    .dataframe tbody tr th {\n",
              "        vertical-align: top;\n",
              "    }\n",
              "\n",
              "    .dataframe thead th {\n",
              "        text-align: right;\n",
              "    }\n",
              "</style>\n",
              "<table border=\"1\" class=\"dataframe\">\n",
              "  <thead>\n",
              "    <tr style=\"text-align: right;\">\n",
              "      <th></th>\n",
              "      <th>Body</th>\n",
              "      <th>predicted_class</th>\n",
              "    </tr>\n",
              "  </thead>\n",
              "  <tbody>\n",
              "    <tr>\n",
              "      <th>0</th>\n",
              "      <td>FYI</td>\n",
              "      <td>7</td>\n",
              "    </tr>\n",
              "    <tr>\n",
              "      <th>1</th>\n",
              "      <td>Hey Homey, I really do need to leave at 5:00. ...</td>\n",
              "      <td>7</td>\n",
              "    </tr>\n",
              "    <tr>\n",
              "      <th>2</th>\n",
              "      <td>Attached is a revised Credit Watch listing for...</td>\n",
              "      <td>7</td>\n",
              "    </tr>\n",
              "    <tr>\n",
              "      <th>3</th>\n",
              "      <td>Continental has a price of $297.17(non-refunda...</td>\n",
              "      <td>0</td>\n",
              "    </tr>\n",
              "    <tr>\n",
              "      <th>4</th>\n",
              "      <td>You hurt my feelings bc you didn't wait for my...</td>\n",
              "      <td>7</td>\n",
              "    </tr>\n",
              "  </tbody>\n",
              "</table>\n",
              "</div>\n",
              "      <button class=\"colab-df-convert\" onclick=\"convertToInteractive('df-367f1541-8b99-455d-a5c3-0aaa9cc82763')\"\n",
              "              title=\"Convert this dataframe to an interactive table.\"\n",
              "              style=\"display:none;\">\n",
              "        \n",
              "  <svg xmlns=\"http://www.w3.org/2000/svg\" height=\"24px\"viewBox=\"0 0 24 24\"\n",
              "       width=\"24px\">\n",
              "    <path d=\"M0 0h24v24H0V0z\" fill=\"none\"/>\n",
              "    <path d=\"M18.56 5.44l.94 2.06.94-2.06 2.06-.94-2.06-.94-.94-2.06-.94 2.06-2.06.94zm-11 1L8.5 8.5l.94-2.06 2.06-.94-2.06-.94L8.5 2.5l-.94 2.06-2.06.94zm10 10l.94 2.06.94-2.06 2.06-.94-2.06-.94-.94-2.06-.94 2.06-2.06.94z\"/><path d=\"M17.41 7.96l-1.37-1.37c-.4-.4-.92-.59-1.43-.59-.52 0-1.04.2-1.43.59L10.3 9.45l-7.72 7.72c-.78.78-.78 2.05 0 2.83L4 21.41c.39.39.9.59 1.41.59.51 0 1.02-.2 1.41-.59l7.78-7.78 2.81-2.81c.8-.78.8-2.07 0-2.86zM5.41 20L4 18.59l7.72-7.72 1.47 1.35L5.41 20z\"/>\n",
              "  </svg>\n",
              "      </button>\n",
              "      \n",
              "  <style>\n",
              "    .colab-df-container {\n",
              "      display:flex;\n",
              "      flex-wrap:wrap;\n",
              "      gap: 12px;\n",
              "    }\n",
              "\n",
              "    .colab-df-convert {\n",
              "      background-color: #E8F0FE;\n",
              "      border: none;\n",
              "      border-radius: 50%;\n",
              "      cursor: pointer;\n",
              "      display: none;\n",
              "      fill: #1967D2;\n",
              "      height: 32px;\n",
              "      padding: 0 0 0 0;\n",
              "      width: 32px;\n",
              "    }\n",
              "\n",
              "    .colab-df-convert:hover {\n",
              "      background-color: #E2EBFA;\n",
              "      box-shadow: 0px 1px 2px rgba(60, 64, 67, 0.3), 0px 1px 3px 1px rgba(60, 64, 67, 0.15);\n",
              "      fill: #174EA6;\n",
              "    }\n",
              "\n",
              "    [theme=dark] .colab-df-convert {\n",
              "      background-color: #3B4455;\n",
              "      fill: #D2E3FC;\n",
              "    }\n",
              "\n",
              "    [theme=dark] .colab-df-convert:hover {\n",
              "      background-color: #434B5C;\n",
              "      box-shadow: 0px 1px 3px 1px rgba(0, 0, 0, 0.15);\n",
              "      filter: drop-shadow(0px 1px 2px rgba(0, 0, 0, 0.3));\n",
              "      fill: #FFFFFF;\n",
              "    }\n",
              "  </style>\n",
              "\n",
              "      <script>\n",
              "        const buttonEl =\n",
              "          document.querySelector('#df-367f1541-8b99-455d-a5c3-0aaa9cc82763 button.colab-df-convert');\n",
              "        buttonEl.style.display =\n",
              "          google.colab.kernel.accessAllowed ? 'block' : 'none';\n",
              "\n",
              "        async function convertToInteractive(key) {\n",
              "          const element = document.querySelector('#df-367f1541-8b99-455d-a5c3-0aaa9cc82763');\n",
              "          const dataTable =\n",
              "            await google.colab.kernel.invokeFunction('convertToInteractive',\n",
              "                                                     [key], {});\n",
              "          if (!dataTable) return;\n",
              "\n",
              "          const docLinkHtml = 'Like what you see? Visit the ' +\n",
              "            '<a target=\"_blank\" href=https://colab.research.google.com/notebooks/data_table.ipynb>data table notebook</a>'\n",
              "            + ' to learn more about interactive tables.';\n",
              "          element.innerHTML = '';\n",
              "          dataTable['output_type'] = 'display_data';\n",
              "          await google.colab.output.renderOutput(dataTable, element);\n",
              "          const docLink = document.createElement('div');\n",
              "          docLink.innerHTML = docLinkHtml;\n",
              "          element.appendChild(docLink);\n",
              "        }\n",
              "      </script>\n",
              "    </div>\n",
              "  </div>\n",
              "  "
            ]
          },
          "metadata": {},
          "execution_count": 45
        }
      ]
    },
    {
      "cell_type": "code",
      "source": [
        "dict1 = {0 : 'business',\n",
        " 1 : 'entertainment',\n",
        " 2 : 'food',\n",
        " 3 : 'graphics',\n",
        " 4 : 'historical',\n",
        " 5 : 'medical',\n",
        " 6 : 'politics',\n",
        " 7 : 'space',\n",
        " 8 : 'sport',\n",
        " 9 : 'technologie'}"
      ],
      "metadata": {
        "id": "auEuwwZF3FSY"
      },
      "execution_count": null,
      "outputs": []
    },
    {
      "cell_type": "code",
      "source": [
        "emailfinal['label'] = emailfinal['predicted_class'].map(lambda x : dict1[x])"
      ],
      "metadata": {
        "colab": {
          "base_uri": "https://localhost:8080/"
        },
        "id": "FrPESfSW3QmY",
        "outputId": "90a36c6d-4352-4222-86bc-dafcd3532138"
      },
      "execution_count": null,
      "outputs": [
        {
          "output_type": "stream",
          "name": "stderr",
          "text": [
            "<ipython-input-47-cb763906da77>:1: SettingWithCopyWarning: \n",
            "A value is trying to be set on a copy of a slice from a DataFrame.\n",
            "Try using .loc[row_indexer,col_indexer] = value instead\n",
            "\n",
            "See the caveats in the documentation: https://pandas.pydata.org/pandas-docs/stable/user_guide/indexing.html#returning-a-view-versus-a-copy\n",
            "  emailfinal['label'] = emailfinal['predicted_class'].map(lambda x : dict1[x])\n"
          ]
        }
      ]
    },
    {
      "cell_type": "code",
      "source": [
        "emailfinal.head()"
      ],
      "metadata": {
        "colab": {
          "base_uri": "https://localhost:8080/",
          "height": 206
        },
        "id": "kWFxIVmk4ZKM",
        "outputId": "4bd7bf36-e4c2-4792-dcbc-80d07ba65e62"
      },
      "execution_count": null,
      "outputs": [
        {
          "output_type": "execute_result",
          "data": {
            "text/plain": [
              "                                                Body  predicted_class  \\\n",
              "0                                               FYI                 7   \n",
              "1  Hey Homey, I really do need to leave at 5:00. ...                7   \n",
              "2  Attached is a revised Credit Watch listing for...                7   \n",
              "3  Continental has a price of $297.17(non-refunda...                0   \n",
              "4  You hurt my feelings bc you didn't wait for my...                7   \n",
              "\n",
              "      label  \n",
              "0     space  \n",
              "1     space  \n",
              "2     space  \n",
              "3  business  \n",
              "4     space  "
            ],
            "text/html": [
              "\n",
              "  <div id=\"df-381d2dfb-e550-42d3-80d4-2071bc87d6c1\">\n",
              "    <div class=\"colab-df-container\">\n",
              "      <div>\n",
              "<style scoped>\n",
              "    .dataframe tbody tr th:only-of-type {\n",
              "        vertical-align: middle;\n",
              "    }\n",
              "\n",
              "    .dataframe tbody tr th {\n",
              "        vertical-align: top;\n",
              "    }\n",
              "\n",
              "    .dataframe thead th {\n",
              "        text-align: right;\n",
              "    }\n",
              "</style>\n",
              "<table border=\"1\" class=\"dataframe\">\n",
              "  <thead>\n",
              "    <tr style=\"text-align: right;\">\n",
              "      <th></th>\n",
              "      <th>Body</th>\n",
              "      <th>predicted_class</th>\n",
              "      <th>label</th>\n",
              "    </tr>\n",
              "  </thead>\n",
              "  <tbody>\n",
              "    <tr>\n",
              "      <th>0</th>\n",
              "      <td>FYI</td>\n",
              "      <td>7</td>\n",
              "      <td>space</td>\n",
              "    </tr>\n",
              "    <tr>\n",
              "      <th>1</th>\n",
              "      <td>Hey Homey, I really do need to leave at 5:00. ...</td>\n",
              "      <td>7</td>\n",
              "      <td>space</td>\n",
              "    </tr>\n",
              "    <tr>\n",
              "      <th>2</th>\n",
              "      <td>Attached is a revised Credit Watch listing for...</td>\n",
              "      <td>7</td>\n",
              "      <td>space</td>\n",
              "    </tr>\n",
              "    <tr>\n",
              "      <th>3</th>\n",
              "      <td>Continental has a price of $297.17(non-refunda...</td>\n",
              "      <td>0</td>\n",
              "      <td>business</td>\n",
              "    </tr>\n",
              "    <tr>\n",
              "      <th>4</th>\n",
              "      <td>You hurt my feelings bc you didn't wait for my...</td>\n",
              "      <td>7</td>\n",
              "      <td>space</td>\n",
              "    </tr>\n",
              "  </tbody>\n",
              "</table>\n",
              "</div>\n",
              "      <button class=\"colab-df-convert\" onclick=\"convertToInteractive('df-381d2dfb-e550-42d3-80d4-2071bc87d6c1')\"\n",
              "              title=\"Convert this dataframe to an interactive table.\"\n",
              "              style=\"display:none;\">\n",
              "        \n",
              "  <svg xmlns=\"http://www.w3.org/2000/svg\" height=\"24px\"viewBox=\"0 0 24 24\"\n",
              "       width=\"24px\">\n",
              "    <path d=\"M0 0h24v24H0V0z\" fill=\"none\"/>\n",
              "    <path d=\"M18.56 5.44l.94 2.06.94-2.06 2.06-.94-2.06-.94-.94-2.06-.94 2.06-2.06.94zm-11 1L8.5 8.5l.94-2.06 2.06-.94-2.06-.94L8.5 2.5l-.94 2.06-2.06.94zm10 10l.94 2.06.94-2.06 2.06-.94-2.06-.94-.94-2.06-.94 2.06-2.06.94z\"/><path d=\"M17.41 7.96l-1.37-1.37c-.4-.4-.92-.59-1.43-.59-.52 0-1.04.2-1.43.59L10.3 9.45l-7.72 7.72c-.78.78-.78 2.05 0 2.83L4 21.41c.39.39.9.59 1.41.59.51 0 1.02-.2 1.41-.59l7.78-7.78 2.81-2.81c.8-.78.8-2.07 0-2.86zM5.41 20L4 18.59l7.72-7.72 1.47 1.35L5.41 20z\"/>\n",
              "  </svg>\n",
              "      </button>\n",
              "      \n",
              "  <style>\n",
              "    .colab-df-container {\n",
              "      display:flex;\n",
              "      flex-wrap:wrap;\n",
              "      gap: 12px;\n",
              "    }\n",
              "\n",
              "    .colab-df-convert {\n",
              "      background-color: #E8F0FE;\n",
              "      border: none;\n",
              "      border-radius: 50%;\n",
              "      cursor: pointer;\n",
              "      display: none;\n",
              "      fill: #1967D2;\n",
              "      height: 32px;\n",
              "      padding: 0 0 0 0;\n",
              "      width: 32px;\n",
              "    }\n",
              "\n",
              "    .colab-df-convert:hover {\n",
              "      background-color: #E2EBFA;\n",
              "      box-shadow: 0px 1px 2px rgba(60, 64, 67, 0.3), 0px 1px 3px 1px rgba(60, 64, 67, 0.15);\n",
              "      fill: #174EA6;\n",
              "    }\n",
              "\n",
              "    [theme=dark] .colab-df-convert {\n",
              "      background-color: #3B4455;\n",
              "      fill: #D2E3FC;\n",
              "    }\n",
              "\n",
              "    [theme=dark] .colab-df-convert:hover {\n",
              "      background-color: #434B5C;\n",
              "      box-shadow: 0px 1px 3px 1px rgba(0, 0, 0, 0.15);\n",
              "      filter: drop-shadow(0px 1px 2px rgba(0, 0, 0, 0.3));\n",
              "      fill: #FFFFFF;\n",
              "    }\n",
              "  </style>\n",
              "\n",
              "      <script>\n",
              "        const buttonEl =\n",
              "          document.querySelector('#df-381d2dfb-e550-42d3-80d4-2071bc87d6c1 button.colab-df-convert');\n",
              "        buttonEl.style.display =\n",
              "          google.colab.kernel.accessAllowed ? 'block' : 'none';\n",
              "\n",
              "        async function convertToInteractive(key) {\n",
              "          const element = document.querySelector('#df-381d2dfb-e550-42d3-80d4-2071bc87d6c1');\n",
              "          const dataTable =\n",
              "            await google.colab.kernel.invokeFunction('convertToInteractive',\n",
              "                                                     [key], {});\n",
              "          if (!dataTable) return;\n",
              "\n",
              "          const docLinkHtml = 'Like what you see? Visit the ' +\n",
              "            '<a target=\"_blank\" href=https://colab.research.google.com/notebooks/data_table.ipynb>data table notebook</a>'\n",
              "            + ' to learn more about interactive tables.';\n",
              "          element.innerHTML = '';\n",
              "          dataTable['output_type'] = 'display_data';\n",
              "          await google.colab.output.renderOutput(dataTable, element);\n",
              "          const docLink = document.createElement('div');\n",
              "          docLink.innerHTML = docLinkHtml;\n",
              "          element.appendChild(docLink);\n",
              "        }\n",
              "      </script>\n",
              "    </div>\n",
              "  </div>\n",
              "  "
            ]
          },
          "metadata": {},
          "execution_count": 48
        }
      ]
    },
    {
      "cell_type": "code",
      "source": [
        "emailfinal['label'].value_counts()"
      ],
      "metadata": {
        "colab": {
          "base_uri": "https://localhost:8080/"
        },
        "id": "DEWDaAiN5zEq",
        "outputId": "f755bfd5-8665-44ce-93c3-ef2898fa87df"
      },
      "execution_count": null,
      "outputs": [
        {
          "output_type": "execute_result",
          "data": {
            "text/plain": [
              "space          302\n",
              "graphics       108\n",
              "medical         37\n",
              "business        25\n",
              "technologie     20\n",
              "food             4\n",
              "sport            2\n",
              "politics         1\n",
              "historical       1\n",
              "Name: label, dtype: int64"
            ]
          },
          "metadata": {},
          "execution_count": 49
        }
      ]
    },
    {
      "cell_type": "code",
      "source": [
        "group = emailfinal.groupby(['predicted_class'])['Body'].apply(lambda x: ','.join(x)).reset_index()"
      ],
      "metadata": {
        "id": "1bbTEzbp6s1G"
      },
      "execution_count": null,
      "outputs": []
    },
    {
      "cell_type": "code",
      "source": [
        "group"
      ],
      "metadata": {
        "colab": {
          "base_uri": "https://localhost:8080/",
          "height": 332
        },
        "id": "UrGMRpHu7IMu",
        "outputId": "4950b21d-edc4-4fd3-b0f1-ed01dee48817"
      },
      "execution_count": null,
      "outputs": [
        {
          "output_type": "execute_result",
          "data": {
            "text/plain": [
              "   predicted_class                                               Body\n",
              "0                0  Continental has a price of $297.17(non-refunda...\n",
              "1                2  Please be advised that starting October 29th w...\n",
              "2                3  Attached is the final notification report for ...\n",
              "3                4   Subject: a married man left work A married ma...\n",
              "4                5  Please open the attachment and send me your in...\n",
              "5                6   We've been notified by Building Security that...\n",
              "6                7   FYI ,Hey Homey, I really do need to leave at ...\n",
              "7                8  Good Morning - Hope your are doing well in all...\n",
              "8                9  We are going to try to get to the point of upl..."
            ],
            "text/html": [
              "\n",
              "  <div id=\"df-35211838-1874-4ee6-a615-475f31579d3d\">\n",
              "    <div class=\"colab-df-container\">\n",
              "      <div>\n",
              "<style scoped>\n",
              "    .dataframe tbody tr th:only-of-type {\n",
              "        vertical-align: middle;\n",
              "    }\n",
              "\n",
              "    .dataframe tbody tr th {\n",
              "        vertical-align: top;\n",
              "    }\n",
              "\n",
              "    .dataframe thead th {\n",
              "        text-align: right;\n",
              "    }\n",
              "</style>\n",
              "<table border=\"1\" class=\"dataframe\">\n",
              "  <thead>\n",
              "    <tr style=\"text-align: right;\">\n",
              "      <th></th>\n",
              "      <th>predicted_class</th>\n",
              "      <th>Body</th>\n",
              "    </tr>\n",
              "  </thead>\n",
              "  <tbody>\n",
              "    <tr>\n",
              "      <th>0</th>\n",
              "      <td>0</td>\n",
              "      <td>Continental has a price of $297.17(non-refunda...</td>\n",
              "    </tr>\n",
              "    <tr>\n",
              "      <th>1</th>\n",
              "      <td>2</td>\n",
              "      <td>Please be advised that starting October 29th w...</td>\n",
              "    </tr>\n",
              "    <tr>\n",
              "      <th>2</th>\n",
              "      <td>3</td>\n",
              "      <td>Attached is the final notification report for ...</td>\n",
              "    </tr>\n",
              "    <tr>\n",
              "      <th>3</th>\n",
              "      <td>4</td>\n",
              "      <td>Subject: a married man left work A married ma...</td>\n",
              "    </tr>\n",
              "    <tr>\n",
              "      <th>4</th>\n",
              "      <td>5</td>\n",
              "      <td>Please open the attachment and send me your in...</td>\n",
              "    </tr>\n",
              "    <tr>\n",
              "      <th>5</th>\n",
              "      <td>6</td>\n",
              "      <td>We've been notified by Building Security that...</td>\n",
              "    </tr>\n",
              "    <tr>\n",
              "      <th>6</th>\n",
              "      <td>7</td>\n",
              "      <td>FYI ,Hey Homey, I really do need to leave at ...</td>\n",
              "    </tr>\n",
              "    <tr>\n",
              "      <th>7</th>\n",
              "      <td>8</td>\n",
              "      <td>Good Morning - Hope your are doing well in all...</td>\n",
              "    </tr>\n",
              "    <tr>\n",
              "      <th>8</th>\n",
              "      <td>9</td>\n",
              "      <td>We are going to try to get to the point of upl...</td>\n",
              "    </tr>\n",
              "  </tbody>\n",
              "</table>\n",
              "</div>\n",
              "      <button class=\"colab-df-convert\" onclick=\"convertToInteractive('df-35211838-1874-4ee6-a615-475f31579d3d')\"\n",
              "              title=\"Convert this dataframe to an interactive table.\"\n",
              "              style=\"display:none;\">\n",
              "        \n",
              "  <svg xmlns=\"http://www.w3.org/2000/svg\" height=\"24px\"viewBox=\"0 0 24 24\"\n",
              "       width=\"24px\">\n",
              "    <path d=\"M0 0h24v24H0V0z\" fill=\"none\"/>\n",
              "    <path d=\"M18.56 5.44l.94 2.06.94-2.06 2.06-.94-2.06-.94-.94-2.06-.94 2.06-2.06.94zm-11 1L8.5 8.5l.94-2.06 2.06-.94-2.06-.94L8.5 2.5l-.94 2.06-2.06.94zm10 10l.94 2.06.94-2.06 2.06-.94-2.06-.94-.94-2.06-.94 2.06-2.06.94z\"/><path d=\"M17.41 7.96l-1.37-1.37c-.4-.4-.92-.59-1.43-.59-.52 0-1.04.2-1.43.59L10.3 9.45l-7.72 7.72c-.78.78-.78 2.05 0 2.83L4 21.41c.39.39.9.59 1.41.59.51 0 1.02-.2 1.41-.59l7.78-7.78 2.81-2.81c.8-.78.8-2.07 0-2.86zM5.41 20L4 18.59l7.72-7.72 1.47 1.35L5.41 20z\"/>\n",
              "  </svg>\n",
              "      </button>\n",
              "      \n",
              "  <style>\n",
              "    .colab-df-container {\n",
              "      display:flex;\n",
              "      flex-wrap:wrap;\n",
              "      gap: 12px;\n",
              "    }\n",
              "\n",
              "    .colab-df-convert {\n",
              "      background-color: #E8F0FE;\n",
              "      border: none;\n",
              "      border-radius: 50%;\n",
              "      cursor: pointer;\n",
              "      display: none;\n",
              "      fill: #1967D2;\n",
              "      height: 32px;\n",
              "      padding: 0 0 0 0;\n",
              "      width: 32px;\n",
              "    }\n",
              "\n",
              "    .colab-df-convert:hover {\n",
              "      background-color: #E2EBFA;\n",
              "      box-shadow: 0px 1px 2px rgba(60, 64, 67, 0.3), 0px 1px 3px 1px rgba(60, 64, 67, 0.15);\n",
              "      fill: #174EA6;\n",
              "    }\n",
              "\n",
              "    [theme=dark] .colab-df-convert {\n",
              "      background-color: #3B4455;\n",
              "      fill: #D2E3FC;\n",
              "    }\n",
              "\n",
              "    [theme=dark] .colab-df-convert:hover {\n",
              "      background-color: #434B5C;\n",
              "      box-shadow: 0px 1px 3px 1px rgba(0, 0, 0, 0.15);\n",
              "      filter: drop-shadow(0px 1px 2px rgba(0, 0, 0, 0.3));\n",
              "      fill: #FFFFFF;\n",
              "    }\n",
              "  </style>\n",
              "\n",
              "      <script>\n",
              "        const buttonEl =\n",
              "          document.querySelector('#df-35211838-1874-4ee6-a615-475f31579d3d button.colab-df-convert');\n",
              "        buttonEl.style.display =\n",
              "          google.colab.kernel.accessAllowed ? 'block' : 'none';\n",
              "\n",
              "        async function convertToInteractive(key) {\n",
              "          const element = document.querySelector('#df-35211838-1874-4ee6-a615-475f31579d3d');\n",
              "          const dataTable =\n",
              "            await google.colab.kernel.invokeFunction('convertToInteractive',\n",
              "                                                     [key], {});\n",
              "          if (!dataTable) return;\n",
              "\n",
              "          const docLinkHtml = 'Like what you see? Visit the ' +\n",
              "            '<a target=\"_blank\" href=https://colab.research.google.com/notebooks/data_table.ipynb>data table notebook</a>'\n",
              "            + ' to learn more about interactive tables.';\n",
              "          element.innerHTML = '';\n",
              "          dataTable['output_type'] = 'display_data';\n",
              "          await google.colab.output.renderOutput(dataTable, element);\n",
              "          const docLink = document.createElement('div');\n",
              "          docLink.innerHTML = docLinkHtml;\n",
              "          element.appendChild(docLink);\n",
              "        }\n",
              "      </script>\n",
              "    </div>\n",
              "  </div>\n",
              "  "
            ]
          },
          "metadata": {},
          "execution_count": 62
        }
      ]
    },
    {
      "cell_type": "code",
      "source": [
        "group.rename(columns = {'predicted_class':'label'}, inplace = True)"
      ],
      "metadata": {
        "id": "jRqf97lS8nEJ"
      },
      "execution_count": null,
      "outputs": []
    },
    {
      "cell_type": "code",
      "source": [
        "group"
      ],
      "metadata": {
        "colab": {
          "base_uri": "https://localhost:8080/",
          "height": 332
        },
        "id": "irAh4-vJ8tpS",
        "outputId": "6cc17e57-8347-4343-e9da-8e40433e4724"
      },
      "execution_count": null,
      "outputs": [
        {
          "output_type": "execute_result",
          "data": {
            "text/plain": [
              "   label                                               Body\n",
              "0      0  Continental has a price of $297.17(non-refunda...\n",
              "1      2  Please be advised that starting October 29th w...\n",
              "2      3  Attached is the final notification report for ...\n",
              "3      4   Subject: a married man left work A married ma...\n",
              "4      5  Please open the attachment and send me your in...\n",
              "5      6   We've been notified by Building Security that...\n",
              "6      7   FYI ,Hey Homey, I really do need to leave at ...\n",
              "7      8  Good Morning - Hope your are doing well in all...\n",
              "8      9  We are going to try to get to the point of upl..."
            ],
            "text/html": [
              "\n",
              "  <div id=\"df-ee79bfc2-740a-4b07-a020-321834f0339b\">\n",
              "    <div class=\"colab-df-container\">\n",
              "      <div>\n",
              "<style scoped>\n",
              "    .dataframe tbody tr th:only-of-type {\n",
              "        vertical-align: middle;\n",
              "    }\n",
              "\n",
              "    .dataframe tbody tr th {\n",
              "        vertical-align: top;\n",
              "    }\n",
              "\n",
              "    .dataframe thead th {\n",
              "        text-align: right;\n",
              "    }\n",
              "</style>\n",
              "<table border=\"1\" class=\"dataframe\">\n",
              "  <thead>\n",
              "    <tr style=\"text-align: right;\">\n",
              "      <th></th>\n",
              "      <th>label</th>\n",
              "      <th>Body</th>\n",
              "    </tr>\n",
              "  </thead>\n",
              "  <tbody>\n",
              "    <tr>\n",
              "      <th>0</th>\n",
              "      <td>0</td>\n",
              "      <td>Continental has a price of $297.17(non-refunda...</td>\n",
              "    </tr>\n",
              "    <tr>\n",
              "      <th>1</th>\n",
              "      <td>2</td>\n",
              "      <td>Please be advised that starting October 29th w...</td>\n",
              "    </tr>\n",
              "    <tr>\n",
              "      <th>2</th>\n",
              "      <td>3</td>\n",
              "      <td>Attached is the final notification report for ...</td>\n",
              "    </tr>\n",
              "    <tr>\n",
              "      <th>3</th>\n",
              "      <td>4</td>\n",
              "      <td>Subject: a married man left work A married ma...</td>\n",
              "    </tr>\n",
              "    <tr>\n",
              "      <th>4</th>\n",
              "      <td>5</td>\n",
              "      <td>Please open the attachment and send me your in...</td>\n",
              "    </tr>\n",
              "    <tr>\n",
              "      <th>5</th>\n",
              "      <td>6</td>\n",
              "      <td>We've been notified by Building Security that...</td>\n",
              "    </tr>\n",
              "    <tr>\n",
              "      <th>6</th>\n",
              "      <td>7</td>\n",
              "      <td>FYI ,Hey Homey, I really do need to leave at ...</td>\n",
              "    </tr>\n",
              "    <tr>\n",
              "      <th>7</th>\n",
              "      <td>8</td>\n",
              "      <td>Good Morning - Hope your are doing well in all...</td>\n",
              "    </tr>\n",
              "    <tr>\n",
              "      <th>8</th>\n",
              "      <td>9</td>\n",
              "      <td>We are going to try to get to the point of upl...</td>\n",
              "    </tr>\n",
              "  </tbody>\n",
              "</table>\n",
              "</div>\n",
              "      <button class=\"colab-df-convert\" onclick=\"convertToInteractive('df-ee79bfc2-740a-4b07-a020-321834f0339b')\"\n",
              "              title=\"Convert this dataframe to an interactive table.\"\n",
              "              style=\"display:none;\">\n",
              "        \n",
              "  <svg xmlns=\"http://www.w3.org/2000/svg\" height=\"24px\"viewBox=\"0 0 24 24\"\n",
              "       width=\"24px\">\n",
              "    <path d=\"M0 0h24v24H0V0z\" fill=\"none\"/>\n",
              "    <path d=\"M18.56 5.44l.94 2.06.94-2.06 2.06-.94-2.06-.94-.94-2.06-.94 2.06-2.06.94zm-11 1L8.5 8.5l.94-2.06 2.06-.94-2.06-.94L8.5 2.5l-.94 2.06-2.06.94zm10 10l.94 2.06.94-2.06 2.06-.94-2.06-.94-.94-2.06-.94 2.06-2.06.94z\"/><path d=\"M17.41 7.96l-1.37-1.37c-.4-.4-.92-.59-1.43-.59-.52 0-1.04.2-1.43.59L10.3 9.45l-7.72 7.72c-.78.78-.78 2.05 0 2.83L4 21.41c.39.39.9.59 1.41.59.51 0 1.02-.2 1.41-.59l7.78-7.78 2.81-2.81c.8-.78.8-2.07 0-2.86zM5.41 20L4 18.59l7.72-7.72 1.47 1.35L5.41 20z\"/>\n",
              "  </svg>\n",
              "      </button>\n",
              "      \n",
              "  <style>\n",
              "    .colab-df-container {\n",
              "      display:flex;\n",
              "      flex-wrap:wrap;\n",
              "      gap: 12px;\n",
              "    }\n",
              "\n",
              "    .colab-df-convert {\n",
              "      background-color: #E8F0FE;\n",
              "      border: none;\n",
              "      border-radius: 50%;\n",
              "      cursor: pointer;\n",
              "      display: none;\n",
              "      fill: #1967D2;\n",
              "      height: 32px;\n",
              "      padding: 0 0 0 0;\n",
              "      width: 32px;\n",
              "    }\n",
              "\n",
              "    .colab-df-convert:hover {\n",
              "      background-color: #E2EBFA;\n",
              "      box-shadow: 0px 1px 2px rgba(60, 64, 67, 0.3), 0px 1px 3px 1px rgba(60, 64, 67, 0.15);\n",
              "      fill: #174EA6;\n",
              "    }\n",
              "\n",
              "    [theme=dark] .colab-df-convert {\n",
              "      background-color: #3B4455;\n",
              "      fill: #D2E3FC;\n",
              "    }\n",
              "\n",
              "    [theme=dark] .colab-df-convert:hover {\n",
              "      background-color: #434B5C;\n",
              "      box-shadow: 0px 1px 3px 1px rgba(0, 0, 0, 0.15);\n",
              "      filter: drop-shadow(0px 1px 2px rgba(0, 0, 0, 0.3));\n",
              "      fill: #FFFFFF;\n",
              "    }\n",
              "  </style>\n",
              "\n",
              "      <script>\n",
              "        const buttonEl =\n",
              "          document.querySelector('#df-ee79bfc2-740a-4b07-a020-321834f0339b button.colab-df-convert');\n",
              "        buttonEl.style.display =\n",
              "          google.colab.kernel.accessAllowed ? 'block' : 'none';\n",
              "\n",
              "        async function convertToInteractive(key) {\n",
              "          const element = document.querySelector('#df-ee79bfc2-740a-4b07-a020-321834f0339b');\n",
              "          const dataTable =\n",
              "            await google.colab.kernel.invokeFunction('convertToInteractive',\n",
              "                                                     [key], {});\n",
              "          if (!dataTable) return;\n",
              "\n",
              "          const docLinkHtml = 'Like what you see? Visit the ' +\n",
              "            '<a target=\"_blank\" href=https://colab.research.google.com/notebooks/data_table.ipynb>data table notebook</a>'\n",
              "            + ' to learn more about interactive tables.';\n",
              "          element.innerHTML = '';\n",
              "          dataTable['output_type'] = 'display_data';\n",
              "          await google.colab.output.renderOutput(dataTable, element);\n",
              "          const docLink = document.createElement('div');\n",
              "          docLink.innerHTML = docLinkHtml;\n",
              "          element.appendChild(docLink);\n",
              "        }\n",
              "      </script>\n",
              "    </div>\n",
              "  </div>\n",
              "  "
            ]
          },
          "metadata": {},
          "execution_count": 64
        }
      ]
    },
    {
      "cell_type": "code",
      "source": [
        "path = \"/content/drive/My Drive/DL_project/df.pickle\""
      ],
      "metadata": {
        "id": "ZiqLbycR7mdN"
      },
      "execution_count": null,
      "outputs": []
    },
    {
      "cell_type": "code",
      "source": [
        "a = pd.read_pickle(path)"
      ],
      "metadata": {
        "id": "IuSKjGoI7mdO"
      },
      "execution_count": null,
      "outputs": []
    },
    {
      "cell_type": "code",
      "source": [
        "a2 = a[['cleantext','label']]"
      ],
      "metadata": {
        "id": "1gYHaHKJ7L-f"
      },
      "execution_count": null,
      "outputs": []
    },
    {
      "cell_type": "code",
      "source": [
        "a2.head()"
      ],
      "metadata": {
        "colab": {
          "base_uri": "https://localhost:8080/",
          "height": 206
        },
        "id": "AMMzDGTY747_",
        "outputId": "7dce2eef-c5ee-4433-854c-f38733eca6f9"
      },
      "execution_count": null,
      "outputs": [
        {
          "output_type": "execute_result",
          "data": {
            "text/plain": [
              "                                           cleantext  label\n",
              "0  lufthansa flies back to profit. german airline...      0\n",
              "1  japanese growth grinds to a halt. growth in ja...      0\n",
              "2  worldcom director admits lying. the former chi...      0\n",
              "3  glaxo aims high after profit fall. glaxosmithk...      0\n",
              "4  peugeot deal boosts mitsubishi. struggling jap...      0"
            ],
            "text/html": [
              "\n",
              "  <div id=\"df-6064850f-eddc-4b3a-bafd-e2f26d7233fb\">\n",
              "    <div class=\"colab-df-container\">\n",
              "      <div>\n",
              "<style scoped>\n",
              "    .dataframe tbody tr th:only-of-type {\n",
              "        vertical-align: middle;\n",
              "    }\n",
              "\n",
              "    .dataframe tbody tr th {\n",
              "        vertical-align: top;\n",
              "    }\n",
              "\n",
              "    .dataframe thead th {\n",
              "        text-align: right;\n",
              "    }\n",
              "</style>\n",
              "<table border=\"1\" class=\"dataframe\">\n",
              "  <thead>\n",
              "    <tr style=\"text-align: right;\">\n",
              "      <th></th>\n",
              "      <th>cleantext</th>\n",
              "      <th>label</th>\n",
              "    </tr>\n",
              "  </thead>\n",
              "  <tbody>\n",
              "    <tr>\n",
              "      <th>0</th>\n",
              "      <td>lufthansa flies back to profit. german airline...</td>\n",
              "      <td>0</td>\n",
              "    </tr>\n",
              "    <tr>\n",
              "      <th>1</th>\n",
              "      <td>japanese growth grinds to a halt. growth in ja...</td>\n",
              "      <td>0</td>\n",
              "    </tr>\n",
              "    <tr>\n",
              "      <th>2</th>\n",
              "      <td>worldcom director admits lying. the former chi...</td>\n",
              "      <td>0</td>\n",
              "    </tr>\n",
              "    <tr>\n",
              "      <th>3</th>\n",
              "      <td>glaxo aims high after profit fall. glaxosmithk...</td>\n",
              "      <td>0</td>\n",
              "    </tr>\n",
              "    <tr>\n",
              "      <th>4</th>\n",
              "      <td>peugeot deal boosts mitsubishi. struggling jap...</td>\n",
              "      <td>0</td>\n",
              "    </tr>\n",
              "  </tbody>\n",
              "</table>\n",
              "</div>\n",
              "      <button class=\"colab-df-convert\" onclick=\"convertToInteractive('df-6064850f-eddc-4b3a-bafd-e2f26d7233fb')\"\n",
              "              title=\"Convert this dataframe to an interactive table.\"\n",
              "              style=\"display:none;\">\n",
              "        \n",
              "  <svg xmlns=\"http://www.w3.org/2000/svg\" height=\"24px\"viewBox=\"0 0 24 24\"\n",
              "       width=\"24px\">\n",
              "    <path d=\"M0 0h24v24H0V0z\" fill=\"none\"/>\n",
              "    <path d=\"M18.56 5.44l.94 2.06.94-2.06 2.06-.94-2.06-.94-.94-2.06-.94 2.06-2.06.94zm-11 1L8.5 8.5l.94-2.06 2.06-.94-2.06-.94L8.5 2.5l-.94 2.06-2.06.94zm10 10l.94 2.06.94-2.06 2.06-.94-2.06-.94-.94-2.06-.94 2.06-2.06.94z\"/><path d=\"M17.41 7.96l-1.37-1.37c-.4-.4-.92-.59-1.43-.59-.52 0-1.04.2-1.43.59L10.3 9.45l-7.72 7.72c-.78.78-.78 2.05 0 2.83L4 21.41c.39.39.9.59 1.41.59.51 0 1.02-.2 1.41-.59l7.78-7.78 2.81-2.81c.8-.78.8-2.07 0-2.86zM5.41 20L4 18.59l7.72-7.72 1.47 1.35L5.41 20z\"/>\n",
              "  </svg>\n",
              "      </button>\n",
              "      \n",
              "  <style>\n",
              "    .colab-df-container {\n",
              "      display:flex;\n",
              "      flex-wrap:wrap;\n",
              "      gap: 12px;\n",
              "    }\n",
              "\n",
              "    .colab-df-convert {\n",
              "      background-color: #E8F0FE;\n",
              "      border: none;\n",
              "      border-radius: 50%;\n",
              "      cursor: pointer;\n",
              "      display: none;\n",
              "      fill: #1967D2;\n",
              "      height: 32px;\n",
              "      padding: 0 0 0 0;\n",
              "      width: 32px;\n",
              "    }\n",
              "\n",
              "    .colab-df-convert:hover {\n",
              "      background-color: #E2EBFA;\n",
              "      box-shadow: 0px 1px 2px rgba(60, 64, 67, 0.3), 0px 1px 3px 1px rgba(60, 64, 67, 0.15);\n",
              "      fill: #174EA6;\n",
              "    }\n",
              "\n",
              "    [theme=dark] .colab-df-convert {\n",
              "      background-color: #3B4455;\n",
              "      fill: #D2E3FC;\n",
              "    }\n",
              "\n",
              "    [theme=dark] .colab-df-convert:hover {\n",
              "      background-color: #434B5C;\n",
              "      box-shadow: 0px 1px 3px 1px rgba(0, 0, 0, 0.15);\n",
              "      filter: drop-shadow(0px 1px 2px rgba(0, 0, 0, 0.3));\n",
              "      fill: #FFFFFF;\n",
              "    }\n",
              "  </style>\n",
              "\n",
              "      <script>\n",
              "        const buttonEl =\n",
              "          document.querySelector('#df-6064850f-eddc-4b3a-bafd-e2f26d7233fb button.colab-df-convert');\n",
              "        buttonEl.style.display =\n",
              "          google.colab.kernel.accessAllowed ? 'block' : 'none';\n",
              "\n",
              "        async function convertToInteractive(key) {\n",
              "          const element = document.querySelector('#df-6064850f-eddc-4b3a-bafd-e2f26d7233fb');\n",
              "          const dataTable =\n",
              "            await google.colab.kernel.invokeFunction('convertToInteractive',\n",
              "                                                     [key], {});\n",
              "          if (!dataTable) return;\n",
              "\n",
              "          const docLinkHtml = 'Like what you see? Visit the ' +\n",
              "            '<a target=\"_blank\" href=https://colab.research.google.com/notebooks/data_table.ipynb>data table notebook</a>'\n",
              "            + ' to learn more about interactive tables.';\n",
              "          element.innerHTML = '';\n",
              "          dataTable['output_type'] = 'display_data';\n",
              "          await google.colab.output.renderOutput(dataTable, element);\n",
              "          const docLink = document.createElement('div');\n",
              "          docLink.innerHTML = docLinkHtml;\n",
              "          element.appendChild(docLink);\n",
              "        }\n",
              "      </script>\n",
              "    </div>\n",
              "  </div>\n",
              "  "
            ]
          },
          "metadata": {},
          "execution_count": 56
        }
      ]
    },
    {
      "cell_type": "code",
      "source": [
        "group2 = a2.groupby(['label'])['cleantext'].apply(lambda x: ','.join(x)).reset_index()"
      ],
      "metadata": {
        "id": "WpSESJIi8A9A"
      },
      "execution_count": null,
      "outputs": []
    },
    {
      "cell_type": "code",
      "source": [
        "group2"
      ],
      "metadata": {
        "colab": {
          "base_uri": "https://localhost:8080/",
          "height": 363
        },
        "id": "yt44UZR78A5e",
        "outputId": "3f8c1830-0729-420e-bf0e-dffa1766e18d"
      },
      "execution_count": null,
      "outputs": [
        {
          "output_type": "execute_result",
          "data": {
            "text/plain": [
              "   label                                          cleantext\n",
              "0      0  lufthansa flies back to profit. german airline...\n",
              "1      1  sundance to honour foreign films. internationa...\n",
              "2      2  grilled shrimp tacos with avocadocorn salsa. i...\n",
              "3      3  \\t\\t\\ttuesday june 22 1993. \\t    carderock di...\n",
              "4      4  as soon as he learned about the existence of a...\n",
              "5      5  i have a 42 yr old male friend misdiagnosed as...\n",
              "6      6  labour plans maternity pay rise. maternity pay...\n",
              "7      7  in article c4kvjf.4qowell.sf.ca.us metareswell...\n",
              "8      8  claxton hunting first major medal. british hur...\n",
              "9      9  the arizona attorney general ag mark brnovich ..."
            ],
            "text/html": [
              "\n",
              "  <div id=\"df-fecf39ee-e5f4-4286-8d0d-1c8631efd858\">\n",
              "    <div class=\"colab-df-container\">\n",
              "      <div>\n",
              "<style scoped>\n",
              "    .dataframe tbody tr th:only-of-type {\n",
              "        vertical-align: middle;\n",
              "    }\n",
              "\n",
              "    .dataframe tbody tr th {\n",
              "        vertical-align: top;\n",
              "    }\n",
              "\n",
              "    .dataframe thead th {\n",
              "        text-align: right;\n",
              "    }\n",
              "</style>\n",
              "<table border=\"1\" class=\"dataframe\">\n",
              "  <thead>\n",
              "    <tr style=\"text-align: right;\">\n",
              "      <th></th>\n",
              "      <th>label</th>\n",
              "      <th>cleantext</th>\n",
              "    </tr>\n",
              "  </thead>\n",
              "  <tbody>\n",
              "    <tr>\n",
              "      <th>0</th>\n",
              "      <td>0</td>\n",
              "      <td>lufthansa flies back to profit. german airline...</td>\n",
              "    </tr>\n",
              "    <tr>\n",
              "      <th>1</th>\n",
              "      <td>1</td>\n",
              "      <td>sundance to honour foreign films. internationa...</td>\n",
              "    </tr>\n",
              "    <tr>\n",
              "      <th>2</th>\n",
              "      <td>2</td>\n",
              "      <td>grilled shrimp tacos with avocadocorn salsa. i...</td>\n",
              "    </tr>\n",
              "    <tr>\n",
              "      <th>3</th>\n",
              "      <td>3</td>\n",
              "      <td>\\t\\t\\ttuesday june 22 1993. \\t    carderock di...</td>\n",
              "    </tr>\n",
              "    <tr>\n",
              "      <th>4</th>\n",
              "      <td>4</td>\n",
              "      <td>as soon as he learned about the existence of a...</td>\n",
              "    </tr>\n",
              "    <tr>\n",
              "      <th>5</th>\n",
              "      <td>5</td>\n",
              "      <td>i have a 42 yr old male friend misdiagnosed as...</td>\n",
              "    </tr>\n",
              "    <tr>\n",
              "      <th>6</th>\n",
              "      <td>6</td>\n",
              "      <td>labour plans maternity pay rise. maternity pay...</td>\n",
              "    </tr>\n",
              "    <tr>\n",
              "      <th>7</th>\n",
              "      <td>7</td>\n",
              "      <td>in article c4kvjf.4qowell.sf.ca.us metareswell...</td>\n",
              "    </tr>\n",
              "    <tr>\n",
              "      <th>8</th>\n",
              "      <td>8</td>\n",
              "      <td>claxton hunting first major medal. british hur...</td>\n",
              "    </tr>\n",
              "    <tr>\n",
              "      <th>9</th>\n",
              "      <td>9</td>\n",
              "      <td>the arizona attorney general ag mark brnovich ...</td>\n",
              "    </tr>\n",
              "  </tbody>\n",
              "</table>\n",
              "</div>\n",
              "      <button class=\"colab-df-convert\" onclick=\"convertToInteractive('df-fecf39ee-e5f4-4286-8d0d-1c8631efd858')\"\n",
              "              title=\"Convert this dataframe to an interactive table.\"\n",
              "              style=\"display:none;\">\n",
              "        \n",
              "  <svg xmlns=\"http://www.w3.org/2000/svg\" height=\"24px\"viewBox=\"0 0 24 24\"\n",
              "       width=\"24px\">\n",
              "    <path d=\"M0 0h24v24H0V0z\" fill=\"none\"/>\n",
              "    <path d=\"M18.56 5.44l.94 2.06.94-2.06 2.06-.94-2.06-.94-.94-2.06-.94 2.06-2.06.94zm-11 1L8.5 8.5l.94-2.06 2.06-.94-2.06-.94L8.5 2.5l-.94 2.06-2.06.94zm10 10l.94 2.06.94-2.06 2.06-.94-2.06-.94-.94-2.06-.94 2.06-2.06.94z\"/><path d=\"M17.41 7.96l-1.37-1.37c-.4-.4-.92-.59-1.43-.59-.52 0-1.04.2-1.43.59L10.3 9.45l-7.72 7.72c-.78.78-.78 2.05 0 2.83L4 21.41c.39.39.9.59 1.41.59.51 0 1.02-.2 1.41-.59l7.78-7.78 2.81-2.81c.8-.78.8-2.07 0-2.86zM5.41 20L4 18.59l7.72-7.72 1.47 1.35L5.41 20z\"/>\n",
              "  </svg>\n",
              "      </button>\n",
              "      \n",
              "  <style>\n",
              "    .colab-df-container {\n",
              "      display:flex;\n",
              "      flex-wrap:wrap;\n",
              "      gap: 12px;\n",
              "    }\n",
              "\n",
              "    .colab-df-convert {\n",
              "      background-color: #E8F0FE;\n",
              "      border: none;\n",
              "      border-radius: 50%;\n",
              "      cursor: pointer;\n",
              "      display: none;\n",
              "      fill: #1967D2;\n",
              "      height: 32px;\n",
              "      padding: 0 0 0 0;\n",
              "      width: 32px;\n",
              "    }\n",
              "\n",
              "    .colab-df-convert:hover {\n",
              "      background-color: #E2EBFA;\n",
              "      box-shadow: 0px 1px 2px rgba(60, 64, 67, 0.3), 0px 1px 3px 1px rgba(60, 64, 67, 0.15);\n",
              "      fill: #174EA6;\n",
              "    }\n",
              "\n",
              "    [theme=dark] .colab-df-convert {\n",
              "      background-color: #3B4455;\n",
              "      fill: #D2E3FC;\n",
              "    }\n",
              "\n",
              "    [theme=dark] .colab-df-convert:hover {\n",
              "      background-color: #434B5C;\n",
              "      box-shadow: 0px 1px 3px 1px rgba(0, 0, 0, 0.15);\n",
              "      filter: drop-shadow(0px 1px 2px rgba(0, 0, 0, 0.3));\n",
              "      fill: #FFFFFF;\n",
              "    }\n",
              "  </style>\n",
              "\n",
              "      <script>\n",
              "        const buttonEl =\n",
              "          document.querySelector('#df-fecf39ee-e5f4-4286-8d0d-1c8631efd858 button.colab-df-convert');\n",
              "        buttonEl.style.display =\n",
              "          google.colab.kernel.accessAllowed ? 'block' : 'none';\n",
              "\n",
              "        async function convertToInteractive(key) {\n",
              "          const element = document.querySelector('#df-fecf39ee-e5f4-4286-8d0d-1c8631efd858');\n",
              "          const dataTable =\n",
              "            await google.colab.kernel.invokeFunction('convertToInteractive',\n",
              "                                                     [key], {});\n",
              "          if (!dataTable) return;\n",
              "\n",
              "          const docLinkHtml = 'Like what you see? Visit the ' +\n",
              "            '<a target=\"_blank\" href=https://colab.research.google.com/notebooks/data_table.ipynb>data table notebook</a>'\n",
              "            + ' to learn more about interactive tables.';\n",
              "          element.innerHTML = '';\n",
              "          dataTable['output_type'] = 'display_data';\n",
              "          await google.colab.output.renderOutput(dataTable, element);\n",
              "          const docLink = document.createElement('div');\n",
              "          docLink.innerHTML = docLinkHtml;\n",
              "          element.appendChild(docLink);\n",
              "        }\n",
              "      </script>\n",
              "    </div>\n",
              "  </div>\n",
              "  "
            ]
          },
          "metadata": {},
          "execution_count": 61
        }
      ]
    },
    {
      "cell_type": "code",
      "source": [
        "groupfinal = group.merge(group2, on='label', how='left')"
      ],
      "metadata": {
        "id": "tajV_-dA8A3A"
      },
      "execution_count": null,
      "outputs": []
    },
    {
      "cell_type": "code",
      "source": [
        "groupfinal.head()"
      ],
      "metadata": {
        "colab": {
          "base_uri": "https://localhost:8080/",
          "height": 206
        },
        "id": "31lntdaz82oQ",
        "outputId": "958f9924-4c8f-41b7-bee6-bab1958f6b6d"
      },
      "execution_count": null,
      "outputs": [
        {
          "output_type": "execute_result",
          "data": {
            "text/plain": [
              "   label                                               Body  \\\n",
              "0      0  Continental has a price of $297.17(non-refunda...   \n",
              "1      2  Please be advised that starting October 29th w...   \n",
              "2      3  Attached is the final notification report for ...   \n",
              "3      4   Subject: a married man left work A married ma...   \n",
              "4      5  Please open the attachment and send me your in...   \n",
              "\n",
              "                                           cleantext  \n",
              "0  lufthansa flies back to profit. german airline...  \n",
              "1  grilled shrimp tacos with avocadocorn salsa. i...  \n",
              "2  \\t\\t\\ttuesday june 22 1993. \\t    carderock di...  \n",
              "3  as soon as he learned about the existence of a...  \n",
              "4  i have a 42 yr old male friend misdiagnosed as...  "
            ],
            "text/html": [
              "\n",
              "  <div id=\"df-1734c048-5688-47a3-b8fd-ef4ef0643584\">\n",
              "    <div class=\"colab-df-container\">\n",
              "      <div>\n",
              "<style scoped>\n",
              "    .dataframe tbody tr th:only-of-type {\n",
              "        vertical-align: middle;\n",
              "    }\n",
              "\n",
              "    .dataframe tbody tr th {\n",
              "        vertical-align: top;\n",
              "    }\n",
              "\n",
              "    .dataframe thead th {\n",
              "        text-align: right;\n",
              "    }\n",
              "</style>\n",
              "<table border=\"1\" class=\"dataframe\">\n",
              "  <thead>\n",
              "    <tr style=\"text-align: right;\">\n",
              "      <th></th>\n",
              "      <th>label</th>\n",
              "      <th>Body</th>\n",
              "      <th>cleantext</th>\n",
              "    </tr>\n",
              "  </thead>\n",
              "  <tbody>\n",
              "    <tr>\n",
              "      <th>0</th>\n",
              "      <td>0</td>\n",
              "      <td>Continental has a price of $297.17(non-refunda...</td>\n",
              "      <td>lufthansa flies back to profit. german airline...</td>\n",
              "    </tr>\n",
              "    <tr>\n",
              "      <th>1</th>\n",
              "      <td>2</td>\n",
              "      <td>Please be advised that starting October 29th w...</td>\n",
              "      <td>grilled shrimp tacos with avocadocorn salsa. i...</td>\n",
              "    </tr>\n",
              "    <tr>\n",
              "      <th>2</th>\n",
              "      <td>3</td>\n",
              "      <td>Attached is the final notification report for ...</td>\n",
              "      <td>\\t\\t\\ttuesday june 22 1993. \\t    carderock di...</td>\n",
              "    </tr>\n",
              "    <tr>\n",
              "      <th>3</th>\n",
              "      <td>4</td>\n",
              "      <td>Subject: a married man left work A married ma...</td>\n",
              "      <td>as soon as he learned about the existence of a...</td>\n",
              "    </tr>\n",
              "    <tr>\n",
              "      <th>4</th>\n",
              "      <td>5</td>\n",
              "      <td>Please open the attachment and send me your in...</td>\n",
              "      <td>i have a 42 yr old male friend misdiagnosed as...</td>\n",
              "    </tr>\n",
              "  </tbody>\n",
              "</table>\n",
              "</div>\n",
              "      <button class=\"colab-df-convert\" onclick=\"convertToInteractive('df-1734c048-5688-47a3-b8fd-ef4ef0643584')\"\n",
              "              title=\"Convert this dataframe to an interactive table.\"\n",
              "              style=\"display:none;\">\n",
              "        \n",
              "  <svg xmlns=\"http://www.w3.org/2000/svg\" height=\"24px\"viewBox=\"0 0 24 24\"\n",
              "       width=\"24px\">\n",
              "    <path d=\"M0 0h24v24H0V0z\" fill=\"none\"/>\n",
              "    <path d=\"M18.56 5.44l.94 2.06.94-2.06 2.06-.94-2.06-.94-.94-2.06-.94 2.06-2.06.94zm-11 1L8.5 8.5l.94-2.06 2.06-.94-2.06-.94L8.5 2.5l-.94 2.06-2.06.94zm10 10l.94 2.06.94-2.06 2.06-.94-2.06-.94-.94-2.06-.94 2.06-2.06.94z\"/><path d=\"M17.41 7.96l-1.37-1.37c-.4-.4-.92-.59-1.43-.59-.52 0-1.04.2-1.43.59L10.3 9.45l-7.72 7.72c-.78.78-.78 2.05 0 2.83L4 21.41c.39.39.9.59 1.41.59.51 0 1.02-.2 1.41-.59l7.78-7.78 2.81-2.81c.8-.78.8-2.07 0-2.86zM5.41 20L4 18.59l7.72-7.72 1.47 1.35L5.41 20z\"/>\n",
              "  </svg>\n",
              "      </button>\n",
              "      \n",
              "  <style>\n",
              "    .colab-df-container {\n",
              "      display:flex;\n",
              "      flex-wrap:wrap;\n",
              "      gap: 12px;\n",
              "    }\n",
              "\n",
              "    .colab-df-convert {\n",
              "      background-color: #E8F0FE;\n",
              "      border: none;\n",
              "      border-radius: 50%;\n",
              "      cursor: pointer;\n",
              "      display: none;\n",
              "      fill: #1967D2;\n",
              "      height: 32px;\n",
              "      padding: 0 0 0 0;\n",
              "      width: 32px;\n",
              "    }\n",
              "\n",
              "    .colab-df-convert:hover {\n",
              "      background-color: #E2EBFA;\n",
              "      box-shadow: 0px 1px 2px rgba(60, 64, 67, 0.3), 0px 1px 3px 1px rgba(60, 64, 67, 0.15);\n",
              "      fill: #174EA6;\n",
              "    }\n",
              "\n",
              "    [theme=dark] .colab-df-convert {\n",
              "      background-color: #3B4455;\n",
              "      fill: #D2E3FC;\n",
              "    }\n",
              "\n",
              "    [theme=dark] .colab-df-convert:hover {\n",
              "      background-color: #434B5C;\n",
              "      box-shadow: 0px 1px 3px 1px rgba(0, 0, 0, 0.15);\n",
              "      filter: drop-shadow(0px 1px 2px rgba(0, 0, 0, 0.3));\n",
              "      fill: #FFFFFF;\n",
              "    }\n",
              "  </style>\n",
              "\n",
              "      <script>\n",
              "        const buttonEl =\n",
              "          document.querySelector('#df-1734c048-5688-47a3-b8fd-ef4ef0643584 button.colab-df-convert');\n",
              "        buttonEl.style.display =\n",
              "          google.colab.kernel.accessAllowed ? 'block' : 'none';\n",
              "\n",
              "        async function convertToInteractive(key) {\n",
              "          const element = document.querySelector('#df-1734c048-5688-47a3-b8fd-ef4ef0643584');\n",
              "          const dataTable =\n",
              "            await google.colab.kernel.invokeFunction('convertToInteractive',\n",
              "                                                     [key], {});\n",
              "          if (!dataTable) return;\n",
              "\n",
              "          const docLinkHtml = 'Like what you see? Visit the ' +\n",
              "            '<a target=\"_blank\" href=https://colab.research.google.com/notebooks/data_table.ipynb>data table notebook</a>'\n",
              "            + ' to learn more about interactive tables.';\n",
              "          element.innerHTML = '';\n",
              "          dataTable['output_type'] = 'display_data';\n",
              "          await google.colab.output.renderOutput(dataTable, element);\n",
              "          const docLink = document.createElement('div');\n",
              "          docLink.innerHTML = docLinkHtml;\n",
              "          element.appendChild(docLink);\n",
              "        }\n",
              "      </script>\n",
              "    </div>\n",
              "  </div>\n",
              "  "
            ]
          },
          "metadata": {},
          "execution_count": 77
        }
      ]
    },
    {
      "cell_type": "code",
      "source": [
        "import nltk\n",
        "nltk.download('stopwords')\n",
        "from nltk.cluster.util import cosine_distance"
      ],
      "metadata": {
        "colab": {
          "base_uri": "https://localhost:8080/"
        },
        "id": "FkM8h1fa9bm4",
        "outputId": "f3d64286-3546-423e-e2c0-4dd2855ee471"
      },
      "execution_count": null,
      "outputs": [
        {
          "output_type": "stream",
          "name": "stderr",
          "text": [
            "[nltk_data] Downloading package stopwords to /root/nltk_data...\n",
            "[nltk_data]   Package stopwords is already up-to-date!\n"
          ]
        }
      ]
    },
    {
      "cell_type": "code",
      "source": [
        "def sentence_similarity(sent1, sent2, stopwords = None):\n",
        "  if stopwords is None:\n",
        "    stopwords = []\n",
        "  sent1 = [w.lower() for w in sent1]\n",
        "  sent2 = [w.lower() for w in sent2]\n",
        "  all_words = list(set(sent1 + sent2))\n",
        "\n",
        "  vector1 = [0] * len(all_words)\n",
        "  vector2 = [0] *len(all_words)\n",
        "\n",
        "  for w in sent1:\n",
        "    if w in stopwords:\n",
        "      continue\n",
        "    vector1[all_words.index(w)] += 1\n",
        "\n",
        "  for w in sent2:\n",
        "    if w in stopwords:\n",
        "      continue\n",
        "    vector2[all_words.index(w)] += 1    \n",
        "\n",
        "  return 1 - cosine_distance(vector1,vector2)"
      ],
      "metadata": {
        "id": "XR6BXLOY85I4"
      },
      "execution_count": null,
      "outputs": []
    },
    {
      "cell_type": "code",
      "source": [
        "groupfinal['similarity'] = groupfinal.apply(lambda x : sentence_similarity(x['cleantext'],x['Body']), axis=1)"
      ],
      "metadata": {
        "id": "i6EdzsHU9Jo0"
      },
      "execution_count": null,
      "outputs": []
    },
    {
      "cell_type": "code",
      "source": [
        "groupfinal"
      ],
      "metadata": {
        "colab": {
          "base_uri": "https://localhost:8080/",
          "height": 332
        },
        "id": "urJJLfy395jT",
        "outputId": "daa74faa-5ae6-4981-f2ab-7461eddc4bfa"
      },
      "execution_count": null,
      "outputs": [
        {
          "output_type": "execute_result",
          "data": {
            "text/plain": [
              "   label                                               Body  \\\n",
              "0      0  Continental has a price of $297.17(non-refunda...   \n",
              "1      2  Please be advised that starting October 29th w...   \n",
              "2      3  Attached is the final notification report for ...   \n",
              "3      4   Subject: a married man left work A married ma...   \n",
              "4      5  Please open the attachment and send me your in...   \n",
              "5      6   We've been notified by Building Security that...   \n",
              "6      7   FYI ,Hey Homey, I really do need to leave at ...   \n",
              "7      8  Good Morning - Hope your are doing well in all...   \n",
              "8      9  We are going to try to get to the point of upl...   \n",
              "\n",
              "                                           cleantext  similarity  \n",
              "0  lufthansa flies back to profit. german airline...    0.997038  \n",
              "1  grilled shrimp tacos with avocadocorn salsa. i...    0.983928  \n",
              "2  \\t\\t\\ttuesday june 22 1993. \\t    carderock di...    0.989315  \n",
              "3  as soon as he learned about the existence of a...    0.978923  \n",
              "4  i have a 42 yr old male friend misdiagnosed as...    0.978336  \n",
              "5  labour plans maternity pay rise. maternity pay...    0.977856  \n",
              "6  in article c4kvjf.4qowell.sf.ca.us metareswell...    0.989972  \n",
              "7  claxton hunting first major medal. british hur...    0.989715  \n",
              "8  the arizona attorney general ag mark brnovich ...    0.987795  "
            ],
            "text/html": [
              "\n",
              "  <div id=\"df-213f1f48-95fd-4bae-baf7-0e291bf8b4ad\">\n",
              "    <div class=\"colab-df-container\">\n",
              "      <div>\n",
              "<style scoped>\n",
              "    .dataframe tbody tr th:only-of-type {\n",
              "        vertical-align: middle;\n",
              "    }\n",
              "\n",
              "    .dataframe tbody tr th {\n",
              "        vertical-align: top;\n",
              "    }\n",
              "\n",
              "    .dataframe thead th {\n",
              "        text-align: right;\n",
              "    }\n",
              "</style>\n",
              "<table border=\"1\" class=\"dataframe\">\n",
              "  <thead>\n",
              "    <tr style=\"text-align: right;\">\n",
              "      <th></th>\n",
              "      <th>label</th>\n",
              "      <th>Body</th>\n",
              "      <th>cleantext</th>\n",
              "      <th>similarity</th>\n",
              "    </tr>\n",
              "  </thead>\n",
              "  <tbody>\n",
              "    <tr>\n",
              "      <th>0</th>\n",
              "      <td>0</td>\n",
              "      <td>Continental has a price of $297.17(non-refunda...</td>\n",
              "      <td>lufthansa flies back to profit. german airline...</td>\n",
              "      <td>0.997038</td>\n",
              "    </tr>\n",
              "    <tr>\n",
              "      <th>1</th>\n",
              "      <td>2</td>\n",
              "      <td>Please be advised that starting October 29th w...</td>\n",
              "      <td>grilled shrimp tacos with avocadocorn salsa. i...</td>\n",
              "      <td>0.983928</td>\n",
              "    </tr>\n",
              "    <tr>\n",
              "      <th>2</th>\n",
              "      <td>3</td>\n",
              "      <td>Attached is the final notification report for ...</td>\n",
              "      <td>\\t\\t\\ttuesday june 22 1993. \\t    carderock di...</td>\n",
              "      <td>0.989315</td>\n",
              "    </tr>\n",
              "    <tr>\n",
              "      <th>3</th>\n",
              "      <td>4</td>\n",
              "      <td>Subject: a married man left work A married ma...</td>\n",
              "      <td>as soon as he learned about the existence of a...</td>\n",
              "      <td>0.978923</td>\n",
              "    </tr>\n",
              "    <tr>\n",
              "      <th>4</th>\n",
              "      <td>5</td>\n",
              "      <td>Please open the attachment and send me your in...</td>\n",
              "      <td>i have a 42 yr old male friend misdiagnosed as...</td>\n",
              "      <td>0.978336</td>\n",
              "    </tr>\n",
              "    <tr>\n",
              "      <th>5</th>\n",
              "      <td>6</td>\n",
              "      <td>We've been notified by Building Security that...</td>\n",
              "      <td>labour plans maternity pay rise. maternity pay...</td>\n",
              "      <td>0.977856</td>\n",
              "    </tr>\n",
              "    <tr>\n",
              "      <th>6</th>\n",
              "      <td>7</td>\n",
              "      <td>FYI ,Hey Homey, I really do need to leave at ...</td>\n",
              "      <td>in article c4kvjf.4qowell.sf.ca.us metareswell...</td>\n",
              "      <td>0.989972</td>\n",
              "    </tr>\n",
              "    <tr>\n",
              "      <th>7</th>\n",
              "      <td>8</td>\n",
              "      <td>Good Morning - Hope your are doing well in all...</td>\n",
              "      <td>claxton hunting first major medal. british hur...</td>\n",
              "      <td>0.989715</td>\n",
              "    </tr>\n",
              "    <tr>\n",
              "      <th>8</th>\n",
              "      <td>9</td>\n",
              "      <td>We are going to try to get to the point of upl...</td>\n",
              "      <td>the arizona attorney general ag mark brnovich ...</td>\n",
              "      <td>0.987795</td>\n",
              "    </tr>\n",
              "  </tbody>\n",
              "</table>\n",
              "</div>\n",
              "      <button class=\"colab-df-convert\" onclick=\"convertToInteractive('df-213f1f48-95fd-4bae-baf7-0e291bf8b4ad')\"\n",
              "              title=\"Convert this dataframe to an interactive table.\"\n",
              "              style=\"display:none;\">\n",
              "        \n",
              "  <svg xmlns=\"http://www.w3.org/2000/svg\" height=\"24px\"viewBox=\"0 0 24 24\"\n",
              "       width=\"24px\">\n",
              "    <path d=\"M0 0h24v24H0V0z\" fill=\"none\"/>\n",
              "    <path d=\"M18.56 5.44l.94 2.06.94-2.06 2.06-.94-2.06-.94-.94-2.06-.94 2.06-2.06.94zm-11 1L8.5 8.5l.94-2.06 2.06-.94-2.06-.94L8.5 2.5l-.94 2.06-2.06.94zm10 10l.94 2.06.94-2.06 2.06-.94-2.06-.94-.94-2.06-.94 2.06-2.06.94z\"/><path d=\"M17.41 7.96l-1.37-1.37c-.4-.4-.92-.59-1.43-.59-.52 0-1.04.2-1.43.59L10.3 9.45l-7.72 7.72c-.78.78-.78 2.05 0 2.83L4 21.41c.39.39.9.59 1.41.59.51 0 1.02-.2 1.41-.59l7.78-7.78 2.81-2.81c.8-.78.8-2.07 0-2.86zM5.41 20L4 18.59l7.72-7.72 1.47 1.35L5.41 20z\"/>\n",
              "  </svg>\n",
              "      </button>\n",
              "      \n",
              "  <style>\n",
              "    .colab-df-container {\n",
              "      display:flex;\n",
              "      flex-wrap:wrap;\n",
              "      gap: 12px;\n",
              "    }\n",
              "\n",
              "    .colab-df-convert {\n",
              "      background-color: #E8F0FE;\n",
              "      border: none;\n",
              "      border-radius: 50%;\n",
              "      cursor: pointer;\n",
              "      display: none;\n",
              "      fill: #1967D2;\n",
              "      height: 32px;\n",
              "      padding: 0 0 0 0;\n",
              "      width: 32px;\n",
              "    }\n",
              "\n",
              "    .colab-df-convert:hover {\n",
              "      background-color: #E2EBFA;\n",
              "      box-shadow: 0px 1px 2px rgba(60, 64, 67, 0.3), 0px 1px 3px 1px rgba(60, 64, 67, 0.15);\n",
              "      fill: #174EA6;\n",
              "    }\n",
              "\n",
              "    [theme=dark] .colab-df-convert {\n",
              "      background-color: #3B4455;\n",
              "      fill: #D2E3FC;\n",
              "    }\n",
              "\n",
              "    [theme=dark] .colab-df-convert:hover {\n",
              "      background-color: #434B5C;\n",
              "      box-shadow: 0px 1px 3px 1px rgba(0, 0, 0, 0.15);\n",
              "      filter: drop-shadow(0px 1px 2px rgba(0, 0, 0, 0.3));\n",
              "      fill: #FFFFFF;\n",
              "    }\n",
              "  </style>\n",
              "\n",
              "      <script>\n",
              "        const buttonEl =\n",
              "          document.querySelector('#df-213f1f48-95fd-4bae-baf7-0e291bf8b4ad button.colab-df-convert');\n",
              "        buttonEl.style.display =\n",
              "          google.colab.kernel.accessAllowed ? 'block' : 'none';\n",
              "\n",
              "        async function convertToInteractive(key) {\n",
              "          const element = document.querySelector('#df-213f1f48-95fd-4bae-baf7-0e291bf8b4ad');\n",
              "          const dataTable =\n",
              "            await google.colab.kernel.invokeFunction('convertToInteractive',\n",
              "                                                     [key], {});\n",
              "          if (!dataTable) return;\n",
              "\n",
              "          const docLinkHtml = 'Like what you see? Visit the ' +\n",
              "            '<a target=\"_blank\" href=https://colab.research.google.com/notebooks/data_table.ipynb>data table notebook</a>'\n",
              "            + ' to learn more about interactive tables.';\n",
              "          element.innerHTML = '';\n",
              "          dataTable['output_type'] = 'display_data';\n",
              "          await google.colab.output.renderOutput(dataTable, element);\n",
              "          const docLink = document.createElement('div');\n",
              "          docLink.innerHTML = docLinkHtml;\n",
              "          element.appendChild(docLink);\n",
              "        }\n",
              "      </script>\n",
              "    </div>\n",
              "  </div>\n",
              "  "
            ]
          },
          "metadata": {},
          "execution_count": 81
        }
      ]
    },
    {
      "cell_type": "code",
      "source": [
        "groupfinal['category'] = groupfinal['label'].map(lambda x : dict1[x])"
      ],
      "metadata": {
        "id": "SmROp1C__Ik2"
      },
      "execution_count": null,
      "outputs": []
    },
    {
      "cell_type": "code",
      "source": [
        "groupfinal"
      ],
      "metadata": {
        "colab": {
          "base_uri": "https://localhost:8080/",
          "height": 332
        },
        "id": "-mNHe5im_UVr",
        "outputId": "0ee3b1a0-9619-4a69-d4d3-ef3dc7297fbd"
      },
      "execution_count": null,
      "outputs": [
        {
          "output_type": "execute_result",
          "data": {
            "text/plain": [
              "   label                                               Body  \\\n",
              "0      0  Continental has a price of $297.17(non-refunda...   \n",
              "1      2  Please be advised that starting October 29th w...   \n",
              "2      3  Attached is the final notification report for ...   \n",
              "3      4   Subject: a married man left work A married ma...   \n",
              "4      5  Please open the attachment and send me your in...   \n",
              "5      6   We've been notified by Building Security that...   \n",
              "6      7   FYI ,Hey Homey, I really do need to leave at ...   \n",
              "7      8  Good Morning - Hope your are doing well in all...   \n",
              "8      9  We are going to try to get to the point of upl...   \n",
              "\n",
              "                                           cleantext  similarity     category  \n",
              "0  lufthansa flies back to profit. german airline...    0.997038     business  \n",
              "1  grilled shrimp tacos with avocadocorn salsa. i...    0.983928         food  \n",
              "2  \\t\\t\\ttuesday june 22 1993. \\t    carderock di...    0.989315     graphics  \n",
              "3  as soon as he learned about the existence of a...    0.978923   historical  \n",
              "4  i have a 42 yr old male friend misdiagnosed as...    0.978336      medical  \n",
              "5  labour plans maternity pay rise. maternity pay...    0.977856     politics  \n",
              "6  in article c4kvjf.4qowell.sf.ca.us metareswell...    0.989972        space  \n",
              "7  claxton hunting first major medal. british hur...    0.989715        sport  \n",
              "8  the arizona attorney general ag mark brnovich ...    0.987795  technologie  "
            ],
            "text/html": [
              "\n",
              "  <div id=\"df-d92daf4b-84ba-4dd6-bab8-e3037fe0857e\">\n",
              "    <div class=\"colab-df-container\">\n",
              "      <div>\n",
              "<style scoped>\n",
              "    .dataframe tbody tr th:only-of-type {\n",
              "        vertical-align: middle;\n",
              "    }\n",
              "\n",
              "    .dataframe tbody tr th {\n",
              "        vertical-align: top;\n",
              "    }\n",
              "\n",
              "    .dataframe thead th {\n",
              "        text-align: right;\n",
              "    }\n",
              "</style>\n",
              "<table border=\"1\" class=\"dataframe\">\n",
              "  <thead>\n",
              "    <tr style=\"text-align: right;\">\n",
              "      <th></th>\n",
              "      <th>label</th>\n",
              "      <th>Body</th>\n",
              "      <th>cleantext</th>\n",
              "      <th>similarity</th>\n",
              "      <th>category</th>\n",
              "    </tr>\n",
              "  </thead>\n",
              "  <tbody>\n",
              "    <tr>\n",
              "      <th>0</th>\n",
              "      <td>0</td>\n",
              "      <td>Continental has a price of $297.17(non-refunda...</td>\n",
              "      <td>lufthansa flies back to profit. german airline...</td>\n",
              "      <td>0.997038</td>\n",
              "      <td>business</td>\n",
              "    </tr>\n",
              "    <tr>\n",
              "      <th>1</th>\n",
              "      <td>2</td>\n",
              "      <td>Please be advised that starting October 29th w...</td>\n",
              "      <td>grilled shrimp tacos with avocadocorn salsa. i...</td>\n",
              "      <td>0.983928</td>\n",
              "      <td>food</td>\n",
              "    </tr>\n",
              "    <tr>\n",
              "      <th>2</th>\n",
              "      <td>3</td>\n",
              "      <td>Attached is the final notification report for ...</td>\n",
              "      <td>\\t\\t\\ttuesday june 22 1993. \\t    carderock di...</td>\n",
              "      <td>0.989315</td>\n",
              "      <td>graphics</td>\n",
              "    </tr>\n",
              "    <tr>\n",
              "      <th>3</th>\n",
              "      <td>4</td>\n",
              "      <td>Subject: a married man left work A married ma...</td>\n",
              "      <td>as soon as he learned about the existence of a...</td>\n",
              "      <td>0.978923</td>\n",
              "      <td>historical</td>\n",
              "    </tr>\n",
              "    <tr>\n",
              "      <th>4</th>\n",
              "      <td>5</td>\n",
              "      <td>Please open the attachment and send me your in...</td>\n",
              "      <td>i have a 42 yr old male friend misdiagnosed as...</td>\n",
              "      <td>0.978336</td>\n",
              "      <td>medical</td>\n",
              "    </tr>\n",
              "    <tr>\n",
              "      <th>5</th>\n",
              "      <td>6</td>\n",
              "      <td>We've been notified by Building Security that...</td>\n",
              "      <td>labour plans maternity pay rise. maternity pay...</td>\n",
              "      <td>0.977856</td>\n",
              "      <td>politics</td>\n",
              "    </tr>\n",
              "    <tr>\n",
              "      <th>6</th>\n",
              "      <td>7</td>\n",
              "      <td>FYI ,Hey Homey, I really do need to leave at ...</td>\n",
              "      <td>in article c4kvjf.4qowell.sf.ca.us metareswell...</td>\n",
              "      <td>0.989972</td>\n",
              "      <td>space</td>\n",
              "    </tr>\n",
              "    <tr>\n",
              "      <th>7</th>\n",
              "      <td>8</td>\n",
              "      <td>Good Morning - Hope your are doing well in all...</td>\n",
              "      <td>claxton hunting first major medal. british hur...</td>\n",
              "      <td>0.989715</td>\n",
              "      <td>sport</td>\n",
              "    </tr>\n",
              "    <tr>\n",
              "      <th>8</th>\n",
              "      <td>9</td>\n",
              "      <td>We are going to try to get to the point of upl...</td>\n",
              "      <td>the arizona attorney general ag mark brnovich ...</td>\n",
              "      <td>0.987795</td>\n",
              "      <td>technologie</td>\n",
              "    </tr>\n",
              "  </tbody>\n",
              "</table>\n",
              "</div>\n",
              "      <button class=\"colab-df-convert\" onclick=\"convertToInteractive('df-d92daf4b-84ba-4dd6-bab8-e3037fe0857e')\"\n",
              "              title=\"Convert this dataframe to an interactive table.\"\n",
              "              style=\"display:none;\">\n",
              "        \n",
              "  <svg xmlns=\"http://www.w3.org/2000/svg\" height=\"24px\"viewBox=\"0 0 24 24\"\n",
              "       width=\"24px\">\n",
              "    <path d=\"M0 0h24v24H0V0z\" fill=\"none\"/>\n",
              "    <path d=\"M18.56 5.44l.94 2.06.94-2.06 2.06-.94-2.06-.94-.94-2.06-.94 2.06-2.06.94zm-11 1L8.5 8.5l.94-2.06 2.06-.94-2.06-.94L8.5 2.5l-.94 2.06-2.06.94zm10 10l.94 2.06.94-2.06 2.06-.94-2.06-.94-.94-2.06-.94 2.06-2.06.94z\"/><path d=\"M17.41 7.96l-1.37-1.37c-.4-.4-.92-.59-1.43-.59-.52 0-1.04.2-1.43.59L10.3 9.45l-7.72 7.72c-.78.78-.78 2.05 0 2.83L4 21.41c.39.39.9.59 1.41.59.51 0 1.02-.2 1.41-.59l7.78-7.78 2.81-2.81c.8-.78.8-2.07 0-2.86zM5.41 20L4 18.59l7.72-7.72 1.47 1.35L5.41 20z\"/>\n",
              "  </svg>\n",
              "      </button>\n",
              "      \n",
              "  <style>\n",
              "    .colab-df-container {\n",
              "      display:flex;\n",
              "      flex-wrap:wrap;\n",
              "      gap: 12px;\n",
              "    }\n",
              "\n",
              "    .colab-df-convert {\n",
              "      background-color: #E8F0FE;\n",
              "      border: none;\n",
              "      border-radius: 50%;\n",
              "      cursor: pointer;\n",
              "      display: none;\n",
              "      fill: #1967D2;\n",
              "      height: 32px;\n",
              "      padding: 0 0 0 0;\n",
              "      width: 32px;\n",
              "    }\n",
              "\n",
              "    .colab-df-convert:hover {\n",
              "      background-color: #E2EBFA;\n",
              "      box-shadow: 0px 1px 2px rgba(60, 64, 67, 0.3), 0px 1px 3px 1px rgba(60, 64, 67, 0.15);\n",
              "      fill: #174EA6;\n",
              "    }\n",
              "\n",
              "    [theme=dark] .colab-df-convert {\n",
              "      background-color: #3B4455;\n",
              "      fill: #D2E3FC;\n",
              "    }\n",
              "\n",
              "    [theme=dark] .colab-df-convert:hover {\n",
              "      background-color: #434B5C;\n",
              "      box-shadow: 0px 1px 3px 1px rgba(0, 0, 0, 0.15);\n",
              "      filter: drop-shadow(0px 1px 2px rgba(0, 0, 0, 0.3));\n",
              "      fill: #FFFFFF;\n",
              "    }\n",
              "  </style>\n",
              "\n",
              "      <script>\n",
              "        const buttonEl =\n",
              "          document.querySelector('#df-d92daf4b-84ba-4dd6-bab8-e3037fe0857e button.colab-df-convert');\n",
              "        buttonEl.style.display =\n",
              "          google.colab.kernel.accessAllowed ? 'block' : 'none';\n",
              "\n",
              "        async function convertToInteractive(key) {\n",
              "          const element = document.querySelector('#df-d92daf4b-84ba-4dd6-bab8-e3037fe0857e');\n",
              "          const dataTable =\n",
              "            await google.colab.kernel.invokeFunction('convertToInteractive',\n",
              "                                                     [key], {});\n",
              "          if (!dataTable) return;\n",
              "\n",
              "          const docLinkHtml = 'Like what you see? Visit the ' +\n",
              "            '<a target=\"_blank\" href=https://colab.research.google.com/notebooks/data_table.ipynb>data table notebook</a>'\n",
              "            + ' to learn more about interactive tables.';\n",
              "          element.innerHTML = '';\n",
              "          dataTable['output_type'] = 'display_data';\n",
              "          await google.colab.output.renderOutput(dataTable, element);\n",
              "          const docLink = document.createElement('div');\n",
              "          docLink.innerHTML = docLinkHtml;\n",
              "          element.appendChild(docLink);\n",
              "        }\n",
              "      </script>\n",
              "    </div>\n",
              "  </div>\n",
              "  "
            ]
          },
          "metadata": {},
          "execution_count": 83
        }
      ]
    },
    {
      "cell_type": "markdown",
      "source": [
        "# **Making a deeper model**"
      ],
      "metadata": {
        "id": "vYgTZkv6tFI0"
      }
    },
    {
      "cell_type": "code",
      "source": [
        "# design the neural network model\n",
        "model2ddeep = keras.Sequential()\n",
        "model2ddeep.add(layers.Dense(768, activation='relu',input_shape=(128,768)))\n",
        "model2ddeep.add(layers.Dense(768, activation='relu',input_shape=(128,768)))\n",
        "model2ddeep.add(layers.Flatten())\n",
        "model2ddeep.add(layers.Dense(10,activation=tf.nn.softmax))\n",
        "#model2d.build(input_shape=(128,768))"
      ],
      "metadata": {
        "id": "8m19sMdDtD21"
      },
      "execution_count": null,
      "outputs": []
    },
    {
      "cell_type": "code",
      "source": [
        "model2ddeep.summary()"
      ],
      "metadata": {
        "colab": {
          "base_uri": "https://localhost:8080/"
        },
        "outputId": "574db9d9-8eb9-43ec-edf9-610635b556b3",
        "id": "fLh9drjStD22"
      },
      "execution_count": null,
      "outputs": [
        {
          "output_type": "stream",
          "name": "stdout",
          "text": [
            "Model: \"sequential_10\"\n",
            "_________________________________________________________________\n",
            " Layer (type)                Output Shape              Param #   \n",
            "=================================================================\n",
            " dense_25 (Dense)            (None, 128, 768)          590592    \n",
            "                                                                 \n",
            " dense_26 (Dense)            (None, 128, 768)          590592    \n",
            "                                                                 \n",
            " flatten_3 (Flatten)         (None, 98304)             0         \n",
            "                                                                 \n",
            " dense_27 (Dense)            (None, 10)                983050    \n",
            "                                                                 \n",
            "=================================================================\n",
            "Total params: 2,164,234\n",
            "Trainable params: 2,164,234\n",
            "Non-trainable params: 0\n",
            "_________________________________________________________________\n"
          ]
        }
      ]
    },
    {
      "cell_type": "code",
      "source": [
        "#Defining metrics for model evaluation\n",
        "model2ddeep.compile(loss='sparse_categorical_crossentropy', optimizer='adam',metrics=['accuracy'])"
      ],
      "metadata": {
        "id": "urTsVGdCtD22"
      },
      "execution_count": null,
      "outputs": []
    },
    {
      "cell_type": "code",
      "source": [
        "#Model fitting and generating names\n",
        "model2ddeep.fit(x = X_train3, y = y_train3, epochs=10, verbose=1)"
      ],
      "metadata": {
        "colab": {
          "base_uri": "https://localhost:8080/"
        },
        "outputId": "575d9079-fabf-4441-dd7a-5c2a972d5ac7",
        "id": "KYr6jZJXtD22"
      },
      "execution_count": null,
      "outputs": [
        {
          "output_type": "stream",
          "name": "stdout",
          "text": [
            "Epoch 1/10\n",
            "25/25 [==============================] - 11s 435ms/step - loss: 2.4193 - accuracy: 0.4250\n",
            "Epoch 2/10\n",
            "25/25 [==============================] - 11s 434ms/step - loss: 0.1652 - accuracy: 0.9433\n",
            "Epoch 3/10\n",
            "25/25 [==============================] - 11s 433ms/step - loss: 0.0401 - accuracy: 0.9912\n",
            "Epoch 4/10\n",
            "25/25 [==============================] - 11s 434ms/step - loss: 0.0358 - accuracy: 0.9887\n",
            "Epoch 5/10\n",
            "25/25 [==============================] - 11s 436ms/step - loss: 0.0179 - accuracy: 0.9950\n",
            "Epoch 6/10\n",
            "25/25 [==============================] - 11s 436ms/step - loss: 0.0031 - accuracy: 1.0000\n",
            "Epoch 7/10\n",
            "25/25 [==============================] - 11s 434ms/step - loss: 6.8069e-04 - accuracy: 1.0000\n",
            "Epoch 8/10\n",
            "25/25 [==============================] - 11s 434ms/step - loss: 3.6773e-04 - accuracy: 1.0000\n",
            "Epoch 9/10\n",
            "25/25 [==============================] - 11s 435ms/step - loss: 2.8099e-04 - accuracy: 1.0000\n",
            "Epoch 10/10\n",
            "25/25 [==============================] - 12s 501ms/step - loss: 2.3020e-04 - accuracy: 1.0000\n"
          ]
        },
        {
          "output_type": "execute_result",
          "data": {
            "text/plain": [
              "<keras.callbacks.History at 0x7f655fd42110>"
            ]
          },
          "metadata": {},
          "execution_count": 83
        }
      ]
    },
    {
      "cell_type": "code",
      "source": [
        "model2ddeep.evaluate(X_test3, y_test3)"
      ],
      "metadata": {
        "colab": {
          "base_uri": "https://localhost:8080/"
        },
        "outputId": "1493a5ae-95e4-400a-902f-6297102d1b43",
        "id": "32KFHl4ttD22"
      },
      "execution_count": null,
      "outputs": [
        {
          "output_type": "stream",
          "name": "stdout",
          "text": [
            "7/7 [==============================] - 1s 153ms/step - loss: 0.1745 - accuracy: 0.9447\n"
          ]
        },
        {
          "output_type": "execute_result",
          "data": {
            "text/plain": [
              "[0.17449277639389038, 0.9447236061096191]"
            ]
          },
          "metadata": {},
          "execution_count": 84
        }
      ]
    },
    {
      "cell_type": "code",
      "source": [],
      "metadata": {
        "id": "kTT4az_6t4Zc"
      },
      "execution_count": null,
      "outputs": []
    },
    {
      "cell_type": "markdown",
      "source": [
        "# **Adding dropout to a deeper model**"
      ],
      "metadata": {
        "id": "x6n5W3HjvnVd"
      }
    },
    {
      "cell_type": "code",
      "source": [
        "# design the neural network model\n",
        "model2ddeep2 = keras.Sequential()\n",
        "model2ddeep2.add(layers.Dense(768, activation='relu',input_shape=(128,768)))\n",
        "model2ddeep2.add(layers.Dropout(0.1, name=\"dropout1\"))\n",
        "model2ddeep2.add(layers.Dense(768, activation='relu',input_shape=(128,768)))\n",
        "model2ddeep2.add(layers.Dropout(0.1, name=\"dropout2\"))\n",
        "model2ddeep2.add(layers.Flatten())\n",
        "model2ddeep2.add(layers.Dense(10,activation=tf.nn.softmax))\n",
        "#model2d.build(input_shape=(128,768))"
      ],
      "metadata": {
        "id": "wI5y3CgpvnVe"
      },
      "execution_count": null,
      "outputs": []
    },
    {
      "cell_type": "code",
      "source": [
        "model2ddeep2.summary()"
      ],
      "metadata": {
        "colab": {
          "base_uri": "https://localhost:8080/"
        },
        "outputId": "ac07745b-6209-4dcf-cd9f-1bf0e6ca3cae",
        "id": "r7iTourmvnVe"
      },
      "execution_count": null,
      "outputs": [
        {
          "output_type": "stream",
          "name": "stdout",
          "text": [
            "Model: \"sequential_11\"\n",
            "_________________________________________________________________\n",
            " Layer (type)                Output Shape              Param #   \n",
            "=================================================================\n",
            " dense_28 (Dense)            (None, 128, 768)          590592    \n",
            "                                                                 \n",
            " dropout1 (Dropout)          (None, 128, 768)          0         \n",
            "                                                                 \n",
            " dense_29 (Dense)            (None, 128, 768)          590592    \n",
            "                                                                 \n",
            " dropout2 (Dropout)          (None, 128, 768)          0         \n",
            "                                                                 \n",
            " flatten_4 (Flatten)         (None, 98304)             0         \n",
            "                                                                 \n",
            " dense_30 (Dense)            (None, 10)                983050    \n",
            "                                                                 \n",
            "=================================================================\n",
            "Total params: 2,164,234\n",
            "Trainable params: 2,164,234\n",
            "Non-trainable params: 0\n",
            "_________________________________________________________________\n"
          ]
        }
      ]
    },
    {
      "cell_type": "code",
      "source": [
        "#Defining metrics for model evaluation\n",
        "model2ddeep2.compile(loss='sparse_categorical_crossentropy', optimizer='adam',metrics=['accuracy'])"
      ],
      "metadata": {
        "id": "5yoa9a9IvnVe"
      },
      "execution_count": null,
      "outputs": []
    },
    {
      "cell_type": "code",
      "source": [
        "#Model fitting and generating names\n",
        "model2ddeep2.fit(x = X_train3, y = y_train3, epochs=10, verbose=1)"
      ],
      "metadata": {
        "colab": {
          "base_uri": "https://localhost:8080/"
        },
        "outputId": "babab5fc-c3a5-4128-c0dc-e821599e9565",
        "id": "2X8SIngxvnVe"
      },
      "execution_count": null,
      "outputs": [
        {
          "output_type": "stream",
          "name": "stdout",
          "text": [
            "Epoch 1/10\n",
            "25/25 [==============================] - 13s 505ms/step - loss: 2.7787 - accuracy: 0.3720\n",
            "Epoch 2/10\n",
            "25/25 [==============================] - 13s 504ms/step - loss: 0.2170 - accuracy: 0.9344\n",
            "Epoch 3/10\n",
            "25/25 [==============================] - 13s 504ms/step - loss: 0.0526 - accuracy: 0.9823\n",
            "Epoch 4/10\n",
            "25/25 [==============================] - 13s 502ms/step - loss: 0.0125 - accuracy: 0.9975\n",
            "Epoch 5/10\n",
            "25/25 [==============================] - 13s 502ms/step - loss: 0.0047 - accuracy: 1.0000\n",
            "Epoch 6/10\n",
            "25/25 [==============================] - 13s 504ms/step - loss: 0.0018 - accuracy: 1.0000\n",
            "Epoch 7/10\n",
            "25/25 [==============================] - 15s 594ms/step - loss: 5.5390e-04 - accuracy: 1.0000\n",
            "Epoch 8/10\n",
            "25/25 [==============================] - 13s 521ms/step - loss: 3.6355e-04 - accuracy: 1.0000\n",
            "Epoch 9/10\n",
            "25/25 [==============================] - 13s 505ms/step - loss: 2.6994e-04 - accuracy: 1.0000\n",
            "Epoch 10/10\n",
            "25/25 [==============================] - 13s 506ms/step - loss: 2.4316e-04 - accuracy: 1.0000\n"
          ]
        },
        {
          "output_type": "execute_result",
          "data": {
            "text/plain": [
              "<keras.callbacks.History at 0x7f655f9a8b50>"
            ]
          },
          "metadata": {},
          "execution_count": 88
        }
      ]
    },
    {
      "cell_type": "code",
      "source": [
        "model2ddeep2.evaluate(X_test3, y_test3)"
      ],
      "metadata": {
        "colab": {
          "base_uri": "https://localhost:8080/"
        },
        "outputId": "f359a60c-82f8-4db2-dd73-535a8225c31b",
        "id": "sT_PClwqvnVe"
      },
      "execution_count": null,
      "outputs": [
        {
          "output_type": "stream",
          "name": "stdout",
          "text": [
            "7/7 [==============================] - 1s 152ms/step - loss: 0.1803 - accuracy: 0.9497\n"
          ]
        },
        {
          "output_type": "execute_result",
          "data": {
            "text/plain": [
              "[0.18029558658599854, 0.9497487545013428]"
            ]
          },
          "metadata": {},
          "execution_count": 89
        }
      ]
    },
    {
      "cell_type": "markdown",
      "source": [
        "# **Simple RNN model**"
      ],
      "metadata": {
        "id": "6zukrPx6xOAR"
      }
    },
    {
      "cell_type": "code",
      "source": [
        "# design the neural network model\n",
        "modelrnn = keras.Sequential()\n",
        "modelrnn.add(layers.SimpleRNN(128, activation='relu',input_shape=(128,768)))\n",
        "modelrnn.add(layers.Flatten())\n",
        "modelrnn.add(layers.Dense(10,activation=tf.nn.softmax))\n",
        "#model2d.build(input_shape=(128,768))"
      ],
      "metadata": {
        "id": "XHR4O0IzxOAR"
      },
      "execution_count": null,
      "outputs": []
    },
    {
      "cell_type": "code",
      "source": [
        "modelrnn.summary()"
      ],
      "metadata": {
        "colab": {
          "base_uri": "https://localhost:8080/"
        },
        "outputId": "52c2ebf1-7141-4539-83d4-35669b5e804c",
        "id": "7yBdfo2SxOAR"
      },
      "execution_count": null,
      "outputs": [
        {
          "output_type": "stream",
          "name": "stdout",
          "text": [
            "Model: \"sequential_12\"\n",
            "_________________________________________________________________\n",
            " Layer (type)                Output Shape              Param #   \n",
            "=================================================================\n",
            " simple_rnn (SimpleRNN)      (None, 128)               114816    \n",
            "                                                                 \n",
            " flatten_5 (Flatten)         (None, 128)               0         \n",
            "                                                                 \n",
            " dense_31 (Dense)            (None, 10)                1290      \n",
            "                                                                 \n",
            "=================================================================\n",
            "Total params: 116,106\n",
            "Trainable params: 116,106\n",
            "Non-trainable params: 0\n",
            "_________________________________________________________________\n"
          ]
        }
      ]
    },
    {
      "cell_type": "code",
      "source": [
        "#Defining metrics for model evaluation\n",
        "modelrnn.compile(loss='sparse_categorical_crossentropy', optimizer='adam',metrics=['accuracy'])"
      ],
      "metadata": {
        "id": "AOzGcEksxOAS"
      },
      "execution_count": null,
      "outputs": []
    },
    {
      "cell_type": "code",
      "source": [
        "#Model fitting and generating names\n",
        "modelrnn.fit(x = X_train3, y = y_train3, epochs=10, verbose=1)"
      ],
      "metadata": {
        "colab": {
          "base_uri": "https://localhost:8080/"
        },
        "outputId": "c7310fd4-503b-41a7-b056-e3ce5f01894f",
        "id": "EiJxdncDxOAS"
      },
      "execution_count": null,
      "outputs": [
        {
          "output_type": "stream",
          "name": "stdout",
          "text": [
            "Epoch 1/10\n",
            "25/25 [==============================] - 4s 115ms/step - loss: 1.7564 - accuracy: 0.3934\n",
            "Epoch 2/10\n",
            "25/25 [==============================] - 3s 116ms/step - loss: 0.6599 - accuracy: 0.8033\n",
            "Epoch 3/10\n",
            "25/25 [==============================] - 3s 118ms/step - loss: 0.3003 - accuracy: 0.9206\n",
            "Epoch 4/10\n",
            "25/25 [==============================] - 3s 117ms/step - loss: 0.1153 - accuracy: 0.9723\n",
            "Epoch 5/10\n",
            "25/25 [==============================] - 3s 115ms/step - loss: 0.0476 - accuracy: 0.9962\n",
            "Epoch 6/10\n",
            "25/25 [==============================] - 3s 112ms/step - loss: 0.0266 - accuracy: 0.9975\n",
            "Epoch 7/10\n",
            "25/25 [==============================] - 3s 113ms/step - loss: 0.0293 - accuracy: 0.9987\n",
            "Epoch 8/10\n",
            "25/25 [==============================] - 3s 113ms/step - loss: 0.0139 - accuracy: 1.0000\n",
            "Epoch 9/10\n",
            "25/25 [==============================] - 3s 113ms/step - loss: 0.0246 - accuracy: 0.9962\n",
            "Epoch 10/10\n",
            "25/25 [==============================] - 3s 115ms/step - loss: 0.0254 - accuracy: 0.9950\n"
          ]
        },
        {
          "output_type": "execute_result",
          "data": {
            "text/plain": [
              "<keras.callbacks.History at 0x7f655a736f10>"
            ]
          },
          "metadata": {},
          "execution_count": 93
        }
      ]
    },
    {
      "cell_type": "code",
      "source": [
        "modelrnn.evaluate(X_test3, y_test3)"
      ],
      "metadata": {
        "colab": {
          "base_uri": "https://localhost:8080/"
        },
        "outputId": "207246d8-a705-4d34-a8a7-f348d730287c",
        "id": "7dZhjQhgxOAS"
      },
      "execution_count": null,
      "outputs": [
        {
          "output_type": "stream",
          "name": "stdout",
          "text": [
            "7/7 [==============================] - 1s 39ms/step - loss: 0.5897 - accuracy: 0.8342\n"
          ]
        },
        {
          "output_type": "execute_result",
          "data": {
            "text/plain": [
              "[0.5896950364112854, 0.8341708779335022]"
            ]
          },
          "metadata": {},
          "execution_count": 94
        }
      ]
    },
    {
      "cell_type": "code",
      "source": [],
      "metadata": {
        "id": "xslHA6VU1fgg"
      },
      "execution_count": null,
      "outputs": []
    },
    {
      "cell_type": "markdown",
      "source": [
        "\n",
        "# **GRU model**"
      ],
      "metadata": {
        "id": "TmozRjoZ1f2k"
      }
    },
    {
      "cell_type": "code",
      "source": [
        "# design the neural network model\n",
        "modelgru = keras.Sequential()\n",
        "modelgru.add(layers.GRU(128, activation='relu',input_shape=(128,768)))\n",
        "modelgru.add(layers.Flatten())\n",
        "modelgru.add(layers.Dense(10,activation=tf.nn.softmax))\n",
        "#model2d.build(input_shape=(128,768))"
      ],
      "metadata": {
        "id": "ByCY4Nts1f2l"
      },
      "execution_count": null,
      "outputs": []
    },
    {
      "cell_type": "code",
      "source": [
        "modelgru.summary()"
      ],
      "metadata": {
        "colab": {
          "base_uri": "https://localhost:8080/"
        },
        "outputId": "cdb38e35-0124-401f-a455-a4606c831fe3",
        "id": "uz98ove91f2l"
      },
      "execution_count": null,
      "outputs": [
        {
          "output_type": "stream",
          "name": "stdout",
          "text": [
            "Model: \"sequential_13\"\n",
            "_________________________________________________________________\n",
            " Layer (type)                Output Shape              Param #   \n",
            "=================================================================\n",
            " gru (GRU)                   (None, 128)               344832    \n",
            "                                                                 \n",
            " flatten_6 (Flatten)         (None, 128)               0         \n",
            "                                                                 \n",
            " dense_32 (Dense)            (None, 10)                1290      \n",
            "                                                                 \n",
            "=================================================================\n",
            "Total params: 346,122\n",
            "Trainable params: 346,122\n",
            "Non-trainable params: 0\n",
            "_________________________________________________________________\n"
          ]
        }
      ]
    },
    {
      "cell_type": "code",
      "source": [
        "#Defining metrics for model evaluation\n",
        "modelgru.compile(loss='sparse_categorical_crossentropy', optimizer='adam',metrics=['accuracy'])"
      ],
      "metadata": {
        "id": "w3WNbxqj1f2l"
      },
      "execution_count": null,
      "outputs": []
    },
    {
      "cell_type": "code",
      "source": [
        "#Model fitting and generating names\n",
        "modelgru.fit(x = X_train3, y = y_train3, epochs=10, verbose=1)"
      ],
      "metadata": {
        "colab": {
          "base_uri": "https://localhost:8080/"
        },
        "outputId": "d61860c5-9d96-42b0-ab9c-a19790f547e5",
        "id": "2sc91wgo1f2l"
      },
      "execution_count": null,
      "outputs": [
        {
          "output_type": "stream",
          "name": "stdout",
          "text": [
            "Epoch 1/10\n",
            "25/25 [==============================] - 8s 269ms/step - loss: 1.5886 - accuracy: 0.5120\n",
            "Epoch 2/10\n",
            "25/25 [==============================] - 7s 271ms/step - loss: 0.4352 - accuracy: 0.8840\n",
            "Epoch 3/10\n",
            "25/25 [==============================] - 7s 268ms/step - loss: 0.1443 - accuracy: 0.9660\n",
            "Epoch 4/10\n",
            "25/25 [==============================] - 7s 270ms/step - loss: 0.0392 - accuracy: 0.9937\n",
            "Epoch 5/10\n",
            "25/25 [==============================] - 7s 268ms/step - loss: 0.0142 - accuracy: 1.0000\n",
            "Epoch 6/10\n",
            "25/25 [==============================] - 7s 273ms/step - loss: 0.0064 - accuracy: 1.0000\n",
            "Epoch 7/10\n",
            "25/25 [==============================] - 7s 270ms/step - loss: 0.0030 - accuracy: 1.0000\n",
            "Epoch 8/10\n",
            "25/25 [==============================] - 7s 267ms/step - loss: 0.0264 - accuracy: 0.9950\n",
            "Epoch 9/10\n",
            "25/25 [==============================] - 7s 268ms/step - loss: 0.0131 - accuracy: 1.0000\n",
            "Epoch 10/10\n",
            "25/25 [==============================] - 7s 269ms/step - loss: 0.0037 - accuracy: 1.0000\n"
          ]
        },
        {
          "output_type": "execute_result",
          "data": {
            "text/plain": [
              "<keras.callbacks.History at 0x7f655a666ad0>"
            ]
          },
          "metadata": {},
          "execution_count": 98
        }
      ]
    },
    {
      "cell_type": "code",
      "source": [
        "modelgru.evaluate(X_test3, y_test3)"
      ],
      "metadata": {
        "colab": {
          "base_uri": "https://localhost:8080/"
        },
        "outputId": "ea22cb2f-9927-445b-f496-e6427cc54ef5",
        "id": "66uBMs8w1f2m"
      },
      "execution_count": null,
      "outputs": [
        {
          "output_type": "stream",
          "name": "stdout",
          "text": [
            "7/7 [==============================] - 1s 98ms/step - loss: 0.2132 - accuracy: 0.9146\n"
          ]
        },
        {
          "output_type": "execute_result",
          "data": {
            "text/plain": [
              "[0.21324098110198975, 0.9145728349685669]"
            ]
          },
          "metadata": {},
          "execution_count": 99
        }
      ]
    },
    {
      "cell_type": "markdown",
      "source": [
        "\n",
        "# **LSTM model**"
      ],
      "metadata": {
        "id": "cX4MZosG2H15"
      }
    },
    {
      "cell_type": "code",
      "source": [
        "# design the neural network model\n",
        "modellstm = keras.Sequential()\n",
        "modellstm.add(layers.LSTM(128, activation='tanh',input_shape=(128,768)))\n",
        "modellstm.add(layers.Flatten())\n",
        "modellstm.add(layers.Dense(10,activation=tf.nn.softmax))\n",
        "#model2d.build(input_shape=(128,768))"
      ],
      "metadata": {
        "id": "qUODhiiC2H16"
      },
      "execution_count": null,
      "outputs": []
    },
    {
      "cell_type": "code",
      "source": [
        "modellstm.summary()"
      ],
      "metadata": {
        "colab": {
          "base_uri": "https://localhost:8080/"
        },
        "outputId": "8909d1bf-41c3-4b72-8e65-b93ef6ee3381",
        "id": "t3wPbY362H16"
      },
      "execution_count": null,
      "outputs": [
        {
          "output_type": "stream",
          "name": "stdout",
          "text": [
            "Model: \"sequential_1\"\n",
            "_________________________________________________________________\n",
            " Layer (type)                Output Shape              Param #   \n",
            "=================================================================\n",
            " lstm (LSTM)                 (None, 128)               459264    \n",
            "                                                                 \n",
            " flatten_1 (Flatten)         (None, 128)               0         \n",
            "                                                                 \n",
            " dense_2 (Dense)             (None, 10)                1290      \n",
            "                                                                 \n",
            "=================================================================\n",
            "Total params: 460,554\n",
            "Trainable params: 460,554\n",
            "Non-trainable params: 0\n",
            "_________________________________________________________________\n"
          ]
        }
      ]
    },
    {
      "cell_type": "code",
      "source": [
        "#Defining metrics for model evaluation\n",
        "modellstm.compile(loss='sparse_categorical_crossentropy', optimizer='adam',metrics=['accuracy'])"
      ],
      "metadata": {
        "id": "z3LIlz0N2H16"
      },
      "execution_count": null,
      "outputs": []
    },
    {
      "cell_type": "code",
      "source": [
        "#Model fitting and generating names\n",
        "modellstm.fit(x = X_train3, y = y_train3, epochs=10, verbose=1)"
      ],
      "metadata": {
        "colab": {
          "base_uri": "https://localhost:8080/"
        },
        "outputId": "64c7f455-4d98-4398-f039-f0506c5593a7",
        "id": "zNIhj4kY2H16"
      },
      "execution_count": null,
      "outputs": [
        {
          "output_type": "stream",
          "name": "stdout",
          "text": [
            "Epoch 1/10\n",
            "25/25 [==============================] - 11s 350ms/step - loss: 1.2195 - accuracy: 0.6280\n",
            "Epoch 2/10\n",
            "25/25 [==============================] - 9s 352ms/step - loss: 0.2272 - accuracy: 0.9344\n",
            "Epoch 3/10\n",
            "25/25 [==============================] - 9s 346ms/step - loss: 0.1175 - accuracy: 0.9735\n",
            "Epoch 4/10\n",
            "25/25 [==============================] - 9s 347ms/step - loss: 0.0800 - accuracy: 0.9811\n",
            "Epoch 5/10\n",
            "25/25 [==============================] - 9s 350ms/step - loss: 0.0559 - accuracy: 0.9912\n",
            "Epoch 6/10\n",
            "25/25 [==============================] - 9s 356ms/step - loss: 0.0577 - accuracy: 0.9849\n",
            "Epoch 7/10\n",
            "25/25 [==============================] - 9s 352ms/step - loss: 0.0447 - accuracy: 0.9887\n",
            "Epoch 8/10\n",
            "25/25 [==============================] - 9s 352ms/step - loss: 0.0244 - accuracy: 0.9937\n",
            "Epoch 9/10\n",
            "25/25 [==============================] - 9s 352ms/step - loss: 0.0129 - accuracy: 0.9975\n",
            "Epoch 10/10\n",
            "25/25 [==============================] - 9s 346ms/step - loss: 0.0070 - accuracy: 0.9987\n"
          ]
        },
        {
          "output_type": "execute_result",
          "data": {
            "text/plain": [
              "<keras.callbacks.History at 0x7fabc9d74340>"
            ]
          },
          "metadata": {},
          "execution_count": 30
        }
      ]
    },
    {
      "cell_type": "code",
      "source": [
        "modellstm.evaluate(X_test3, y_test3)"
      ],
      "metadata": {
        "colab": {
          "base_uri": "https://localhost:8080/"
        },
        "outputId": "fcf51c02-7853-4e2e-85cc-995bb8d421e1",
        "id": "vbGauaBf2H16"
      },
      "execution_count": null,
      "outputs": [
        {
          "output_type": "stream",
          "name": "stdout",
          "text": [
            "7/7 [==============================] - 2s 133ms/step - loss: 0.2096 - accuracy: 0.9347\n"
          ]
        },
        {
          "output_type": "execute_result",
          "data": {
            "text/plain": [
              "[0.2095666080713272, 0.9346733689308167]"
            ]
          },
          "metadata": {},
          "execution_count": 31
        }
      ]
    },
    {
      "cell_type": "markdown",
      "source": [
        "# **Encoder - decoder**"
      ],
      "metadata": {
        "id": "I-U-d8fZSHpD"
      }
    },
    {
      "cell_type": "code",
      "source": [],
      "metadata": {
        "id": "uclnyl9l28md"
      },
      "execution_count": null,
      "outputs": []
    }
  ]
}